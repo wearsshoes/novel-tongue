{
 "cells": [
  {
   "cell_type": "code",
   "execution_count": null,
   "metadata": {},
   "outputs": [],
   "source": [
    "import requests\n",
    "from bs4 import BeautifulSoup"
   ]
  },
  {
   "cell_type": "code",
   "execution_count": null,
   "metadata": {},
   "outputs": [],
   "source": [
    "base_url = \"http://bilinguis.com/book/alice/es/en/\"\n",
    "chapters = [\"c{}\".format(i) for i in range(1, 3)]"
   ]
  },
  {
   "cell_type": "code",
   "execution_count": null,
   "metadata": {},
   "outputs": [],
   "source": [
    "for chapter in chapters:\n",
    "    url = base_url + chapter\n",
    "\n",
    "    # Send a GET request to the chapter URL\n",
    "    response = requests.get(url)\n",
    "\n",
    "    # Create a BeautifulSoup object and parse the HTML content\n",
    "    soup = BeautifulSoup(response.content, \"html.parser\")\n",
    "\n",
    "    # Find all the div elements with class \"row\"\n",
    "    content_divs = soup.select(\"div.row\")\n",
    "\n",
    "    # Open files for writing the Spanish and English content\n",
    "    with open(f\"{chapter}_es.txt\", \"w\", encoding=\"utf-8\") as es_file, \\\n",
    "        open(f\"{chapter}_en.txt\", \"w\", encoding=\"utf-8\") as en_file:\n",
    "\n",
    "        # Extract the text content from each div\n",
    "        for div in content_divs:\n",
    "            # Find the div elements with lang attribute \"es\" and \"en\"\n",
    "            es_div = div.find(\"div\", lang=\"es\")\n",
    "            en_div = div.find(\"div\", lang=\"en\")\n",
    "\n",
    "            if es_div and en_div:\n",
    "                es_text = es_div.get_text(separator=\"\\n\", strip=False)\n",
    "                en_text = en_div.get_text(separator=\"\\n\", strip=False)\n",
    "\n",
    "                # Split the text into lines and remove empty lines\n",
    "                es_lines = [line.strip() for line in es_text.split(\"\\n\") if line.strip()]\n",
    "                en_lines = [line.strip() for line in en_text.split(\"\\n\") if line.strip()]\n",
    "\n",
    "                # Write the Spanish lines to the Spanish file\n",
    "                for line in es_lines:\n",
    "                    es_file.write(f\"{line}\\n\")\n",
    "\n",
    "                # Write the English lines to the English file\n",
    "                for line in en_lines:\n",
    "                    en_file.write(f\"{line}\\n\")\n",
    "\n",
    "        # Write a separator line to the files\n",
    "        es_file.write(\"\\n\")\n",
    "        en_file.write(\"\\n\")\n",
    "\n",
    "    print(f\"Chapter {chapter} saved to {chapter}_es.txt and {chapter}_en.txt\")"
   ]
  }
 ],
 "metadata": {
  "kernelspec": {
   "display_name": "venv",
   "language": "python",
   "name": "python3"
  },
  "language_info": {
   "name": "python",
   "version": "3.12.2"
  }
 },
 "nbformat": 4,
 "nbformat_minor": 2
}
