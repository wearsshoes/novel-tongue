{
  "cells": [
    {
      "cell_type": "markdown",
      "metadata": {
        "colab_type": "text",
        "id": "view-in-github"
      },
      "source": [
        "<a href=\"https://colab.research.google.com/github/wearsshoes/novel-tongue/blob/main/awesome_align.ipynb\" target=\"_parent\"><img src=\"https://colab.research.google.com/assets/colab-badge.svg\" alt=\"Open In Colab\"/></a>"
      ]
    },
    {
      "cell_type": "markdown",
      "metadata": {
        "id": "Hjc7LvIQbuMn"
      },
      "source": [
        "# AWESOME: Aligning Word Embedding Spaces of Multilingual Encoders"
      ]
    },
    {
      "cell_type": "markdown",
      "metadata": {
        "id": "7ipxcuO9vDgZ"
      },
      "source": [
        "[``awesome-align``](https://github.com/neulab/awesome-align) is a tool that can extract word alignments from multilingual BERT (mBERT) and allows you to fine-tune mBERT on parallel corpora for better alignment quality (see [our paper](https://arxiv.org/abs/2101.08231) for more details).\n",
        "\n",
        "This is a simple demo of how `awesome-align` extracts word alignments from mBERT."
      ]
    },
    {
      "cell_type": "markdown",
      "metadata": {
        "id": "bJpRK-1_wQsJ"
      },
      "source": [
        "First, install and import the following packages. (Note that the original `awesome-align` tool does not require the `transformers` package.)"
      ]
    },
    {
      "cell_type": "code",
      "execution_count": 2,
      "metadata": {
        "colab": {
          "base_uri": "https://localhost:8080/"
        },
        "id": "ODwJ_gQ8bnqR",
        "outputId": "1d7a4129-5b53-4a13-dc6f-550f2c1426ce"
      },
      "outputs": [
        {
          "name": "stdout",
          "output_type": "stream",
          "text": [
            "Collecting transformers==3.1.0\n",
            "  Using cached transformers-3.1.0-py3-none-any.whl (884 kB)\n",
            "Collecting numpy (from transformers==3.1.0)\n",
            "  Using cached numpy-1.26.4-cp311-cp311-macosx_11_0_arm64.whl (14.0 MB)\n",
            "Collecting tokenizers==0.8.1.rc2 (from transformers==3.1.0)\n",
            "  Using cached tokenizers-0.8.1rc2.tar.gz (97 kB)\n",
            "  Installing build dependencies ... \u001b[?25ldone\n",
            "\u001b[?25h  Getting requirements to build wheel ... \u001b[?25ldone\n",
            "\u001b[?25h  Preparing metadata (pyproject.toml) ... \u001b[?25ldone\n",
            "\u001b[?25hRequirement already satisfied: packaging in /Users/rachelshu/.pyenv/versions/3.11.3/lib/python3.11/site-packages (from transformers==3.1.0) (24.0)\n",
            "Requirement already satisfied: filelock in /Users/rachelshu/.pyenv/versions/3.11.3/lib/python3.11/site-packages (from transformers==3.1.0) (3.12.0)\n",
            "Requirement already satisfied: requests in /Users/rachelshu/.pyenv/versions/3.11.3/lib/python3.11/site-packages (from transformers==3.1.0) (2.31.0)\n",
            "Collecting tqdm>=4.27 (from transformers==3.1.0)\n",
            "  Using cached tqdm-4.66.4-py3-none-any.whl (78 kB)\n",
            "Collecting regex!=2019.12.17 (from transformers==3.1.0)\n",
            "  Using cached regex-2024.5.10-cp311-cp311-macosx_11_0_arm64.whl (278 kB)\n",
            "Collecting sentencepiece!=0.1.92 (from transformers==3.1.0)\n",
            "  Using cached sentencepiece-0.2.0-cp311-cp311-macosx_11_0_arm64.whl (1.2 MB)\n",
            "Collecting sacremoses (from transformers==3.1.0)\n",
            "  Using cached sacremoses-0.1.1-py3-none-any.whl (897 kB)\n",
            "Requirement already satisfied: charset-normalizer<4,>=2 in /Users/rachelshu/.pyenv/versions/3.11.3/lib/python3.11/site-packages (from requests->transformers==3.1.0) (3.2.0)\n",
            "Requirement already satisfied: idna<4,>=2.5 in /Users/rachelshu/.pyenv/versions/3.11.3/lib/python3.11/site-packages (from requests->transformers==3.1.0) (3.4)\n",
            "Requirement already satisfied: urllib3<3,>=1.21.1 in /Users/rachelshu/.pyenv/versions/3.11.3/lib/python3.11/site-packages (from requests->transformers==3.1.0) (2.0.4)\n",
            "Requirement already satisfied: certifi>=2017.4.17 in /Users/rachelshu/.pyenv/versions/3.11.3/lib/python3.11/site-packages (from requests->transformers==3.1.0) (2023.7.22)\n",
            "Collecting click (from sacremoses->transformers==3.1.0)\n",
            "  Using cached click-8.1.7-py3-none-any.whl (97 kB)\n",
            "Collecting joblib (from sacremoses->transformers==3.1.0)\n",
            "  Using cached joblib-1.4.2-py3-none-any.whl (301 kB)\n",
            "Building wheels for collected packages: tokenizers\n",
            "  Building wheel for tokenizers (pyproject.toml) ... \u001b[?25lerror\n",
            "  \u001b[1;31merror\u001b[0m: \u001b[1msubprocess-exited-with-error\u001b[0m\n",
            "  \n",
            "  \u001b[31m×\u001b[0m \u001b[32mBuilding wheel for tokenizers \u001b[0m\u001b[1;32m(\u001b[0m\u001b[32mpyproject.toml\u001b[0m\u001b[1;32m)\u001b[0m did not run successfully.\n",
            "  \u001b[31m│\u001b[0m exit code: \u001b[1;36m1\u001b[0m\n",
            "  \u001b[31m╰─>\u001b[0m \u001b[31m[165 lines of output]\u001b[0m\n",
            "  \u001b[31m   \u001b[0m /private/var/folders/ft/qhgfddkj6wd4tft807wv19p00000gn/T/pip-build-env-wd3l50u_/overlay/lib/python3.11/site-packages/setuptools/dist.py:318: InformationOnly: Normalizing '0.8.1.rc2' to '0.8.1rc2'\n",
            "  \u001b[31m   \u001b[0m   self.metadata.version = self._normalize_version(self.metadata.version)\n",
            "  \u001b[31m   \u001b[0m running bdist_wheel\n",
            "  \u001b[31m   \u001b[0m running build\n",
            "  \u001b[31m   \u001b[0m running build_py\n",
            "  \u001b[31m   \u001b[0m creating build\n",
            "  \u001b[31m   \u001b[0m creating build/lib.macosx-13.3-arm64-cpython-311\n",
            "  \u001b[31m   \u001b[0m creating build/lib.macosx-13.3-arm64-cpython-311/tokenizers\n",
            "  \u001b[31m   \u001b[0m copying tokenizers/__init__.py -> build/lib.macosx-13.3-arm64-cpython-311/tokenizers\n",
            "  \u001b[31m   \u001b[0m creating build/lib.macosx-13.3-arm64-cpython-311/tokenizers/models\n",
            "  \u001b[31m   \u001b[0m copying tokenizers/models/__init__.py -> build/lib.macosx-13.3-arm64-cpython-311/tokenizers/models\n",
            "  \u001b[31m   \u001b[0m creating build/lib.macosx-13.3-arm64-cpython-311/tokenizers/decoders\n",
            "  \u001b[31m   \u001b[0m copying tokenizers/decoders/__init__.py -> build/lib.macosx-13.3-arm64-cpython-311/tokenizers/decoders\n",
            "  \u001b[31m   \u001b[0m creating build/lib.macosx-13.3-arm64-cpython-311/tokenizers/normalizers\n",
            "  \u001b[31m   \u001b[0m copying tokenizers/normalizers/__init__.py -> build/lib.macosx-13.3-arm64-cpython-311/tokenizers/normalizers\n",
            "  \u001b[31m   \u001b[0m creating build/lib.macosx-13.3-arm64-cpython-311/tokenizers/pre_tokenizers\n",
            "  \u001b[31m   \u001b[0m copying tokenizers/pre_tokenizers/__init__.py -> build/lib.macosx-13.3-arm64-cpython-311/tokenizers/pre_tokenizers\n",
            "  \u001b[31m   \u001b[0m creating build/lib.macosx-13.3-arm64-cpython-311/tokenizers/processors\n",
            "  \u001b[31m   \u001b[0m copying tokenizers/processors/__init__.py -> build/lib.macosx-13.3-arm64-cpython-311/tokenizers/processors\n",
            "  \u001b[31m   \u001b[0m creating build/lib.macosx-13.3-arm64-cpython-311/tokenizers/trainers\n",
            "  \u001b[31m   \u001b[0m copying tokenizers/trainers/__init__.py -> build/lib.macosx-13.3-arm64-cpython-311/tokenizers/trainers\n",
            "  \u001b[31m   \u001b[0m creating build/lib.macosx-13.3-arm64-cpython-311/tokenizers/implementations\n",
            "  \u001b[31m   \u001b[0m copying tokenizers/implementations/byte_level_bpe.py -> build/lib.macosx-13.3-arm64-cpython-311/tokenizers/implementations\n",
            "  \u001b[31m   \u001b[0m copying tokenizers/implementations/sentencepiece_bpe.py -> build/lib.macosx-13.3-arm64-cpython-311/tokenizers/implementations\n",
            "  \u001b[31m   \u001b[0m copying tokenizers/implementations/base_tokenizer.py -> build/lib.macosx-13.3-arm64-cpython-311/tokenizers/implementations\n",
            "  \u001b[31m   \u001b[0m copying tokenizers/implementations/__init__.py -> build/lib.macosx-13.3-arm64-cpython-311/tokenizers/implementations\n",
            "  \u001b[31m   \u001b[0m copying tokenizers/implementations/char_level_bpe.py -> build/lib.macosx-13.3-arm64-cpython-311/tokenizers/implementations\n",
            "  \u001b[31m   \u001b[0m copying tokenizers/implementations/bert_wordpiece.py -> build/lib.macosx-13.3-arm64-cpython-311/tokenizers/implementations\n",
            "  \u001b[31m   \u001b[0m copying tokenizers/__init__.pyi -> build/lib.macosx-13.3-arm64-cpython-311/tokenizers\n",
            "  \u001b[31m   \u001b[0m copying tokenizers/models/__init__.pyi -> build/lib.macosx-13.3-arm64-cpython-311/tokenizers/models\n",
            "  \u001b[31m   \u001b[0m copying tokenizers/decoders/__init__.pyi -> build/lib.macosx-13.3-arm64-cpython-311/tokenizers/decoders\n",
            "  \u001b[31m   \u001b[0m copying tokenizers/normalizers/__init__.pyi -> build/lib.macosx-13.3-arm64-cpython-311/tokenizers/normalizers\n",
            "  \u001b[31m   \u001b[0m copying tokenizers/pre_tokenizers/__init__.pyi -> build/lib.macosx-13.3-arm64-cpython-311/tokenizers/pre_tokenizers\n",
            "  \u001b[31m   \u001b[0m copying tokenizers/processors/__init__.pyi -> build/lib.macosx-13.3-arm64-cpython-311/tokenizers/processors\n",
            "  \u001b[31m   \u001b[0m copying tokenizers/trainers/__init__.pyi -> build/lib.macosx-13.3-arm64-cpython-311/tokenizers/trainers\n",
            "  \u001b[31m   \u001b[0m running build_ext\n",
            "  \u001b[31m   \u001b[0m running build_rust\n",
            "  \u001b[31m   \u001b[0m \u001b[1m\u001b[32m    Updating\u001b[0m crates.io index\n",
            "  \u001b[31m   \u001b[0m \u001b[1m\u001b[32m    Updating\u001b[0m git repository `https://github.com/n1t0/rayon-cond`\n",
            "  \u001b[31m   \u001b[0m cargo rustc --lib --message-format=json-render-diagnostics --manifest-path Cargo.toml --release -v --features pyo3/extension-module --crate-type cdylib -- -C link-args=-undefined dynamic_lookup -Wl,-install_name,@rpath/tokenizers.cpython-311-darwin.so\n",
            "  \u001b[31m   \u001b[0m \u001b[1m\u001b[33mwarning\u001b[0m\u001b[1m:\u001b[0m unused manifest key: target.x86_64-apple-darwin.rustflags\n",
            "  \u001b[31m   \u001b[0m \u001b[1m\u001b[32m   Compiling\u001b[0m proc-macro2 v1.0.82\n",
            "  \u001b[31m   \u001b[0m \u001b[1m\u001b[32m   Compiling\u001b[0m unicode-ident v1.0.12\n",
            "  \u001b[31m   \u001b[0m \u001b[1m\u001b[32m   Compiling\u001b[0m libc v0.2.154\n",
            "  \u001b[31m   \u001b[0m \u001b[1m\u001b[32m   Compiling\u001b[0m syn v1.0.109\n",
            "  \u001b[31m   \u001b[0m \u001b[1m\u001b[32m   Compiling\u001b[0m serde v1.0.201\n",
            "  \u001b[31m   \u001b[0m \u001b[1m\u001b[32m   Compiling\u001b[0m crossbeam-utils v0.8.19\n",
            "  \u001b[31m   \u001b[0m \u001b[1m\u001b[32m   Compiling\u001b[0m serde_json v1.0.117\n",
            "  \u001b[31m   \u001b[0m \u001b[1m\u001b[32m   Compiling\u001b[0m proc-macro-hack v0.5.20+deprecated\n",
            "  \u001b[31m   \u001b[0m \u001b[1m\u001b[32m   Compiling\u001b[0m getrandom v0.1.16\n",
            "  \u001b[31m   \u001b[0m \u001b[1m\u001b[32m   Compiling\u001b[0m memchr v2.7.2\n",
            "  \u001b[31m   \u001b[0m \u001b[1m\u001b[32m     Running\u001b[0m `rustc --crate-name build_script_build --edition=2021 /Users/rachelshu/.cargo/registry/src/index.crates.io-6f17d22bba15001f/proc-macro2-1.0.82/build.rs --error-format=json --json=diagnostic-rendered-ansi,artifacts,future-incompat --crate-type bin --emit=dep-info,link -C embed-bitcode=no -C debug-assertions=off --cfg 'feature=\"default\"' --cfg 'feature=\"proc-macro\"' -C metadata=9273a97db8525d8a -C extra-filename=-9273a97db8525d8a --out-dir /private/var/folders/ft/qhgfddkj6wd4tft807wv19p00000gn/T/pip-install-jph3o8z2/tokenizers_a49f6820d17048ed9e1e64b96c90777b/target/release/build/proc-macro2-9273a97db8525d8a -C strip=debuginfo -L dependency=/private/var/folders/ft/qhgfddkj6wd4tft807wv19p00000gn/T/pip-install-jph3o8z2/tokenizers_a49f6820d17048ed9e1e64b96c90777b/target/release/deps --cap-lints allow`\n",
            "  \u001b[31m   \u001b[0m \u001b[1m\u001b[32m     Running\u001b[0m `rustc --crate-name build_script_build /Users/rachelshu/.cargo/registry/src/index.crates.io-6f17d22bba15001f/libc-0.2.154/build.rs --error-format=json --json=diagnostic-rendered-ansi,artifacts,future-incompat --crate-type bin --emit=dep-info,link -C embed-bitcode=no -C debug-assertions=off --cfg 'feature=\"default\"' --cfg 'feature=\"std\"' -C metadata=59e07094bb26cac4 -C extra-filename=-59e07094bb26cac4 --out-dir /private/var/folders/ft/qhgfddkj6wd4tft807wv19p00000gn/T/pip-install-jph3o8z2/tokenizers_a49f6820d17048ed9e1e64b96c90777b/target/release/build/libc-59e07094bb26cac4 -C strip=debuginfo -L dependency=/private/var/folders/ft/qhgfddkj6wd4tft807wv19p00000gn/T/pip-install-jph3o8z2/tokenizers_a49f6820d17048ed9e1e64b96c90777b/target/release/deps --cap-lints allow`\n",
            "  \u001b[31m   \u001b[0m \u001b[1m\u001b[32m     Running\u001b[0m `rustc --crate-name unicode_ident --edition=2018 /Users/rachelshu/.cargo/registry/src/index.crates.io-6f17d22bba15001f/unicode-ident-1.0.12/src/lib.rs --error-format=json --json=diagnostic-rendered-ansi,artifacts,future-incompat --crate-type lib --emit=dep-info,metadata,link -C embed-bitcode=no -C debug-assertions=off -C metadata=9251005c4dcf67b9 -C extra-filename=-9251005c4dcf67b9 --out-dir /private/var/folders/ft/qhgfddkj6wd4tft807wv19p00000gn/T/pip-install-jph3o8z2/tokenizers_a49f6820d17048ed9e1e64b96c90777b/target/release/deps -C strip=debuginfo -L dependency=/private/var/folders/ft/qhgfddkj6wd4tft807wv19p00000gn/T/pip-install-jph3o8z2/tokenizers_a49f6820d17048ed9e1e64b96c90777b/target/release/deps --cap-lints allow`\n",
            "  \u001b[31m   \u001b[0m \u001b[1m\u001b[32m     Running\u001b[0m `rustc --crate-name build_script_build --edition=2018 /Users/rachelshu/.cargo/registry/src/index.crates.io-6f17d22bba15001f/getrandom-0.1.16/build.rs --error-format=json --json=diagnostic-rendered-ansi,artifacts,future-incompat --crate-type bin --emit=dep-info,link -C embed-bitcode=no -C debug-assertions=off --cfg 'feature=\"std\"' -C metadata=ad14df0ed1251b08 -C extra-filename=-ad14df0ed1251b08 --out-dir /private/var/folders/ft/qhgfddkj6wd4tft807wv19p00000gn/T/pip-install-jph3o8z2/tokenizers_a49f6820d17048ed9e1e64b96c90777b/target/release/build/getrandom-ad14df0ed1251b08 -C strip=debuginfo -L dependency=/private/var/folders/ft/qhgfddkj6wd4tft807wv19p00000gn/T/pip-install-jph3o8z2/tokenizers_a49f6820d17048ed9e1e64b96c90777b/target/release/deps --cap-lints allow`\n",
            "  \u001b[31m   \u001b[0m \u001b[1m\u001b[32m     Running\u001b[0m `rustc --crate-name build_script_build --edition=2018 /Users/rachelshu/.cargo/registry/src/index.crates.io-6f17d22bba15001f/syn-1.0.109/build.rs --error-format=json --json=diagnostic-rendered-ansi,artifacts,future-incompat --crate-type bin --emit=dep-info,link -C embed-bitcode=no -C debug-assertions=off --cfg 'feature=\"clone-impls\"' --cfg 'feature=\"default\"' --cfg 'feature=\"derive\"' --cfg 'feature=\"extra-traits\"' --cfg 'feature=\"full\"' --cfg 'feature=\"parsing\"' --cfg 'feature=\"printing\"' --cfg 'feature=\"proc-macro\"' --cfg 'feature=\"quote\"' -C metadata=7d55dc40d2e087fb -C extra-filename=-7d55dc40d2e087fb --out-dir /private/var/folders/ft/qhgfddkj6wd4tft807wv19p00000gn/T/pip-install-jph3o8z2/tokenizers_a49f6820d17048ed9e1e64b96c90777b/target/release/build/syn-7d55dc40d2e087fb -C strip=debuginfo -L dependency=/private/var/folders/ft/qhgfddkj6wd4tft807wv19p00000gn/T/pip-install-jph3o8z2/tokenizers_a49f6820d17048ed9e1e64b96c90777b/target/release/deps --cap-lints allow`\n",
            "  \u001b[31m   \u001b[0m \u001b[1m\u001b[32m     Running\u001b[0m `rustc --crate-name build_script_build --edition=2018 /Users/rachelshu/.cargo/registry/src/index.crates.io-6f17d22bba15001f/serde-1.0.201/build.rs --error-format=json --json=diagnostic-rendered-ansi,artifacts,future-incompat --crate-type bin --emit=dep-info,link -C embed-bitcode=no -C debug-assertions=off --cfg 'feature=\"default\"' --cfg 'feature=\"derive\"' --cfg 'feature=\"serde_derive\"' --cfg 'feature=\"std\"' -C metadata=2ed067a106dab4fc -C extra-filename=-2ed067a106dab4fc --out-dir /private/var/folders/ft/qhgfddkj6wd4tft807wv19p00000gn/T/pip-install-jph3o8z2/tokenizers_a49f6820d17048ed9e1e64b96c90777b/target/release/build/serde-2ed067a106dab4fc -C strip=debuginfo -L dependency=/private/var/folders/ft/qhgfddkj6wd4tft807wv19p00000gn/T/pip-install-jph3o8z2/tokenizers_a49f6820d17048ed9e1e64b96c90777b/target/release/deps --cap-lints allow`\n",
            "  \u001b[31m   \u001b[0m \u001b[1m\u001b[32m     Running\u001b[0m `rustc --crate-name memchr --edition=2021 /Users/rachelshu/.cargo/registry/src/index.crates.io-6f17d22bba15001f/memchr-2.7.2/src/lib.rs --error-format=json --json=diagnostic-rendered-ansi,artifacts,future-incompat --crate-type lib --emit=dep-info,metadata,link -C embed-bitcode=no -C debug-assertions=off --cfg 'feature=\"alloc\"' --cfg 'feature=\"std\"' -C metadata=6714fa08edb097ec -C extra-filename=-6714fa08edb097ec --out-dir /private/var/folders/ft/qhgfddkj6wd4tft807wv19p00000gn/T/pip-install-jph3o8z2/tokenizers_a49f6820d17048ed9e1e64b96c90777b/target/release/deps -C strip=debuginfo -L dependency=/private/var/folders/ft/qhgfddkj6wd4tft807wv19p00000gn/T/pip-install-jph3o8z2/tokenizers_a49f6820d17048ed9e1e64b96c90777b/target/release/deps --cap-lints allow`\n",
            "  \u001b[31m   \u001b[0m \u001b[1m\u001b[32m     Running\u001b[0m `rustc --crate-name build_script_build --edition=2021 /Users/rachelshu/.cargo/registry/src/index.crates.io-6f17d22bba15001f/serde_json-1.0.117/build.rs --error-format=json --json=diagnostic-rendered-ansi,artifacts,future-incompat --crate-type bin --emit=dep-info,link -C embed-bitcode=no -C debug-assertions=off --cfg 'feature=\"default\"' --cfg 'feature=\"std\"' -C metadata=2b6171b95ec5e484 -C extra-filename=-2b6171b95ec5e484 --out-dir /private/var/folders/ft/qhgfddkj6wd4tft807wv19p00000gn/T/pip-install-jph3o8z2/tokenizers_a49f6820d17048ed9e1e64b96c90777b/target/release/build/serde_json-2b6171b95ec5e484 -C strip=debuginfo -L dependency=/private/var/folders/ft/qhgfddkj6wd4tft807wv19p00000gn/T/pip-install-jph3o8z2/tokenizers_a49f6820d17048ed9e1e64b96c90777b/target/release/deps --cap-lints allow`\n",
            "  \u001b[31m   \u001b[0m \u001b[1m\u001b[32m     Running\u001b[0m `rustc --crate-name build_script_build --edition=2018 /Users/rachelshu/.cargo/registry/src/index.crates.io-6f17d22bba15001f/proc-macro-hack-0.5.20+deprecated/build.rs --error-format=json --json=diagnostic-rendered-ansi,artifacts,future-incompat --crate-type bin --emit=dep-info,link -C embed-bitcode=no -C debug-assertions=off -C metadata=297bbf98323836d0 -C extra-filename=-297bbf98323836d0 --out-dir /private/var/folders/ft/qhgfddkj6wd4tft807wv19p00000gn/T/pip-install-jph3o8z2/tokenizers_a49f6820d17048ed9e1e64b96c90777b/target/release/build/proc-macro-hack-297bbf98323836d0 -C strip=debuginfo -L dependency=/private/var/folders/ft/qhgfddkj6wd4tft807wv19p00000gn/T/pip-install-jph3o8z2/tokenizers_a49f6820d17048ed9e1e64b96c90777b/target/release/deps --cap-lints allow`\n",
            "  \u001b[31m   \u001b[0m \u001b[1m\u001b[32m     Running\u001b[0m `rustc --crate-name build_script_build --edition=2021 /Users/rachelshu/.cargo/registry/src/index.crates.io-6f17d22bba15001f/crossbeam-utils-0.8.19/build.rs --error-format=json --json=diagnostic-rendered-ansi,artifacts,future-incompat --crate-type bin --emit=dep-info,link -C embed-bitcode=no -C debug-assertions=off --cfg 'feature=\"default\"' --cfg 'feature=\"std\"' -C metadata=47be7ba9c0cf8156 -C extra-filename=-47be7ba9c0cf8156 --out-dir /private/var/folders/ft/qhgfddkj6wd4tft807wv19p00000gn/T/pip-install-jph3o8z2/tokenizers_a49f6820d17048ed9e1e64b96c90777b/target/release/build/crossbeam-utils-47be7ba9c0cf8156 -C strip=debuginfo -L dependency=/private/var/folders/ft/qhgfddkj6wd4tft807wv19p00000gn/T/pip-install-jph3o8z2/tokenizers_a49f6820d17048ed9e1e64b96c90777b/target/release/deps --cap-lints allow`\n",
            "  \u001b[31m   \u001b[0m \u001b[1m\u001b[32m   Compiling\u001b[0m cc v1.0.97\n",
            "  \u001b[31m   \u001b[0m \u001b[1m\u001b[32m     Running\u001b[0m `rustc --crate-name cc --edition=2018 /Users/rachelshu/.cargo/registry/src/index.crates.io-6f17d22bba15001f/cc-1.0.97/src/lib.rs --error-format=json --json=diagnostic-rendered-ansi,artifacts,future-incompat --crate-type lib --emit=dep-info,metadata,link -C embed-bitcode=no -C debug-assertions=off -C metadata=cc10ae97601d5440 -C extra-filename=-cc10ae97601d5440 --out-dir /private/var/folders/ft/qhgfddkj6wd4tft807wv19p00000gn/T/pip-install-jph3o8z2/tokenizers_a49f6820d17048ed9e1e64b96c90777b/target/release/deps -C strip=debuginfo -L dependency=/private/var/folders/ft/qhgfddkj6wd4tft807wv19p00000gn/T/pip-install-jph3o8z2/tokenizers_a49f6820d17048ed9e1e64b96c90777b/target/release/deps --cap-lints allow`\n",
            "  \u001b[31m   \u001b[0m \u001b[1m\u001b[32m   Compiling\u001b[0m regex-syntax v0.8.3\n",
            "  \u001b[31m   \u001b[0m \u001b[1m\u001b[32m     Running\u001b[0m `rustc --crate-name regex_syntax --edition=2021 /Users/rachelshu/.cargo/registry/src/index.crates.io-6f17d22bba15001f/regex-syntax-0.8.3/src/lib.rs --error-format=json --json=diagnostic-rendered-ansi,artifacts,future-incompat --crate-type lib --emit=dep-info,metadata,link -C embed-bitcode=no -C debug-assertions=off --cfg 'feature=\"default\"' --cfg 'feature=\"std\"' --cfg 'feature=\"unicode\"' --cfg 'feature=\"unicode-age\"' --cfg 'feature=\"unicode-bool\"' --cfg 'feature=\"unicode-case\"' --cfg 'feature=\"unicode-gencat\"' --cfg 'feature=\"unicode-perl\"' --cfg 'feature=\"unicode-script\"' --cfg 'feature=\"unicode-segment\"' -C metadata=3ccba4be58e27bf3 -C extra-filename=-3ccba4be58e27bf3 --out-dir /private/var/folders/ft/qhgfddkj6wd4tft807wv19p00000gn/T/pip-install-jph3o8z2/tokenizers_a49f6820d17048ed9e1e64b96c90777b/target/release/deps -C strip=debuginfo -L dependency=/private/var/folders/ft/qhgfddkj6wd4tft807wv19p00000gn/T/pip-install-jph3o8z2/tokenizers_a49f6820d17048ed9e1e64b96c90777b/target/release/deps --cap-lints allow`\n",
            "  \u001b[31m   \u001b[0m \u001b[1m\u001b[32m     Running\u001b[0m `/private/var/folders/ft/qhgfddkj6wd4tft807wv19p00000gn/T/pip-install-jph3o8z2/tokenizers_a49f6820d17048ed9e1e64b96c90777b/target/release/build/crossbeam-utils-47be7ba9c0cf8156/build-script-build`\n",
            "  \u001b[31m   \u001b[0m \u001b[1m\u001b[32m     Running\u001b[0m `/private/var/folders/ft/qhgfddkj6wd4tft807wv19p00000gn/T/pip-install-jph3o8z2/tokenizers_a49f6820d17048ed9e1e64b96c90777b/target/release/build/proc-macro-hack-297bbf98323836d0/build-script-build`\n",
            "  \u001b[31m   \u001b[0m \u001b[1m\u001b[32m     Running\u001b[0m `/private/var/folders/ft/qhgfddkj6wd4tft807wv19p00000gn/T/pip-install-jph3o8z2/tokenizers_a49f6820d17048ed9e1e64b96c90777b/target/release/build/getrandom-ad14df0ed1251b08/build-script-build`\n",
            "  \u001b[31m   \u001b[0m \u001b[1m\u001b[32m     Running\u001b[0m `/private/var/folders/ft/qhgfddkj6wd4tft807wv19p00000gn/T/pip-install-jph3o8z2/tokenizers_a49f6820d17048ed9e1e64b96c90777b/target/release/build/serde-2ed067a106dab4fc/build-script-build`\n",
            "  \u001b[31m   \u001b[0m \u001b[1m\u001b[32m     Running\u001b[0m `/private/var/folders/ft/qhgfddkj6wd4tft807wv19p00000gn/T/pip-install-jph3o8z2/tokenizers_a49f6820d17048ed9e1e64b96c90777b/target/release/build/proc-macro2-9273a97db8525d8a/build-script-build`\n",
            "  \u001b[31m   \u001b[0m \u001b[1m\u001b[32m     Running\u001b[0m `/private/var/folders/ft/qhgfddkj6wd4tft807wv19p00000gn/T/pip-install-jph3o8z2/tokenizers_a49f6820d17048ed9e1e64b96c90777b/target/release/build/syn-7d55dc40d2e087fb/build-script-build`\n",
            "  \u001b[31m   \u001b[0m \u001b[1m\u001b[32m     Running\u001b[0m `/private/var/folders/ft/qhgfddkj6wd4tft807wv19p00000gn/T/pip-install-jph3o8z2/tokenizers_a49f6820d17048ed9e1e64b96c90777b/target/release/build/libc-59e07094bb26cac4/build-script-build`\n",
            "  \u001b[31m   \u001b[0m \u001b[1m\u001b[32m     Running\u001b[0m `rustc --crate-name crossbeam_utils --edition=2021 /Users/rachelshu/.cargo/registry/src/index.crates.io-6f17d22bba15001f/crossbeam-utils-0.8.19/src/lib.rs --error-format=json --json=diagnostic-rendered-ansi,artifacts,future-incompat --crate-type lib --emit=dep-info,metadata,link -C opt-level=3 -C embed-bitcode=no --cfg 'feature=\"default\"' --cfg 'feature=\"std\"' -C metadata=1bcdadca5eec9029 -C extra-filename=-1bcdadca5eec9029 --out-dir /private/var/folders/ft/qhgfddkj6wd4tft807wv19p00000gn/T/pip-install-jph3o8z2/tokenizers_a49f6820d17048ed9e1e64b96c90777b/target/release/deps -C strip=debuginfo -L dependency=/private/var/folders/ft/qhgfddkj6wd4tft807wv19p00000gn/T/pip-install-jph3o8z2/tokenizers_a49f6820d17048ed9e1e64b96c90777b/target/release/deps --cap-lints allow`\n",
            "  \u001b[31m   \u001b[0m \u001b[1m\u001b[32m   Compiling\u001b[0m aho-corasick v1.1.3\n",
            "  \u001b[31m   \u001b[0m \u001b[1m\u001b[32m     Running\u001b[0m `rustc --crate-name aho_corasick --edition=2021 /Users/rachelshu/.cargo/registry/src/index.crates.io-6f17d22bba15001f/aho-corasick-1.1.3/src/lib.rs --error-format=json --json=diagnostic-rendered-ansi,artifacts,future-incompat --crate-type lib --emit=dep-info,metadata,link -C embed-bitcode=no -C debug-assertions=off --cfg 'feature=\"perf-literal\"' --cfg 'feature=\"std\"' -C metadata=8b6558612ebb7cd8 -C extra-filename=-8b6558612ebb7cd8 --out-dir /private/var/folders/ft/qhgfddkj6wd4tft807wv19p00000gn/T/pip-install-jph3o8z2/tokenizers_a49f6820d17048ed9e1e64b96c90777b/target/release/deps -C strip=debuginfo -L dependency=/private/var/folders/ft/qhgfddkj6wd4tft807wv19p00000gn/T/pip-install-jph3o8z2/tokenizers_a49f6820d17048ed9e1e64b96c90777b/target/release/deps --extern memchr=/private/var/folders/ft/qhgfddkj6wd4tft807wv19p00000gn/T/pip-install-jph3o8z2/tokenizers_a49f6820d17048ed9e1e64b96c90777b/target/release/deps/libmemchr-6714fa08edb097ec.rmeta --cap-lints allow`\n",
            "  \u001b[31m   \u001b[0m \u001b[1m\u001b[32m     Running\u001b[0m `rustc --crate-name proc_macro_hack --edition=2018 /Users/rachelshu/.cargo/registry/src/index.crates.io-6f17d22bba15001f/proc-macro-hack-0.5.20+deprecated/src/lib.rs --error-format=json --json=diagnostic-rendered-ansi,artifacts,future-incompat --crate-type proc-macro --emit=dep-info,link -C prefer-dynamic -C embed-bitcode=no -C debug-assertions=off -C metadata=a0658bfea968108b -C extra-filename=-a0658bfea968108b --out-dir /private/var/folders/ft/qhgfddkj6wd4tft807wv19p00000gn/T/pip-install-jph3o8z2/tokenizers_a49f6820d17048ed9e1e64b96c90777b/target/release/deps -C strip=debuginfo -L dependency=/private/var/folders/ft/qhgfddkj6wd4tft807wv19p00000gn/T/pip-install-jph3o8z2/tokenizers_a49f6820d17048ed9e1e64b96c90777b/target/release/deps --extern proc_macro --cap-lints allow`\n",
            "  \u001b[31m   \u001b[0m \u001b[1m\u001b[32m     Running\u001b[0m `/private/var/folders/ft/qhgfddkj6wd4tft807wv19p00000gn/T/pip-install-jph3o8z2/tokenizers_a49f6820d17048ed9e1e64b96c90777b/target/release/build/serde-2ed067a106dab4fc/build-script-build`\n",
            "  \u001b[31m   \u001b[0m \u001b[1m\u001b[32m   Compiling\u001b[0m unicode-width v0.1.12\n",
            "  \u001b[31m   \u001b[0m \u001b[1m\u001b[32m   Compiling\u001b[0m smallvec v1.13.2\n",
            "  \u001b[31m   \u001b[0m \u001b[1m\u001b[32m     Running\u001b[0m `rustc --crate-name unicode_width --edition=2021 /Users/rachelshu/.cargo/registry/src/index.crates.io-6f17d22bba15001f/unicode-width-0.1.12/src/lib.rs --error-format=json --json=diagnostic-rendered-ansi,artifacts,future-incompat --crate-type lib --emit=dep-info,metadata,link -C opt-level=3 -C embed-bitcode=no --cfg 'feature=\"default\"' -C metadata=a76eeb34302b14d0 -C extra-filename=-a76eeb34302b14d0 --out-dir /private/var/folders/ft/qhgfddkj6wd4tft807wv19p00000gn/T/pip-install-jph3o8z2/tokenizers_a49f6820d17048ed9e1e64b96c90777b/target/release/deps -C strip=debuginfo -L dependency=/private/var/folders/ft/qhgfddkj6wd4tft807wv19p00000gn/T/pip-install-jph3o8z2/tokenizers_a49f6820d17048ed9e1e64b96c90777b/target/release/deps --cap-lints allow`\n",
            "  \u001b[31m   \u001b[0m \u001b[1m\u001b[32m     Running\u001b[0m `rustc --crate-name smallvec --edition=2018 /Users/rachelshu/.cargo/registry/src/index.crates.io-6f17d22bba15001f/smallvec-1.13.2/src/lib.rs --error-format=json --json=diagnostic-rendered-ansi,artifacts,future-incompat --crate-type lib --emit=dep-info,metadata,link -C opt-level=3 -C embed-bitcode=no -C metadata=9df934ff724209ff -C extra-filename=-9df934ff724209ff --out-dir /private/var/folders/ft/qhgfddkj6wd4tft807wv19p00000gn/T/pip-install-jph3o8z2/tokenizers_a49f6820d17048ed9e1e64b96c90777b/target/release/deps -C strip=debuginfo -L dependency=/private/var/folders/ft/qhgfddkj6wd4tft807wv19p00000gn/T/pip-install-jph3o8z2/tokenizers_a49f6820d17048ed9e1e64b96c90777b/target/release/deps --cap-lints allow`\n",
            "  \u001b[31m   \u001b[0m \u001b[1m\u001b[32m   Compiling\u001b[0m crossbeam-epoch v0.9.18\n",
            "  \u001b[31m   \u001b[0m \u001b[1m\u001b[32m     Running\u001b[0m `rustc --crate-name crossbeam_epoch --edition=2021 /Users/rachelshu/.cargo/registry/src/index.crates.io-6f17d22bba15001f/crossbeam-epoch-0.9.18/src/lib.rs --error-format=json --json=diagnostic-rendered-ansi,artifacts,future-incompat --crate-type lib --emit=dep-info,metadata,link -C opt-level=3 -C embed-bitcode=no --cfg 'feature=\"alloc\"' --cfg 'feature=\"std\"' -C metadata=7d0655dfa2757126 -C extra-filename=-7d0655dfa2757126 --out-dir /private/var/folders/ft/qhgfddkj6wd4tft807wv19p00000gn/T/pip-install-jph3o8z2/tokenizers_a49f6820d17048ed9e1e64b96c90777b/target/release/deps -C strip=debuginfo -L dependency=/private/var/folders/ft/qhgfddkj6wd4tft807wv19p00000gn/T/pip-install-jph3o8z2/tokenizers_a49f6820d17048ed9e1e64b96c90777b/target/release/deps --extern crossbeam_utils=/private/var/folders/ft/qhgfddkj6wd4tft807wv19p00000gn/T/pip-install-jph3o8z2/tokenizers_a49f6820d17048ed9e1e64b96c90777b/target/release/deps/libcrossbeam_utils-1bcdadca5eec9029.rmeta --cap-lints allow`\n",
            "  \u001b[31m   \u001b[0m \u001b[1m\u001b[32m     Running\u001b[0m `rustc --crate-name memchr --edition=2021 /Users/rachelshu/.cargo/registry/src/index.crates.io-6f17d22bba15001f/memchr-2.7.2/src/lib.rs --error-format=json --json=diagnostic-rendered-ansi,artifacts,future-incompat --crate-type lib --emit=dep-info,metadata,link -C opt-level=3 -C embed-bitcode=no --cfg 'feature=\"alloc\"' --cfg 'feature=\"std\"' -C metadata=0c81a8ab8e1eff1e -C extra-filename=-0c81a8ab8e1eff1e --out-dir /private/var/folders/ft/qhgfddkj6wd4tft807wv19p00000gn/T/pip-install-jph3o8z2/tokenizers_a49f6820d17048ed9e1e64b96c90777b/target/release/deps -C strip=debuginfo -L dependency=/private/var/folders/ft/qhgfddkj6wd4tft807wv19p00000gn/T/pip-install-jph3o8z2/tokenizers_a49f6820d17048ed9e1e64b96c90777b/target/release/deps --cap-lints allow`\n",
            "  \u001b[31m   \u001b[0m \u001b[1m\u001b[32m   Compiling\u001b[0m rayon-core v1.12.1\n",
            "  \u001b[31m   \u001b[0m \u001b[1m\u001b[32m     Running\u001b[0m `rustc --crate-name build_script_build --edition=2021 /Users/rachelshu/.cargo/registry/src/index.crates.io-6f17d22bba15001f/rayon-core-1.12.1/build.rs --error-format=json --json=diagnostic-rendered-ansi,artifacts,future-incompat --crate-type bin --emit=dep-info,link -C embed-bitcode=no -C debug-assertions=off -C metadata=bcc7053b666b6d03 -C extra-filename=-bcc7053b666b6d03 --out-dir /private/var/folders/ft/qhgfddkj6wd4tft807wv19p00000gn/T/pip-install-jph3o8z2/tokenizers_a49f6820d17048ed9e1e64b96c90777b/target/release/build/rayon-core-bcc7053b666b6d03 -C strip=debuginfo -L dependency=/private/var/folders/ft/qhgfddkj6wd4tft807wv19p00000gn/T/pip-install-jph3o8z2/tokenizers_a49f6820d17048ed9e1e64b96c90777b/target/release/deps --cap-lints allow`\n",
            "  \u001b[31m   \u001b[0m \u001b[1m\u001b[32m     Running\u001b[0m `rustc --crate-name proc_macro2 --edition=2021 /Users/rachelshu/.cargo/registry/src/index.crates.io-6f17d22bba15001f/proc-macro2-1.0.82/src/lib.rs --error-format=json --json=diagnostic-rendered-ansi,artifacts,future-incompat --crate-type lib --emit=dep-info,metadata,link -C embed-bitcode=no -C debug-assertions=off --cfg 'feature=\"default\"' --cfg 'feature=\"proc-macro\"' -C metadata=3a8331ee9ab08292 -C extra-filename=-3a8331ee9ab08292 --out-dir /private/var/folders/ft/qhgfddkj6wd4tft807wv19p00000gn/T/pip-install-jph3o8z2/tokenizers_a49f6820d17048ed9e1e64b96c90777b/target/release/deps -C strip=debuginfo -L dependency=/private/var/folders/ft/qhgfddkj6wd4tft807wv19p00000gn/T/pip-install-jph3o8z2/tokenizers_a49f6820d17048ed9e1e64b96c90777b/target/release/deps --extern unicode_ident=/private/var/folders/ft/qhgfddkj6wd4tft807wv19p00000gn/T/pip-install-jph3o8z2/tokenizers_a49f6820d17048ed9e1e64b96c90777b/target/release/deps/libunicode_ident-9251005c4dcf67b9.rmeta --cap-lints allow --cfg no_literal_byte_character --cfg no_literal_c_string --cfg wrap_proc_macro`\n",
            "  \u001b[31m   \u001b[0m \u001b[1m\u001b[32m     Running\u001b[0m `rustc --crate-name libc /Users/rachelshu/.cargo/registry/src/index.crates.io-6f17d22bba15001f/libc-0.2.154/src/lib.rs --error-format=json --json=diagnostic-rendered-ansi,artifacts,future-incompat --crate-type lib --emit=dep-info,metadata,link -C opt-level=3 -C embed-bitcode=no --cfg 'feature=\"default\"' --cfg 'feature=\"std\"' -C metadata=b3bed1ae5569c3a4 -C extra-filename=-b3bed1ae5569c3a4 --out-dir /private/var/folders/ft/qhgfddkj6wd4tft807wv19p00000gn/T/pip-install-jph3o8z2/tokenizers_a49f6820d17048ed9e1e64b96c90777b/target/release/deps -C strip=debuginfo -L dependency=/private/var/folders/ft/qhgfddkj6wd4tft807wv19p00000gn/T/pip-install-jph3o8z2/tokenizers_a49f6820d17048ed9e1e64b96c90777b/target/release/deps --cap-lints allow --cfg freebsd11 --cfg libc_priv_mod_use --cfg libc_union --cfg libc_const_size_of --cfg libc_align --cfg libc_int128 --cfg libc_core_cvoid --cfg libc_packedN --cfg libc_cfg_target_vendor --cfg libc_non_exhaustive --cfg libc_long_array --cfg libc_ptr_addr_of --cfg libc_underscore_const_names --cfg libc_const_extern_fn`\n",
            "  \u001b[31m   \u001b[0m \u001b[1m\u001b[32m   Compiling\u001b[0m pkg-config v0.3.30\n",
            "  \u001b[31m   \u001b[0m \u001b[1m\u001b[32m     Running\u001b[0m `rustc --crate-name pkg_config /Users/rachelshu/.cargo/registry/src/index.crates.io-6f17d22bba15001f/pkg-config-0.3.30/src/lib.rs --error-format=json --json=diagnostic-rendered-ansi,artifacts,future-incompat --crate-type lib --emit=dep-info,metadata,link -C embed-bitcode=no -C debug-assertions=off -C metadata=b39065161b67f84f -C extra-filename=-b39065161b67f84f --out-dir /private/var/folders/ft/qhgfddkj6wd4tft807wv19p00000gn/T/pip-install-jph3o8z2/tokenizers_a49f6820d17048ed9e1e64b96c90777b/target/release/deps -C strip=debuginfo -L dependency=/private/var/folders/ft/qhgfddkj6wd4tft807wv19p00000gn/T/pip-install-jph3o8z2/tokenizers_a49f6820d17048ed9e1e64b96c90777b/target/release/deps --cap-lints allow`\n",
            "  \u001b[31m   \u001b[0m \u001b[1m\u001b[32m   Compiling\u001b[0m cfg-if v1.0.0\n",
            "  \u001b[31m   \u001b[0m \u001b[1m\u001b[32m     Running\u001b[0m `rustc --crate-name cfg_if --edition=2018 /Users/rachelshu/.cargo/registry/src/index.crates.io-6f17d22bba15001f/cfg-if-1.0.0/src/lib.rs --error-format=json --json=diagnostic-rendered-ansi,artifacts,future-incompat --crate-type lib --emit=dep-info,metadata,link -C opt-level=3 -C embed-bitcode=no -C metadata=fb765d86436b208e -C extra-filename=-fb765d86436b208e --out-dir /private/var/folders/ft/qhgfddkj6wd4tft807wv19p00000gn/T/pip-install-jph3o8z2/tokenizers_a49f6820d17048ed9e1e64b96c90777b/target/release/deps -C strip=debuginfo -L dependency=/private/var/folders/ft/qhgfddkj6wd4tft807wv19p00000gn/T/pip-install-jph3o8z2/tokenizers_a49f6820d17048ed9e1e64b96c90777b/target/release/deps --cap-lints allow`\n",
            "  \u001b[31m   \u001b[0m \u001b[1m\u001b[32m     Running\u001b[0m `rustc --crate-name aho_corasick --edition=2021 /Users/rachelshu/.cargo/registry/src/index.crates.io-6f17d22bba15001f/aho-corasick-1.1.3/src/lib.rs --error-format=json --json=diagnostic-rendered-ansi,artifacts,future-incompat --crate-type lib --emit=dep-info,metadata,link -C opt-level=3 -C embed-bitcode=no --cfg 'feature=\"perf-literal\"' --cfg 'feature=\"std\"' -C metadata=65a4587870a9d38f -C extra-filename=-65a4587870a9d38f --out-dir /private/var/folders/ft/qhgfddkj6wd4tft807wv19p00000gn/T/pip-install-jph3o8z2/tokenizers_a49f6820d17048ed9e1e64b96c90777b/target/release/deps -C strip=debuginfo -L dependency=/private/var/folders/ft/qhgfddkj6wd4tft807wv19p00000gn/T/pip-install-jph3o8z2/tokenizers_a49f6820d17048ed9e1e64b96c90777b/target/release/deps --extern memchr=/private/var/folders/ft/qhgfddkj6wd4tft807wv19p00000gn/T/pip-install-jph3o8z2/tokenizers_a49f6820d17048ed9e1e64b96c90777b/target/release/deps/libmemchr-0c81a8ab8e1eff1e.rmeta --cap-lints allow`\n",
            "  \u001b[31m   \u001b[0m \u001b[1m\u001b[32m     Running\u001b[0m `rustc --crate-name getrandom --edition=2018 /Users/rachelshu/.cargo/registry/src/index.crates.io-6f17d22bba15001f/getrandom-0.1.16/src/lib.rs --error-format=json --json=diagnostic-rendered-ansi,artifacts,future-incompat --crate-type lib --emit=dep-info,metadata,link -C opt-level=3 -C embed-bitcode=no --cfg 'feature=\"std\"' -C metadata=ba857c9a18642475 -C extra-filename=-ba857c9a18642475 --out-dir /private/var/folders/ft/qhgfddkj6wd4tft807wv19p00000gn/T/pip-install-jph3o8z2/tokenizers_a49f6820d17048ed9e1e64b96c90777b/target/release/deps -C strip=debuginfo -L dependency=/private/var/folders/ft/qhgfddkj6wd4tft807wv19p00000gn/T/pip-install-jph3o8z2/tokenizers_a49f6820d17048ed9e1e64b96c90777b/target/release/deps --extern cfg_if=/private/var/folders/ft/qhgfddkj6wd4tft807wv19p00000gn/T/pip-install-jph3o8z2/tokenizers_a49f6820d17048ed9e1e64b96c90777b/target/release/deps/libcfg_if-fb765d86436b208e.rmeta --extern libc=/private/var/folders/ft/qhgfddkj6wd4tft807wv19p00000gn/T/pip-install-jph3o8z2/tokenizers_a49f6820d17048ed9e1e64b96c90777b/target/release/deps/liblibc-b3bed1ae5569c3a4.rmeta --cap-lints allow`\n",
            "  \u001b[31m   \u001b[0m \u001b[1m\u001b[32m     Running\u001b[0m `/private/var/folders/ft/qhgfddkj6wd4tft807wv19p00000gn/T/pip-install-jph3o8z2/tokenizers_a49f6820d17048ed9e1e64b96c90777b/target/release/build/rayon-core-bcc7053b666b6d03/build-script-build`\n",
            "  \u001b[31m   \u001b[0m \u001b[1m\u001b[32m   Compiling\u001b[0m quote v1.0.36\n",
            "  \u001b[31m   \u001b[0m \u001b[1m\u001b[32m     Running\u001b[0m `rustc --crate-name quote --edition=2018 /Users/rachelshu/.cargo/registry/src/index.crates.io-6f17d22bba15001f/quote-1.0.36/src/lib.rs --error-format=json --json=diagnostic-rendered-ansi,artifacts,future-incompat --crate-type lib --emit=dep-info,metadata,link -C embed-bitcode=no -C debug-assertions=off --cfg 'feature=\"default\"' --cfg 'feature=\"proc-macro\"' -C metadata=e76f931919c69b73 -C extra-filename=-e76f931919c69b73 --out-dir /private/var/folders/ft/qhgfddkj6wd4tft807wv19p00000gn/T/pip-install-jph3o8z2/tokenizers_a49f6820d17048ed9e1e64b96c90777b/target/release/deps -C strip=debuginfo -L dependency=/private/var/folders/ft/qhgfddkj6wd4tft807wv19p00000gn/T/pip-install-jph3o8z2/tokenizers_a49f6820d17048ed9e1e64b96c90777b/target/release/deps --extern proc_macro2=/private/var/folders/ft/qhgfddkj6wd4tft807wv19p00000gn/T/pip-install-jph3o8z2/tokenizers_a49f6820d17048ed9e1e64b96c90777b/target/release/deps/libproc_macro2-3a8331ee9ab08292.rmeta --cap-lints allow`\n",
            "  \u001b[31m   \u001b[0m \u001b[1m\u001b[32m   Compiling\u001b[0m crossbeam-deque v0.8.5\n",
            "  \u001b[31m   \u001b[0m \u001b[1m\u001b[32m     Running\u001b[0m `rustc --crate-name crossbeam_deque --edition=2021 /Users/rachelshu/.cargo/registry/src/index.crates.io-6f17d22bba15001f/crossbeam-deque-0.8.5/src/lib.rs --error-format=json --json=diagnostic-rendered-ansi,artifacts,future-incompat --crate-type lib --emit=dep-info,metadata,link -C opt-level=3 -C embed-bitcode=no --cfg 'feature=\"default\"' --cfg 'feature=\"std\"' -C metadata=9a2b42d619ed4543 -C extra-filename=-9a2b42d619ed4543 --out-dir /private/var/folders/ft/qhgfddkj6wd4tft807wv19p00000gn/T/pip-install-jph3o8z2/tokenizers_a49f6820d17048ed9e1e64b96c90777b/target/release/deps -C strip=debuginfo -L dependency=/private/var/folders/ft/qhgfddkj6wd4tft807wv19p00000gn/T/pip-install-jph3o8z2/tokenizers_a49f6820d17048ed9e1e64b96c90777b/target/release/deps --extern crossbeam_epoch=/private/var/folders/ft/qhgfddkj6wd4tft807wv19p00000gn/T/pip-install-jph3o8z2/tokenizers_a49f6820d17048ed9e1e64b96c90777b/target/release/deps/libcrossbeam_epoch-7d0655dfa2757126.rmeta --extern crossbeam_utils=/private/var/folders/ft/qhgfddkj6wd4tft807wv19p00000gn/T/pip-install-jph3o8z2/tokenizers_a49f6820d17048ed9e1e64b96c90777b/target/release/deps/libcrossbeam_utils-1bcdadca5eec9029.rmeta --cap-lints allow`\n",
            "  \u001b[31m   \u001b[0m \u001b[1m\u001b[32m     Running\u001b[0m `/private/var/folders/ft/qhgfddkj6wd4tft807wv19p00000gn/T/pip-install-jph3o8z2/tokenizers_a49f6820d17048ed9e1e64b96c90777b/target/release/build/serde_json-2b6171b95ec5e484/build-script-build`\n",
            "  \u001b[31m   \u001b[0m \u001b[1m\u001b[32m   Compiling\u001b[0m ryu v1.0.18\n",
            "  \u001b[31m   \u001b[0m \u001b[1m\u001b[32m     Running\u001b[0m `rustc --crate-name ryu --edition=2018 /Users/rachelshu/.cargo/registry/src/index.crates.io-6f17d22bba15001f/ryu-1.0.18/src/lib.rs --error-format=json --json=diagnostic-rendered-ansi,artifacts,future-incompat --crate-type lib --emit=dep-info,metadata,link -C embed-bitcode=no -C debug-assertions=off -C metadata=8ea3d2b7fd561ff4 -C extra-filename=-8ea3d2b7fd561ff4 --out-dir /private/var/folders/ft/qhgfddkj6wd4tft807wv19p00000gn/T/pip-install-jph3o8z2/tokenizers_a49f6820d17048ed9e1e64b96c90777b/target/release/deps -C strip=debuginfo -L dependency=/private/var/folders/ft/qhgfddkj6wd4tft807wv19p00000gn/T/pip-install-jph3o8z2/tokenizers_a49f6820d17048ed9e1e64b96c90777b/target/release/deps --cap-lints allow`\n",
            "  \u001b[31m   \u001b[0m \u001b[1m\u001b[32m   Compiling\u001b[0m itoa v1.0.11\n",
            "  \u001b[31m   \u001b[0m \u001b[1m\u001b[32m     Running\u001b[0m `rustc --crate-name itoa --edition=2018 /Users/rachelshu/.cargo/registry/src/index.crates.io-6f17d22bba15001f/itoa-1.0.11/src/lib.rs --error-format=json --json=diagnostic-rendered-ansi,artifacts,future-incompat --crate-type lib --emit=dep-info,metadata,link -C embed-bitcode=no -C debug-assertions=off -C metadata=be0a6cf1ec529a93 -C extra-filename=-be0a6cf1ec529a93 --out-dir /private/var/folders/ft/qhgfddkj6wd4tft807wv19p00000gn/T/pip-install-jph3o8z2/tokenizers_a49f6820d17048ed9e1e64b96c90777b/target/release/deps -C strip=debuginfo -L dependency=/private/var/folders/ft/qhgfddkj6wd4tft807wv19p00000gn/T/pip-install-jph3o8z2/tokenizers_a49f6820d17048ed9e1e64b96c90777b/target/release/deps --cap-lints allow`\n",
            "  \u001b[31m   \u001b[0m \u001b[1m\u001b[32m   Compiling\u001b[0m syn v2.0.63\n",
            "  \u001b[31m   \u001b[0m \u001b[1m\u001b[32m     Running\u001b[0m `rustc --crate-name syn --edition=2021 /Users/rachelshu/.cargo/registry/src/index.crates.io-6f17d22bba15001f/syn-2.0.63/src/lib.rs --error-format=json --json=diagnostic-rendered-ansi,artifacts,future-incompat --crate-type lib --emit=dep-info,metadata,link -C embed-bitcode=no -C debug-assertions=off --cfg 'feature=\"clone-impls\"' --cfg 'feature=\"default\"' --cfg 'feature=\"derive\"' --cfg 'feature=\"parsing\"' --cfg 'feature=\"printing\"' --cfg 'feature=\"proc-macro\"' -C metadata=9842c1df96b83673 -C extra-filename=-9842c1df96b83673 --out-dir /private/var/folders/ft/qhgfddkj6wd4tft807wv19p00000gn/T/pip-install-jph3o8z2/tokenizers_a49f6820d17048ed9e1e64b96c90777b/target/release/deps -C strip=debuginfo -L dependency=/private/var/folders/ft/qhgfddkj6wd4tft807wv19p00000gn/T/pip-install-jph3o8z2/tokenizers_a49f6820d17048ed9e1e64b96c90777b/target/release/deps --extern proc_macro2=/private/var/folders/ft/qhgfddkj6wd4tft807wv19p00000gn/T/pip-install-jph3o8z2/tokenizers_a49f6820d17048ed9e1e64b96c90777b/target/release/deps/libproc_macro2-3a8331ee9ab08292.rmeta --extern quote=/private/var/folders/ft/qhgfddkj6wd4tft807wv19p00000gn/T/pip-install-jph3o8z2/tokenizers_a49f6820d17048ed9e1e64b96c90777b/target/release/deps/libquote-e76f931919c69b73.rmeta --extern unicode_ident=/private/var/folders/ft/qhgfddkj6wd4tft807wv19p00000gn/T/pip-install-jph3o8z2/tokenizers_a49f6820d17048ed9e1e64b96c90777b/target/release/deps/libunicode_ident-9251005c4dcf67b9.rmeta --cap-lints allow`\n",
            "  \u001b[31m   \u001b[0m \u001b[1m\u001b[32m     Running\u001b[0m `rustc --crate-name syn --edition=2018 /Users/rachelshu/.cargo/registry/src/index.crates.io-6f17d22bba15001f/syn-1.0.109/src/lib.rs --error-format=json --json=diagnostic-rendered-ansi,artifacts,future-incompat --crate-type lib --emit=dep-info,metadata,link -C embed-bitcode=no -C debug-assertions=off --cfg 'feature=\"clone-impls\"' --cfg 'feature=\"default\"' --cfg 'feature=\"derive\"' --cfg 'feature=\"extra-traits\"' --cfg 'feature=\"full\"' --cfg 'feature=\"parsing\"' --cfg 'feature=\"printing\"' --cfg 'feature=\"proc-macro\"' --cfg 'feature=\"quote\"' -C metadata=9e8560a6d262e105 -C extra-filename=-9e8560a6d262e105 --out-dir /private/var/folders/ft/qhgfddkj6wd4tft807wv19p00000gn/T/pip-install-jph3o8z2/tokenizers_a49f6820d17048ed9e1e64b96c90777b/target/release/deps -C strip=debuginfo -L dependency=/private/var/folders/ft/qhgfddkj6wd4tft807wv19p00000gn/T/pip-install-jph3o8z2/tokenizers_a49f6820d17048ed9e1e64b96c90777b/target/release/deps --extern proc_macro2=/private/var/folders/ft/qhgfddkj6wd4tft807wv19p00000gn/T/pip-install-jph3o8z2/tokenizers_a49f6820d17048ed9e1e64b96c90777b/target/release/deps/libproc_macro2-3a8331ee9ab08292.rmeta --extern quote=/private/var/folders/ft/qhgfddkj6wd4tft807wv19p00000gn/T/pip-install-jph3o8z2/tokenizers_a49f6820d17048ed9e1e64b96c90777b/target/release/deps/libquote-e76f931919c69b73.rmeta --extern unicode_ident=/private/var/folders/ft/qhgfddkj6wd4tft807wv19p00000gn/T/pip-install-jph3o8z2/tokenizers_a49f6820d17048ed9e1e64b96c90777b/target/release/deps/libunicode_ident-9251005c4dcf67b9.rmeta --cap-lints allow --cfg syn_disable_nightly_tests`\n",
            "  \u001b[31m   \u001b[0m \u001b[1m\u001b[32m     Running\u001b[0m `rustc --crate-name regex_syntax --edition=2021 /Users/rachelshu/.cargo/registry/src/index.crates.io-6f17d22bba15001f/regex-syntax-0.8.3/src/lib.rs --error-format=json --json=diagnostic-rendered-ansi,artifacts,future-incompat --crate-type lib --emit=dep-info,metadata,link -C opt-level=3 -C embed-bitcode=no --cfg 'feature=\"default\"' --cfg 'feature=\"std\"' --cfg 'feature=\"unicode\"' --cfg 'feature=\"unicode-age\"' --cfg 'feature=\"unicode-bool\"' --cfg 'feature=\"unicode-case\"' --cfg 'feature=\"unicode-gencat\"' --cfg 'feature=\"unicode-perl\"' --cfg 'feature=\"unicode-script\"' --cfg 'feature=\"unicode-segment\"' -C metadata=9b25af60859b7673 -C extra-filename=-9b25af60859b7673 --out-dir /private/var/folders/ft/qhgfddkj6wd4tft807wv19p00000gn/T/pip-install-jph3o8z2/tokenizers_a49f6820d17048ed9e1e64b96c90777b/target/release/deps -C strip=debuginfo -L dependency=/private/var/folders/ft/qhgfddkj6wd4tft807wv19p00000gn/T/pip-install-jph3o8z2/tokenizers_a49f6820d17048ed9e1e64b96c90777b/target/release/deps --cap-lints allow`\n",
            "  \u001b[31m   \u001b[0m \u001b[1m\u001b[32m   Compiling\u001b[0m autocfg v1.3.0\n",
            "  \u001b[31m   \u001b[0m \u001b[1m\u001b[32m     Running\u001b[0m `rustc --crate-name autocfg /Users/rachelshu/.cargo/registry/src/index.crates.io-6f17d22bba15001f/autocfg-1.3.0/src/lib.rs --error-format=json --json=diagnostic-rendered-ansi,artifacts,future-incompat --crate-type lib --emit=dep-info,metadata,link -C embed-bitcode=no -C debug-assertions=off -C metadata=66b7f88642d799eb -C extra-filename=-66b7f88642d799eb --out-dir /private/var/folders/ft/qhgfddkj6wd4tft807wv19p00000gn/T/pip-install-jph3o8z2/tokenizers_a49f6820d17048ed9e1e64b96c90777b/target/release/deps -C strip=debuginfo -L dependency=/private/var/folders/ft/qhgfddkj6wd4tft807wv19p00000gn/T/pip-install-jph3o8z2/tokenizers_a49f6820d17048ed9e1e64b96c90777b/target/release/deps --cap-lints allow`\n",
            "  \u001b[31m   \u001b[0m \u001b[1m\u001b[32m   Compiling\u001b[0m onig_sys v69.8.1\n",
            "  \u001b[31m   \u001b[0m \u001b[1m\u001b[32m     Running\u001b[0m `rustc --crate-name build_script_build --edition=2018 /Users/rachelshu/.cargo/registry/src/index.crates.io-6f17d22bba15001f/onig_sys-69.8.1/build.rs --error-format=json --json=diagnostic-rendered-ansi,artifacts,future-incompat --crate-type bin --emit=dep-info,link -C embed-bitcode=no -C debug-assertions=off -C metadata=ca9dfb3b770b01dc -C extra-filename=-ca9dfb3b770b01dc --out-dir /private/var/folders/ft/qhgfddkj6wd4tft807wv19p00000gn/T/pip-install-jph3o8z2/tokenizers_a49f6820d17048ed9e1e64b96c90777b/target/release/build/onig_sys-ca9dfb3b770b01dc -C strip=debuginfo -L dependency=/private/var/folders/ft/qhgfddkj6wd4tft807wv19p00000gn/T/pip-install-jph3o8z2/tokenizers_a49f6820d17048ed9e1e64b96c90777b/target/release/deps --extern cc=/private/var/folders/ft/qhgfddkj6wd4tft807wv19p00000gn/T/pip-install-jph3o8z2/tokenizers_a49f6820d17048ed9e1e64b96c90777b/target/release/deps/libcc-cc10ae97601d5440.rlib --extern pkg_config=/private/var/folders/ft/qhgfddkj6wd4tft807wv19p00000gn/T/pip-install-jph3o8z2/tokenizers_a49f6820d17048ed9e1e64b96c90777b/target/release/deps/libpkg_config-b39065161b67f84f.rlib --cap-lints allow`\n",
            "  \u001b[31m   \u001b[0m \u001b[1m\u001b[32m   Compiling\u001b[0m either v1.11.0\n",
            "  \u001b[31m   \u001b[0m \u001b[1m\u001b[32m     Running\u001b[0m `rustc --crate-name either --edition=2018 /Users/rachelshu/.cargo/registry/src/index.crates.io-6f17d22bba15001f/either-1.11.0/src/lib.rs --error-format=json --json=diagnostic-rendered-ansi,artifacts,future-incompat --crate-type lib --emit=dep-info,metadata,link -C opt-level=3 -C embed-bitcode=no --cfg 'feature=\"default\"' --cfg 'feature=\"use_std\"' -C metadata=249d7b0061a78dc3 -C extra-filename=-249d7b0061a78dc3 --out-dir /private/var/folders/ft/qhgfddkj6wd4tft807wv19p00000gn/T/pip-install-jph3o8z2/tokenizers_a49f6820d17048ed9e1e64b96c90777b/target/release/deps -C strip=debuginfo -L dependency=/private/var/folders/ft/qhgfddkj6wd4tft807wv19p00000gn/T/pip-install-jph3o8z2/tokenizers_a49f6820d17048ed9e1e64b96c90777b/target/release/deps --cap-lints allow`\n",
            "  \u001b[31m   \u001b[0m \u001b[1m\u001b[32m     Running\u001b[0m `rustc --crate-name rayon_core --edition=2021 /Users/rachelshu/.cargo/registry/src/index.crates.io-6f17d22bba15001f/rayon-core-1.12.1/src/lib.rs --error-format=json --json=diagnostic-rendered-ansi,artifacts,future-incompat --crate-type lib --emit=dep-info,metadata,link -C opt-level=3 -C embed-bitcode=no -C metadata=172dca487d1f3794 -C extra-filename=-172dca487d1f3794 --out-dir /private/var/folders/ft/qhgfddkj6wd4tft807wv19p00000gn/T/pip-install-jph3o8z2/tokenizers_a49f6820d17048ed9e1e64b96c90777b/target/release/deps -C strip=debuginfo -L dependency=/private/var/folders/ft/qhgfddkj6wd4tft807wv19p00000gn/T/pip-install-jph3o8z2/tokenizers_a49f6820d17048ed9e1e64b96c90777b/target/release/deps --extern crossbeam_deque=/private/var/folders/ft/qhgfddkj6wd4tft807wv19p00000gn/T/pip-install-jph3o8z2/tokenizers_a49f6820d17048ed9e1e64b96c90777b/target/release/deps/libcrossbeam_deque-9a2b42d619ed4543.rmeta --extern crossbeam_utils=/private/var/folders/ft/qhgfddkj6wd4tft807wv19p00000gn/T/pip-install-jph3o8z2/tokenizers_a49f6820d17048ed9e1e64b96c90777b/target/release/deps/libcrossbeam_utils-1bcdadca5eec9029.rmeta --cap-lints allow`\n",
            "  \u001b[31m   \u001b[0m \u001b[1m\u001b[32m   Compiling\u001b[0m rand_core v0.5.1\n",
            "  \u001b[31m   \u001b[0m \u001b[1m\u001b[32m     Running\u001b[0m `rustc --crate-name rand_core --edition=2018 /Users/rachelshu/.cargo/registry/src/index.crates.io-6f17d22bba15001f/rand_core-0.5.1/src/lib.rs --error-format=json --json=diagnostic-rendered-ansi,artifacts,future-incompat --crate-type lib --emit=dep-info,metadata,link -C opt-level=3 -C embed-bitcode=no --cfg 'feature=\"alloc\"' --cfg 'feature=\"getrandom\"' --cfg 'feature=\"std\"' -C metadata=b33ca615e20b48dc -C extra-filename=-b33ca615e20b48dc --out-dir /private/var/folders/ft/qhgfddkj6wd4tft807wv19p00000gn/T/pip-install-jph3o8z2/tokenizers_a49f6820d17048ed9e1e64b96c90777b/target/release/deps -C strip=debuginfo -L dependency=/private/var/folders/ft/qhgfddkj6wd4tft807wv19p00000gn/T/pip-install-jph3o8z2/tokenizers_a49f6820d17048ed9e1e64b96c90777b/target/release/deps --extern getrandom=/private/var/folders/ft/qhgfddkj6wd4tft807wv19p00000gn/T/pip-install-jph3o8z2/tokenizers_a49f6820d17048ed9e1e64b96c90777b/target/release/deps/libgetrandom-ba857c9a18642475.rmeta --cap-lints allow`\n",
            "  \u001b[31m   \u001b[0m \u001b[1m\u001b[32m   Compiling\u001b[0m num-traits v0.2.19\n",
            "  \u001b[31m   \u001b[0m \u001b[1m\u001b[32m     Running\u001b[0m `rustc --crate-name build_script_build --edition=2021 /Users/rachelshu/.cargo/registry/src/index.crates.io-6f17d22bba15001f/num-traits-0.2.19/build.rs --error-format=json --json=diagnostic-rendered-ansi,artifacts,future-incompat --crate-type bin --emit=dep-info,link -C embed-bitcode=no -C debug-assertions=off --cfg 'feature=\"default\"' --cfg 'feature=\"std\"' -C metadata=fa6a58c6254323d9 -C extra-filename=-fa6a58c6254323d9 --out-dir /private/var/folders/ft/qhgfddkj6wd4tft807wv19p00000gn/T/pip-install-jph3o8z2/tokenizers_a49f6820d17048ed9e1e64b96c90777b/target/release/build/num-traits-fa6a58c6254323d9 -C strip=debuginfo -L dependency=/private/var/folders/ft/qhgfddkj6wd4tft807wv19p00000gn/T/pip-install-jph3o8z2/tokenizers_a49f6820d17048ed9e1e64b96c90777b/target/release/deps --extern autocfg=/private/var/folders/ft/qhgfddkj6wd4tft807wv19p00000gn/T/pip-install-jph3o8z2/tokenizers_a49f6820d17048ed9e1e64b96c90777b/target/release/deps/libautocfg-66b7f88642d799eb.rlib --cap-lints allow`\n",
            "  \u001b[31m   \u001b[0m \u001b[1m\u001b[32m   Compiling\u001b[0m regex-automata v0.4.6\n",
            "  \u001b[31m   \u001b[0m \u001b[1m\u001b[32m     Running\u001b[0m `rustc --crate-name regex_automata --edition=2021 /Users/rachelshu/.cargo/registry/src/index.crates.io-6f17d22bba15001f/regex-automata-0.4.6/src/lib.rs --error-format=json --json=diagnostic-rendered-ansi,artifacts,future-incompat --crate-type lib --emit=dep-info,metadata,link -C embed-bitcode=no -C debug-assertions=off --cfg 'feature=\"alloc\"' --cfg 'feature=\"dfa-onepass\"' --cfg 'feature=\"hybrid\"' --cfg 'feature=\"meta\"' --cfg 'feature=\"nfa-backtrack\"' --cfg 'feature=\"nfa-pikevm\"' --cfg 'feature=\"nfa-thompson\"' --cfg 'feature=\"perf-inline\"' --cfg 'feature=\"perf-literal\"' --cfg 'feature=\"perf-literal-multisubstring\"' --cfg 'feature=\"perf-literal-substring\"' --cfg 'feature=\"std\"' --cfg 'feature=\"syntax\"' --cfg 'feature=\"unicode\"' --cfg 'feature=\"unicode-age\"' --cfg 'feature=\"unicode-bool\"' --cfg 'feature=\"unicode-case\"' --cfg 'feature=\"unicode-gencat\"' --cfg 'feature=\"unicode-perl\"' --cfg 'feature=\"unicode-script\"' --cfg 'feature=\"unicode-segment\"' --cfg 'feature=\"unicode-word-boundary\"' -C metadata=441e18c89d1e6b4d -C extra-filename=-441e18c89d1e6b4d --out-dir /private/var/folders/ft/qhgfddkj6wd4tft807wv19p00000gn/T/pip-install-jph3o8z2/tokenizers_a49f6820d17048ed9e1e64b96c90777b/target/release/deps -C strip=debuginfo -L dependency=/private/var/folders/ft/qhgfddkj6wd4tft807wv19p00000gn/T/pip-install-jph3o8z2/tokenizers_a49f6820d17048ed9e1e64b96c90777b/target/release/deps --extern aho_corasick=/private/var/folders/ft/qhgfddkj6wd4tft807wv19p00000gn/T/pip-install-jph3o8z2/tokenizers_a49f6820d17048ed9e1e64b96c90777b/target/release/deps/libaho_corasick-8b6558612ebb7cd8.rmeta --extern memchr=/private/var/folders/ft/qhgfddkj6wd4tft807wv19p00000gn/T/pip-install-jph3o8z2/tokenizers_a49f6820d17048ed9e1e64b96c90777b/target/release/deps/libmemchr-6714fa08edb097ec.rmeta --extern regex_syntax=/private/var/folders/ft/qhgfddkj6wd4tft807wv19p00000gn/T/pip-install-jph3o8z2/tokenizers_a49f6820d17048ed9e1e64b96c90777b/target/release/deps/libregex_syntax-3ccba4be58e27bf3.rmeta --cap-lints allow`\n",
            "  \u001b[31m   \u001b[0m \u001b[1m\u001b[32m     Running\u001b[0m `/private/var/folders/ft/qhgfddkj6wd4tft807wv19p00000gn/T/pip-install-jph3o8z2/tokenizers_a49f6820d17048ed9e1e64b96c90777b/target/release/build/onig_sys-ca9dfb3b770b01dc/build-script-build`\n",
            "  \u001b[31m   \u001b[0m \u001b[1m\u001b[32m   Compiling\u001b[0m lazy_static v1.4.0\n",
            "  \u001b[31m   \u001b[0m \u001b[1m\u001b[32m     Running\u001b[0m `rustc --crate-name lazy_static /Users/rachelshu/.cargo/registry/src/index.crates.io-6f17d22bba15001f/lazy_static-1.4.0/src/lib.rs --error-format=json --json=diagnostic-rendered-ansi,artifacts,future-incompat --crate-type lib --emit=dep-info,metadata,link -C opt-level=3 -C embed-bitcode=no -C metadata=b3989c612bec2e85 -C extra-filename=-b3989c612bec2e85 --out-dir /private/var/folders/ft/qhgfddkj6wd4tft807wv19p00000gn/T/pip-install-jph3o8z2/tokenizers_a49f6820d17048ed9e1e64b96c90777b/target/release/deps -C strip=debuginfo -L dependency=/private/var/folders/ft/qhgfddkj6wd4tft807wv19p00000gn/T/pip-install-jph3o8z2/tokenizers_a49f6820d17048ed9e1e64b96c90777b/target/release/deps --cap-lints allow`\n",
            "  \u001b[31m   \u001b[0m \u001b[1m\u001b[32m   Compiling\u001b[0m once_cell v1.19.0\n",
            "  \u001b[31m   \u001b[0m \u001b[1m\u001b[32m     Running\u001b[0m `rustc --crate-name once_cell --edition=2021 /Users/rachelshu/.cargo/registry/src/index.crates.io-6f17d22bba15001f/once_cell-1.19.0/src/lib.rs --error-format=json --json=diagnostic-rendered-ansi,artifacts,future-incompat --crate-type lib --emit=dep-info,metadata,link -C opt-level=3 -C embed-bitcode=no --cfg 'feature=\"alloc\"' --cfg 'feature=\"default\"' --cfg 'feature=\"race\"' --cfg 'feature=\"std\"' -C metadata=a09b8bc69c4843b3 -C extra-filename=-a09b8bc69c4843b3 --out-dir /private/var/folders/ft/qhgfddkj6wd4tft807wv19p00000gn/T/pip-install-jph3o8z2/tokenizers_a49f6820d17048ed9e1e64b96c90777b/target/release/deps -C strip=debuginfo -L dependency=/private/var/folders/ft/qhgfddkj6wd4tft807wv19p00000gn/T/pip-install-jph3o8z2/tokenizers_a49f6820d17048ed9e1e64b96c90777b/target/release/deps --cap-lints allow`\n",
            "  \u001b[31m   \u001b[0m \u001b[1m\u001b[32m   Compiling\u001b[0m scopeguard v1.2.0\n",
            "  \u001b[31m   \u001b[0m \u001b[1m\u001b[32m     Running\u001b[0m `rustc --crate-name scopeguard /Users/rachelshu/.cargo/registry/src/index.crates.io-6f17d22bba15001f/scopeguard-1.2.0/src/lib.rs --error-format=json --json=diagnostic-rendered-ansi,artifacts,future-incompat --crate-type lib --emit=dep-info,metadata,link -C opt-level=3 -C embed-bitcode=no -C metadata=464f522f919d4a93 -C extra-filename=-464f522f919d4a93 --out-dir /private/var/folders/ft/qhgfddkj6wd4tft807wv19p00000gn/T/pip-install-jph3o8z2/tokenizers_a49f6820d17048ed9e1e64b96c90777b/target/release/deps -C strip=debuginfo -L dependency=/private/var/folders/ft/qhgfddkj6wd4tft807wv19p00000gn/T/pip-install-jph3o8z2/tokenizers_a49f6820d17048ed9e1e64b96c90777b/target/release/deps --cap-lints allow`\n",
            "  \u001b[31m   \u001b[0m \u001b[1m\u001b[32m   Compiling\u001b[0m unindent v0.1.11\n",
            "  \u001b[31m   \u001b[0m \u001b[1m\u001b[32m     Running\u001b[0m `rustc --crate-name unindent --edition=2018 /Users/rachelshu/.cargo/registry/src/index.crates.io-6f17d22bba15001f/unindent-0.1.11/src/lib.rs --error-format=json --json=diagnostic-rendered-ansi,artifacts,future-incompat --crate-type lib --emit=dep-info,metadata,link -C embed-bitcode=no -C debug-assertions=off -C metadata=5be6ec874ae7fde3 -C extra-filename=-5be6ec874ae7fde3 --out-dir /private/var/folders/ft/qhgfddkj6wd4tft807wv19p00000gn/T/pip-install-jph3o8z2/tokenizers_a49f6820d17048ed9e1e64b96c90777b/target/release/deps -C strip=debuginfo -L dependency=/private/var/folders/ft/qhgfddkj6wd4tft807wv19p00000gn/T/pip-install-jph3o8z2/tokenizers_a49f6820d17048ed9e1e64b96c90777b/target/release/deps --cap-lints allow`\n",
            "  \u001b[31m   \u001b[0m \u001b[1m\u001b[32m   Compiling\u001b[0m version_check v0.9.4\n",
            "  \u001b[31m   \u001b[0m \u001b[1m\u001b[32m     Running\u001b[0m `rustc --crate-name version_check /Users/rachelshu/.cargo/registry/src/index.crates.io-6f17d22bba15001f/version_check-0.9.4/src/lib.rs --error-format=json --json=diagnostic-rendered-ansi,artifacts,future-incompat --crate-type lib --emit=dep-info,metadata,link -C embed-bitcode=no -C debug-assertions=off -C metadata=057fd54427006dba -C extra-filename=-057fd54427006dba --out-dir /private/var/folders/ft/qhgfddkj6wd4tft807wv19p00000gn/T/pip-install-jph3o8z2/tokenizers_a49f6820d17048ed9e1e64b96c90777b/target/release/deps -C strip=debuginfo -L dependency=/private/var/folders/ft/qhgfddkj6wd4tft807wv19p00000gn/T/pip-install-jph3o8z2/tokenizers_a49f6820d17048ed9e1e64b96c90777b/target/release/deps --cap-lints allow`\n",
            "  \u001b[31m   \u001b[0m \u001b[1m\u001b[32m   Compiling\u001b[0m ppv-lite86 v0.2.17\n",
            "  \u001b[31m   \u001b[0m \u001b[1m\u001b[32m     Running\u001b[0m `rustc --crate-name ppv_lite86 --edition=2018 /Users/rachelshu/.cargo/registry/src/index.crates.io-6f17d22bba15001f/ppv-lite86-0.2.17/src/lib.rs --error-format=json --json=diagnostic-rendered-ansi,artifacts,future-incompat --crate-type lib --emit=dep-info,metadata,link -C opt-level=3 -C embed-bitcode=no --cfg 'feature=\"simd\"' --cfg 'feature=\"std\"' -C metadata=1924f9291741aab5 -C extra-filename=-1924f9291741aab5 --out-dir /private/var/folders/ft/qhgfddkj6wd4tft807wv19p00000gn/T/pip-install-jph3o8z2/tokenizers_a49f6820d17048ed9e1e64b96c90777b/target/release/deps -C strip=debuginfo -L dependency=/private/var/folders/ft/qhgfddkj6wd4tft807wv19p00000gn/T/pip-install-jph3o8z2/tokenizers_a49f6820d17048ed9e1e64b96c90777b/target/release/deps --cap-lints allow`\n",
            "  \u001b[31m   \u001b[0m \u001b[1m\u001b[32m   Compiling\u001b[0m cfg-if v0.1.10\n",
            "  \u001b[31m   \u001b[0m \u001b[1m\u001b[32m     Running\u001b[0m `rustc --crate-name cfg_if --edition=2018 /Users/rachelshu/.cargo/registry/src/index.crates.io-6f17d22bba15001f/cfg-if-0.1.10/src/lib.rs --error-format=json --json=diagnostic-rendered-ansi,artifacts,future-incompat --crate-type lib --emit=dep-info,metadata,link -C opt-level=3 -C embed-bitcode=no -C metadata=4a58b5e00655e403 -C extra-filename=-4a58b5e00655e403 --out-dir /private/var/folders/ft/qhgfddkj6wd4tft807wv19p00000gn/T/pip-install-jph3o8z2/tokenizers_a49f6820d17048ed9e1e64b96c90777b/target/release/deps -C strip=debuginfo -L dependency=/private/var/folders/ft/qhgfddkj6wd4tft807wv19p00000gn/T/pip-install-jph3o8z2/tokenizers_a49f6820d17048ed9e1e64b96c90777b/target/release/deps --cap-lints allow`\n",
            "  \u001b[31m   \u001b[0m \u001b[1m\u001b[32m   Compiling\u001b[0m bitflags v1.3.2\n",
            "  \u001b[31m   \u001b[0m \u001b[1m\u001b[32m     Running\u001b[0m `rustc --crate-name bitflags --edition=2018 /Users/rachelshu/.cargo/registry/src/index.crates.io-6f17d22bba15001f/bitflags-1.3.2/src/lib.rs --error-format=json --json=diagnostic-rendered-ansi,artifacts,future-incompat --crate-type lib --emit=dep-info,metadata,link -C opt-level=3 -C embed-bitcode=no --cfg 'feature=\"default\"' -C metadata=6ad1dc2b70a073d7 -C extra-filename=-6ad1dc2b70a073d7 --out-dir /private/var/folders/ft/qhgfddkj6wd4tft807wv19p00000gn/T/pip-install-jph3o8z2/tokenizers_a49f6820d17048ed9e1e64b96c90777b/target/release/deps -C strip=debuginfo -L dependency=/private/var/folders/ft/qhgfddkj6wd4tft807wv19p00000gn/T/pip-install-jph3o8z2/tokenizers_a49f6820d17048ed9e1e64b96c90777b/target/release/deps --cap-lints allow`\n",
            "  \u001b[31m   \u001b[0m \u001b[1m\u001b[32m   Compiling\u001b[0m inventory v0.1.11\n",
            "  \u001b[31m   \u001b[0m \u001b[1m\u001b[32m     Running\u001b[0m `rustc --crate-name build_script_build --edition=2018 /Users/rachelshu/.cargo/registry/src/index.crates.io-6f17d22bba15001f/inventory-0.1.11/build.rs --error-format=json --json=diagnostic-rendered-ansi,artifacts,future-incompat --crate-type bin --emit=dep-info,link -C embed-bitcode=no -C debug-assertions=off -C metadata=d06bd48610eff469 -C extra-filename=-d06bd48610eff469 --out-dir /private/var/folders/ft/qhgfddkj6wd4tft807wv19p00000gn/T/pip-install-jph3o8z2/tokenizers_a49f6820d17048ed9e1e64b96c90777b/target/release/build/inventory-d06bd48610eff469 -C strip=debuginfo -L dependency=/private/var/folders/ft/qhgfddkj6wd4tft807wv19p00000gn/T/pip-install-jph3o8z2/tokenizers_a49f6820d17048ed9e1e64b96c90777b/target/release/deps --cap-lints allow`\n",
            "  \u001b[31m   \u001b[0m \u001b[1m\u001b[32m   Compiling\u001b[0m parking_lot_core v0.7.3\n",
            "  \u001b[31m   \u001b[0m \u001b[1m\u001b[32m     Running\u001b[0m `rustc --crate-name parking_lot_core --edition=2018 /Users/rachelshu/.cargo/registry/src/index.crates.io-6f17d22bba15001f/parking_lot_core-0.7.3/src/lib.rs --error-format=json --json=diagnostic-rendered-ansi,artifacts,future-incompat --crate-type lib --emit=dep-info,metadata,link -C opt-level=3 -C embed-bitcode=no --cfg 'feature=\"nightly\"' -C metadata=7fd99a446bec9ff3 -C extra-filename=-7fd99a446bec9ff3 --out-dir /private/var/folders/ft/qhgfddkj6wd4tft807wv19p00000gn/T/pip-install-jph3o8z2/tokenizers_a49f6820d17048ed9e1e64b96c90777b/target/release/deps -C strip=debuginfo -L dependency=/private/var/folders/ft/qhgfddkj6wd4tft807wv19p00000gn/T/pip-install-jph3o8z2/tokenizers_a49f6820d17048ed9e1e64b96c90777b/target/release/deps --extern cfg_if=/private/var/folders/ft/qhgfddkj6wd4tft807wv19p00000gn/T/pip-install-jph3o8z2/tokenizers_a49f6820d17048ed9e1e64b96c90777b/target/release/deps/libcfg_if-4a58b5e00655e403.rmeta --extern libc=/private/var/folders/ft/qhgfddkj6wd4tft807wv19p00000gn/T/pip-install-jph3o8z2/tokenizers_a49f6820d17048ed9e1e64b96c90777b/target/release/deps/liblibc-b3bed1ae5569c3a4.rmeta --extern smallvec=/private/var/folders/ft/qhgfddkj6wd4tft807wv19p00000gn/T/pip-install-jph3o8z2/tokenizers_a49f6820d17048ed9e1e64b96c90777b/target/release/deps/libsmallvec-9df934ff724209ff.rmeta --cap-lints allow`\n",
            "  \u001b[31m   \u001b[0m \u001b[1m\u001b[32m   Compiling\u001b[0m rand_chacha v0.2.2\n",
            "  \u001b[31m   \u001b[0m \u001b[1m\u001b[32m     Running\u001b[0m `rustc --crate-name rand_chacha --edition=2018 /Users/rachelshu/.cargo/registry/src/index.crates.io-6f17d22bba15001f/rand_chacha-0.2.2/src/lib.rs --error-format=json --json=diagnostic-rendered-ansi,artifacts,future-incompat --crate-type lib --emit=dep-info,metadata,link -C opt-level=3 -C embed-bitcode=no --cfg 'feature=\"std\"' -C metadata=3ad507450f74be6c -C extra-filename=-3ad507450f74be6c --out-dir /private/var/folders/ft/qhgfddkj6wd4tft807wv19p00000gn/T/pip-install-jph3o8z2/tokenizers_a49f6820d17048ed9e1e64b96c90777b/target/release/deps -C strip=debuginfo -L dependency=/private/var/folders/ft/qhgfddkj6wd4tft807wv19p00000gn/T/pip-install-jph3o8z2/tokenizers_a49f6820d17048ed9e1e64b96c90777b/target/release/deps --extern ppv_lite86=/private/var/folders/ft/qhgfddkj6wd4tft807wv19p00000gn/T/pip-install-jph3o8z2/tokenizers_a49f6820d17048ed9e1e64b96c90777b/target/release/deps/libppv_lite86-1924f9291741aab5.rmeta --extern rand_core=/private/var/folders/ft/qhgfddkj6wd4tft807wv19p00000gn/T/pip-install-jph3o8z2/tokenizers_a49f6820d17048ed9e1e64b96c90777b/target/release/deps/librand_core-b33ca615e20b48dc.rmeta --cap-lints allow`\n",
            "  \u001b[31m   \u001b[0m \u001b[1m\u001b[32m     Running\u001b[0m `/private/var/folders/ft/qhgfddkj6wd4tft807wv19p00000gn/T/pip-install-jph3o8z2/tokenizers_a49f6820d17048ed9e1e64b96c90777b/target/release/build/inventory-d06bd48610eff469/build-script-build`\n",
            "  \u001b[31m   \u001b[0m \u001b[1m\u001b[32m   Compiling\u001b[0m lock_api v0.3.4\n",
            "  \u001b[31m   \u001b[0m \u001b[1m\u001b[32m     Running\u001b[0m `rustc --crate-name lock_api --edition=2018 /Users/rachelshu/.cargo/registry/src/index.crates.io-6f17d22bba15001f/lock_api-0.3.4/src/lib.rs --error-format=json --json=diagnostic-rendered-ansi,artifacts,future-incompat --crate-type lib --emit=dep-info,metadata,link -C opt-level=3 -C embed-bitcode=no --cfg 'feature=\"nightly\"' -C metadata=c3aea885fa0ee9b0 -C extra-filename=-c3aea885fa0ee9b0 --out-dir /private/var/folders/ft/qhgfddkj6wd4tft807wv19p00000gn/T/pip-install-jph3o8z2/tokenizers_a49f6820d17048ed9e1e64b96c90777b/target/release/deps -C strip=debuginfo -L dependency=/private/var/folders/ft/qhgfddkj6wd4tft807wv19p00000gn/T/pip-install-jph3o8z2/tokenizers_a49f6820d17048ed9e1e64b96c90777b/target/release/deps --extern scopeguard=/private/var/folders/ft/qhgfddkj6wd4tft807wv19p00000gn/T/pip-install-jph3o8z2/tokenizers_a49f6820d17048ed9e1e64b96c90777b/target/release/deps/libscopeguard-464f522f919d4a93.rmeta --cap-lints allow`\n",
            "  \u001b[31m   \u001b[0m \u001b[1m\u001b[32m     Running\u001b[0m `/private/var/folders/ft/qhgfddkj6wd4tft807wv19p00000gn/T/pip-install-jph3o8z2/tokenizers_a49f6820d17048ed9e1e64b96c90777b/target/release/build/num-traits-fa6a58c6254323d9/build-script-build`\n",
            "  \u001b[31m   \u001b[0m \u001b[1m\u001b[32m   Compiling\u001b[0m console v0.15.8\n",
            "  \u001b[31m   \u001b[0m \u001b[1m\u001b[32m     Running\u001b[0m `rustc --crate-name console --edition=2018 /Users/rachelshu/.cargo/registry/src/index.crates.io-6f17d22bba15001f/console-0.15.8/src/lib.rs --error-format=json --json=diagnostic-rendered-ansi,artifacts,future-incompat --crate-type lib --emit=dep-info,metadata,link -C opt-level=3 -C embed-bitcode=no --cfg 'feature=\"ansi-parsing\"' --cfg 'feature=\"default\"' --cfg 'feature=\"unicode-width\"' -C metadata=42846a83e0110959 -C extra-filename=-42846a83e0110959 --out-dir /private/var/folders/ft/qhgfddkj6wd4tft807wv19p00000gn/T/pip-install-jph3o8z2/tokenizers_a49f6820d17048ed9e1e64b96c90777b/target/release/deps -C strip=debuginfo -L dependency=/private/var/folders/ft/qhgfddkj6wd4tft807wv19p00000gn/T/pip-install-jph3o8z2/tokenizers_a49f6820d17048ed9e1e64b96c90777b/target/release/deps --extern lazy_static=/private/var/folders/ft/qhgfddkj6wd4tft807wv19p00000gn/T/pip-install-jph3o8z2/tokenizers_a49f6820d17048ed9e1e64b96c90777b/target/release/deps/liblazy_static-b3989c612bec2e85.rmeta --extern libc=/private/var/folders/ft/qhgfddkj6wd4tft807wv19p00000gn/T/pip-install-jph3o8z2/tokenizers_a49f6820d17048ed9e1e64b96c90777b/target/release/deps/liblibc-b3bed1ae5569c3a4.rmeta --extern unicode_width=/private/var/folders/ft/qhgfddkj6wd4tft807wv19p00000gn/T/pip-install-jph3o8z2/tokenizers_a49f6820d17048ed9e1e64b96c90777b/target/release/deps/libunicode_width-a76eeb34302b14d0.rmeta --cap-lints allow`\n",
            "  \u001b[31m   \u001b[0m \u001b[0m\u001b[1m\u001b[38;5;9merror[E0557]\u001b[0m\u001b[0m\u001b[1m: feature has been removed\u001b[0m\n",
            "  \u001b[31m   \u001b[0m \u001b[0m  \u001b[0m\u001b[0m\u001b[1m\u001b[38;5;12m--> \u001b[0m\u001b[0m/Users/rachelshu/.cargo/registry/src/index.crates.io-6f17d22bba15001f/lock_api-0.3.4/src/lib.rs:91:42\u001b[0m\n",
            "  \u001b[31m   \u001b[0m \u001b[0m   \u001b[0m\u001b[0m\u001b[1m\u001b[38;5;12m|\u001b[0m\n",
            "  \u001b[31m   \u001b[0m \u001b[0m\u001b[1m\u001b[38;5;12m91\u001b[0m\u001b[0m \u001b[0m\u001b[0m\u001b[1m\u001b[38;5;12m|\u001b[0m\u001b[0m \u001b[0m\u001b[0m#![cfg_attr(feature = \"nightly\", feature(const_fn))]\u001b[0m\n",
            "  \u001b[31m   \u001b[0m \u001b[0m   \u001b[0m\u001b[0m\u001b[1m\u001b[38;5;12m| \u001b[0m\u001b[0m                                         \u001b[0m\u001b[0m\u001b[1m\u001b[38;5;9m^^^^^^^^\u001b[0m\u001b[0m \u001b[0m\u001b[0m\u001b[1m\u001b[38;5;9mfeature has been removed\u001b[0m\n",
            "  \u001b[31m   \u001b[0m \u001b[0m   \u001b[0m\u001b[0m\u001b[1m\u001b[38;5;12m|\u001b[0m\n",
            "  \u001b[31m   \u001b[0m \u001b[0m   \u001b[0m\u001b[0m\u001b[1m\u001b[38;5;12m= \u001b[0m\u001b[0m\u001b[1mnote\u001b[0m\u001b[0m: split into finer-grained feature gates\u001b[0m\n",
            "  \u001b[31m   \u001b[0m \n",
            "  \u001b[31m   \u001b[0m \u001b[0m\u001b[1mFor more information about this error, try `rustc --explain E0557`.\u001b[0m\n",
            "  \u001b[31m   \u001b[0m \u001b[1m\u001b[31merror\u001b[0m\u001b[1m:\u001b[0m could not compile `lock_api` (lib) due to 1 previous error\n",
            "  \u001b[31m   \u001b[0m \n",
            "  \u001b[31m   \u001b[0m Caused by:\n",
            "  \u001b[31m   \u001b[0m   process didn't exit successfully: `rustc --crate-name lock_api --edition=2018 /Users/rachelshu/.cargo/registry/src/index.crates.io-6f17d22bba15001f/lock_api-0.3.4/src/lib.rs --error-format=json --json=diagnostic-rendered-ansi,artifacts,future-incompat --crate-type lib --emit=dep-info,metadata,link -C opt-level=3 -C embed-bitcode=no --cfg 'feature=\"nightly\"' -C metadata=c3aea885fa0ee9b0 -C extra-filename=-c3aea885fa0ee9b0 --out-dir /private/var/folders/ft/qhgfddkj6wd4tft807wv19p00000gn/T/pip-install-jph3o8z2/tokenizers_a49f6820d17048ed9e1e64b96c90777b/target/release/deps -C strip=debuginfo -L dependency=/private/var/folders/ft/qhgfddkj6wd4tft807wv19p00000gn/T/pip-install-jph3o8z2/tokenizers_a49f6820d17048ed9e1e64b96c90777b/target/release/deps --extern scopeguard=/private/var/folders/ft/qhgfddkj6wd4tft807wv19p00000gn/T/pip-install-jph3o8z2/tokenizers_a49f6820d17048ed9e1e64b96c90777b/target/release/deps/libscopeguard-464f522f919d4a93.rmeta --cap-lints allow` (exit status: 1)\n",
            "  \u001b[31m   \u001b[0m \u001b[1m\u001b[33mwarning\u001b[0m\u001b[1m:\u001b[0m build failed, waiting for other jobs to finish...\n",
            "  \u001b[31m   \u001b[0m error: `cargo rustc --lib --message-format=json-render-diagnostics --manifest-path Cargo.toml --release -v --features pyo3/extension-module --crate-type cdylib -- -C 'link-args=-undefined dynamic_lookup -Wl,-install_name,@rpath/tokenizers.cpython-311-darwin.so'` failed with code 101\n",
            "  \u001b[31m   \u001b[0m \u001b[31m[end of output]\u001b[0m\n",
            "  \n",
            "  \u001b[1;35mnote\u001b[0m: This error originates from a subprocess, and is likely not a problem with pip.\n",
            "\u001b[?25h\u001b[31m  ERROR: Failed building wheel for tokenizers\u001b[0m\u001b[31m\n",
            "\u001b[0mFailed to build tokenizers\n",
            "\u001b[31mERROR: Could not build wheels for tokenizers, which is required to install pyproject.toml-based projects\u001b[0m\u001b[31m\n",
            "\u001b[0m\n",
            "\u001b[1m[\u001b[0m\u001b[34;49mnotice\u001b[0m\u001b[1;39;49m]\u001b[0m\u001b[39;49m A new release of pip is available: \u001b[0m\u001b[31;49m23.1\u001b[0m\u001b[39;49m -> \u001b[0m\u001b[32;49m24.0\u001b[0m\n",
            "\u001b[1m[\u001b[0m\u001b[34;49mnotice\u001b[0m\u001b[1;39;49m]\u001b[0m\u001b[39;49m To update, run: \u001b[0m\u001b[32;49mpip install --upgrade pip\u001b[0m\n",
            "Note: you may need to restart the kernel to use updated packages.\n"
          ]
        },
        {
          "ename": "ModuleNotFoundError",
          "evalue": "No module named 'transformers'",
          "output_type": "error",
          "traceback": [
            "\u001b[0;31m---------------------------------------------------------------------------\u001b[0m",
            "\u001b[0;31mModuleNotFoundError\u001b[0m                       Traceback (most recent call last)",
            "Cell \u001b[0;32mIn[2], line 3\u001b[0m\n\u001b[1;32m      1\u001b[0m get_ipython()\u001b[38;5;241m.\u001b[39mrun_line_magic(\u001b[38;5;124m'\u001b[39m\u001b[38;5;124mpip\u001b[39m\u001b[38;5;124m'\u001b[39m, \u001b[38;5;124m'\u001b[39m\u001b[38;5;124minstall transformers==3.1.0\u001b[39m\u001b[38;5;124m'\u001b[39m)\n\u001b[1;32m      2\u001b[0m \u001b[38;5;28;01mimport\u001b[39;00m \u001b[38;5;21;01mtorch\u001b[39;00m\n\u001b[0;32m----> 3\u001b[0m \u001b[38;5;28;01mimport\u001b[39;00m \u001b[38;5;21;01mtransformers\u001b[39;00m\n\u001b[1;32m      4\u001b[0m \u001b[38;5;28;01mimport\u001b[39;00m \u001b[38;5;21;01mitertools\u001b[39;00m\n",
            "\u001b[0;31mModuleNotFoundError\u001b[0m: No module named 'transformers'"
          ]
        }
      ],
      "source": [
        "%pip install transformers==3.1.0\n",
        "import torch\n",
        "import transformers\n",
        "import itertools"
      ]
    },
    {
      "cell_type": "markdown",
      "metadata": {
        "id": "QRvfawCbw2i7"
      },
      "source": [
        "Load the multilingual BERT model and its tokenizer."
      ]
    },
    {
      "cell_type": "code",
      "execution_count": null,
      "metadata": {
        "id": "9aPvLqT7eiry"
      },
      "outputs": [],
      "source": [
        "model = transformers.BertModel.from_pretrained('bert-base-multilingual-cased')\n",
        "tokenizer = transformers.BertTokenizer.from_pretrained('bert-base-multilingual-cased')"
      ]
    },
    {
      "cell_type": "markdown",
      "metadata": {
        "id": "6RPxlavmxNmj"
      },
      "source": [
        "Input *tokenized* source and target sentences."
      ]
    },
    {
      "cell_type": "code",
      "execution_count": null,
      "metadata": {
        "id": "FfDM0w2kfHyJ"
      },
      "outputs": [],
      "source": [
        "src = 'awesome-align is awesome !'\n",
        "tgt = '牛对齐 是 牛 ！'"
      ]
    },
    {
      "cell_type": "markdown",
      "metadata": {
        "id": "HpUa-ZqUxZ8Z"
      },
      "source": [
        "Run the model and print the resulting alignments."
      ]
    },
    {
      "cell_type": "code",
      "execution_count": null,
      "metadata": {
        "colab": {
          "base_uri": "https://localhost:8080/"
        },
        "id": "smW6s5JJflCN",
        "outputId": "75b5667e-b139-41c9-af35-b6c82bb74476"
      },
      "outputs": [
        {
          "name": "stdout",
          "output_type": "stream",
          "text": [
            "\u001b[1m\u001b[94mawesome-align\u001b[0m===\u001b[1m\u001b[91m牛对齐\u001b[0m\n",
            "\u001b[1m\u001b[94mis\u001b[0m===\u001b[1m\u001b[91m是\u001b[0m\n",
            "\u001b[1m\u001b[94mawesome\u001b[0m===\u001b[1m\u001b[91m牛\u001b[0m\n",
            "\u001b[1m\u001b[94m!\u001b[0m===\u001b[1m\u001b[91m！\u001b[0m\n"
          ]
        }
      ],
      "source": [
        "# pre-processing\n",
        "sent_src, sent_tgt = src.strip().split(), tgt.strip().split()\n",
        "token_src, token_tgt = [tokenizer.tokenize(word) for word in sent_src], [tokenizer.tokenize(word) for word in sent_tgt]\n",
        "wid_src, wid_tgt = [tokenizer.convert_tokens_to_ids(x) for x in token_src], [tokenizer.convert_tokens_to_ids(x) for x in token_tgt]\n",
        "ids_src, ids_tgt = tokenizer.prepare_for_model(list(itertools.chain(*wid_src)), return_tensors='pt', model_max_length=tokenizer.model_max_length, truncation=True)['input_ids'], tokenizer.prepare_for_model(list(itertools.chain(*wid_tgt)), return_tensors='pt', truncation=True, model_max_length=tokenizer.model_max_length)['input_ids']\n",
        "sub2word_map_src = []\n",
        "for i, word_list in enumerate(token_src):\n",
        "  sub2word_map_src += [i for x in word_list]\n",
        "sub2word_map_tgt = []\n",
        "for i, word_list in enumerate(token_tgt):\n",
        "  sub2word_map_tgt += [i for x in word_list]\n",
        "\n",
        "# alignment\n",
        "align_layer = 8\n",
        "threshold = 1e-3\n",
        "model.eval()\n",
        "with torch.no_grad():\n",
        "  out_src = model(ids_src.unsqueeze(0), output_hidden_states=True)[2][align_layer][0, 1:-1]\n",
        "  out_tgt = model(ids_tgt.unsqueeze(0), output_hidden_states=True)[2][align_layer][0, 1:-1]\n",
        "\n",
        "  dot_prod = torch.matmul(out_src, out_tgt.transpose(-1, -2))\n",
        "\n",
        "  softmax_srctgt = torch.nn.Softmax(dim=-1)(dot_prod)\n",
        "  softmax_tgtsrc = torch.nn.Softmax(dim=-2)(dot_prod)\n",
        "\n",
        "  softmax_inter = (softmax_srctgt > threshold)*(softmax_tgtsrc > threshold)\n",
        "\n",
        "align_subwords = torch.nonzero(softmax_inter, as_tuple=False)\n",
        "align_words = set()\n",
        "for i, j in align_subwords:\n",
        "  align_words.add( (sub2word_map_src[i], sub2word_map_tgt[j]) )\n",
        "\n",
        "# printing\n",
        "class color:\n",
        "   PURPLE = '\\033[95m'\n",
        "   CYAN = '\\033[96m'\n",
        "   DARKCYAN = '\\033[36m'\n",
        "   BLUE = '\\033[94m'\n",
        "   GREEN = '\\033[92m'\n",
        "   YELLOW = '\\033[93m'\n",
        "   RED = '\\033[91m'\n",
        "   BOLD = '\\033[1m'\n",
        "   UNDERLINE = '\\033[4m'\n",
        "   END = '\\033[0m'\n",
        "\n",
        "for i, j in sorted(align_words):\n",
        "  print(f'{color.BOLD}{color.BLUE}{sent_src[i]}{color.END}==={color.BOLD}{color.RED}{sent_tgt[j]}{color.END}')"
      ]
    }
  ],
  "metadata": {
    "accelerator": "GPU",
    "colab": {
      "gpuType": "T4",
      "include_colab_link": true,
      "provenance": []
    },
    "kernelspec": {
      "display_name": "Python 3",
      "name": "python3"
    },
    "language_info": {
      "codemirror_mode": {
        "name": "ipython",
        "version": 3
      },
      "file_extension": ".py",
      "mimetype": "text/x-python",
      "name": "python",
      "nbconvert_exporter": "python",
      "pygments_lexer": "ipython3",
      "version": "3.11.3"
    }
  },
  "nbformat": 4,
  "nbformat_minor": 0
}
