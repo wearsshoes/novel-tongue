{
 "cells": [
  {
   "cell_type": "code",
   "execution_count": 3,
   "metadata": {},
   "outputs": [],
   "source": [
    "import os\n",
    "import requests\n",
    "from bs4 import BeautifulSoup"
   ]
  },
  {
   "cell_type": "code",
   "execution_count": 4,
   "metadata": {},
   "outputs": [],
   "source": [
    "base_url = \"http://bilinguis.com/book/alice/es/en/\"\n",
    "chapters = [\"c{}\".format(i) for i in range(1, 13)]\n",
    "dest_folder = \"./alice_in_wonderland\"\n",
    "\n",
    "if not os.path.exists(dest_folder):\n",
    "    os.makedirs(dest_folder)"
   ]
  },
  {
   "cell_type": "code",
   "execution_count": 6,
   "metadata": {},
   "outputs": [
    {
     "name": "stdout",
     "output_type": "stream",
     "text": [
      "Chapter c1 saved to c1_es.txt and c1_en.txt\n",
      "Chapter c2 saved to c2_es.txt and c2_en.txt\n",
      "Chapter c3 saved to c3_es.txt and c3_en.txt\n",
      "Chapter c4 saved to c4_es.txt and c4_en.txt\n",
      "Chapter c5 saved to c5_es.txt and c5_en.txt\n",
      "Chapter c6 saved to c6_es.txt and c6_en.txt\n",
      "Chapter c7 saved to c7_es.txt and c7_en.txt\n",
      "Chapter c8 saved to c8_es.txt and c8_en.txt\n",
      "Chapter c9 saved to c9_es.txt and c9_en.txt\n",
      "Chapter c10 saved to c10_es.txt and c10_en.txt\n",
      "Chapter c11 saved to c11_es.txt and c11_en.txt\n",
      "Chapter c12 saved to c12_es.txt and c12_en.txt\n"
     ]
    }
   ],
   "source": [
    "for chapter in chapters:\n",
    "    url = base_url + chapter\n",
    "\n",
    "    # Send a GET request to the chapter URL\n",
    "    response = requests.get(url)\n",
    "\n",
    "    # Create a BeautifulSoup object and parse the HTML content\n",
    "    soup = BeautifulSoup(response.content, \"html.parser\")\n",
    "\n",
    "    # Find all the div elements with class \"row\"\n",
    "    content_divs = soup.select(\"div.row\")\n",
    "\n",
    "    # Open files for writing the Spanish and English content\n",
    "    with open(f\"{dest_folder}/{chapter}_es.txt\", \"w\", encoding=\"utf-8\") as es_file, \\\n",
    "        open(f\"{dest_folder}/{chapter}_en.txt\", \"w\", encoding=\"utf-8\") as en_file:\n",
    "\n",
    "        # Extract the text content from each div\n",
    "        for div in content_divs:\n",
    "            # Find the div elements with lang attribute \"es\" and \"en\"\n",
    "            es_div = div.find(\"div\", lang=\"es\")\n",
    "            en_div = div.find(\"div\", lang=\"en\")\n",
    "\n",
    "            if es_div and en_div:\n",
    "                es_text = es_div.get_text(separator=\"\\n\", strip=False)\n",
    "                en_text = en_div.get_text(separator=\"\\n\", strip=False)\n",
    "\n",
    "                # Split the text into lines and remove empty lines\n",
    "                es_lines = [line.strip() for line in es_text.split(\"\\n\") if line.strip()]\n",
    "                en_lines = [line.strip() for line in en_text.split(\"\\n\") if line.strip()]\n",
    "\n",
    "                # Write the Spanish lines to the Spanish file\n",
    "                for line in es_lines:\n",
    "                    es_file.write(f\"{line}\\n\")\n",
    "\n",
    "                # Write the English lines to the English file\n",
    "                for line in en_lines:\n",
    "                    en_file.write(f\"{line}\\n\")\n",
    "\n",
    "        # Write a separator line to the files\n",
    "        es_file.write(\"\\n\")\n",
    "        en_file.write(\"\\n\")\n",
    "\n",
    "    print(f\"Chapter {chapter} saved to {chapter}_es.txt and {chapter}_en.txt\")"
   ]
  }
 ],
 "metadata": {
  "kernelspec": {
   "display_name": "venv",
   "language": "python",
   "name": "python3"
  },
  "language_info": {
   "codemirror_mode": {
    "name": "ipython",
    "version": 3
   },
   "file_extension": ".py",
   "mimetype": "text/x-python",
   "name": "python",
   "nbconvert_exporter": "python",
   "pygments_lexer": "ipython3",
   "version": "3.10.12"
  }
 },
 "nbformat": 4,
 "nbformat_minor": 2
}
