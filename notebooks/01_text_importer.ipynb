{
 "cells": [
  {
   "cell_type": "code",
   "execution_count": 1,
   "metadata": {},
   "outputs": [],
   "source": [
    "import os\n",
    "import requests\n",
    "from bs4 import BeautifulSoup"
   ]
  },
  {
   "cell_type": "code",
   "execution_count": 6,
   "metadata": {},
   "outputs": [],
   "source": [
    "base_url = \"http://bilinguis.com/book/baskerville/en/ru/\"\n",
    "chapters = [\"c{}\".format(i) for i in range(1, 16)]\n",
    "title = \"hb\"\n",
    "src_lang = \"en\"\n",
    "tgt_lang = \"ru\"\n",
    "dest_folder = \"./{title}_{src_lang}_{tgt_lang}\".format(title=title, src_lang=src_lang, tgt_lang=tgt_lang)"
   ]
  },
  {
   "cell_type": "code",
   "execution_count": 7,
   "metadata": {},
   "outputs": [
    {
     "name": "stdout",
     "output_type": "stream",
     "text": [
      "Chapter c1 saved to c1_en.txt and c1_ru.txt\n",
      "Chapter c2 saved to c2_en.txt and c2_ru.txt\n",
      "Chapter c3 saved to c3_en.txt and c3_ru.txt\n",
      "Chapter c4 saved to c4_en.txt and c4_ru.txt\n",
      "Chapter c5 saved to c5_en.txt and c5_ru.txt\n",
      "Chapter c6 saved to c6_en.txt and c6_ru.txt\n",
      "Chapter c7 saved to c7_en.txt and c7_ru.txt\n",
      "Chapter c8 saved to c8_en.txt and c8_ru.txt\n",
      "Chapter c9 saved to c9_en.txt and c9_ru.txt\n",
      "Chapter c10 saved to c10_en.txt and c10_ru.txt\n",
      "Chapter c11 saved to c11_en.txt and c11_ru.txt\n",
      "Chapter c12 saved to c12_en.txt and c12_ru.txt\n",
      "Chapter c13 saved to c13_en.txt and c13_ru.txt\n",
      "Chapter c14 saved to c14_en.txt and c14_ru.txt\n",
      "Chapter c15 saved to c15_en.txt and c15_ru.txt\n"
     ]
    }
   ],
   "source": [
    "if not os.path.exists(dest_folder):\n",
    "    os.makedirs(dest_folder)\n",
    "\n",
    "for chapter in chapters:\n",
    "    url = base_url + chapter\n",
    "\n",
    "    # Send a GET request to the chapter URL\n",
    "    response = requests.get(url)\n",
    "\n",
    "    # Create a BeautifulSoup object and parse the HTML content\n",
    "    soup = BeautifulSoup(response.content, \"html.parser\")\n",
    "\n",
    "    # Find all the div elements with class \"row\"\n",
    "    content_divs = soup.select(\"div.row\")\n",
    "\n",
    "    # Open files for writing the Spanish and English content\n",
    "    with open(f\"{dest_folder}/{chapter}_{src_lang}.txt\", \"w\", encoding=\"utf-8\") as src_file, \\\n",
    "        open(f\"{dest_folder}/{chapter}_{tgt_lang}.txt\", \"w\", encoding=\"utf-8\") as tgt_file:\n",
    "\n",
    "        # Extract the text content from each div\n",
    "        for div in content_divs:\n",
    "            # Find the div elements with lang attribute \"es\" and \"en\"\n",
    "            src_div = div.find(\"div\", lang=src_lang)\n",
    "            tgt_div = div.find(\"div\", lang=tgt_lang)\n",
    "\n",
    "            if src_div and tgt_div:\n",
    "                src_text = src_div.get_text(separator=\"\\n\", strip=False)\n",
    "                tgt_text = tgt_div.get_text(separator=\"\\n\", strip=False)\n",
    "\n",
    "                # Split the text into lines and remove empty lines\n",
    "                src_lines = [line.strip() for line in src_text.split(\"\\n\") if line.strip()]\n",
    "                tgt_lines = [line.strip() for line in tgt_text.split(\"\\n\") if line.strip()]\n",
    "\n",
    "                # Write the Spanish lines to the Spanish file\n",
    "                for line in src_lines:\n",
    "                    src_file.write(f\"{line}\\n\")\n",
    "\n",
    "                # Write the English lines to the English file\n",
    "                for line in tgt_lines:\n",
    "                    tgt_file.write(f\"{line}\\n\")\n",
    "\n",
    "        # Write a separator line to the files\n",
    "        src_file.write(\"\\n\")\n",
    "        tgt_file.write(\"\\n\")\n",
    "\n",
    "    print(f\"Chapter {chapter} saved to {chapter}_{src_lang}.txt and {chapter}_{tgt_lang}.txt\")"
   ]
  }
 ],
 "metadata": {
  "kernelspec": {
   "display_name": "venv",
   "language": "python",
   "name": "python3"
  },
  "language_info": {
   "codemirror_mode": {
    "name": "ipython",
    "version": 3
   },
   "file_extension": ".py",
   "mimetype": "text/x-python",
   "name": "python",
   "nbconvert_exporter": "python",
   "pygments_lexer": "ipython3",
   "version": "3.11.3"
  }
 },
 "nbformat": 4,
 "nbformat_minor": 2
}
