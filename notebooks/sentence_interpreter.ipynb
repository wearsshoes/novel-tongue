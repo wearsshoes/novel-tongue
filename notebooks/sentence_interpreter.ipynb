{
 "cells": [
  {
   "cell_type": "code",
   "execution_count": 11,
   "metadata": {},
   "outputs": [],
   "source": [
    "import spacy\n",
    "import json\n",
    "import spacy_alignments as tokenizations\n"
   ]
  },
  {
   "cell_type": "code",
   "execution_count": 9,
   "metadata": {},
   "outputs": [
    {
     "name": "stdout",
     "output_type": "stream",
     "text": [
      "Source tokens: [\"how\", \"funny\", \"it\", \"'ll\", \"seem\", \"to\", \"come\", \"out\", \"among\", \"the\", \"people\", \"that\", \"walk\", \"with\", \"their\", \"heads\", \"downward\", \"!\"]\n",
      "Target tokens: [\"\\u00a1\", \"Qu\\u00e9\", \"divertido\", \"ser\\u00eda\", \"salir\", \"donde\", \"vive\", \"esta\", \"gente\", \"que\", \"anda\", \"cabeza\", \"abajo\", \"!\"]\n",
      "Source POS tags: ['SCONJ', 'ADJ', 'PRON', 'AUX', 'VERB', 'PART', 'VERB', 'ADP', 'ADP', 'DET', 'NOUN', 'PRON', 'VERB', 'ADP', 'PRON', 'NOUN', 'ADV', 'PUNCT']\n",
      "Target POS tags: ['PUNCT', 'DET', 'ADJ', 'AUX', 'VERB', 'PRON', 'VERB', 'DET', 'NOUN', 'PRON', 'VERB', 'NOUN', 'ADV', 'PUNCT']\n",
      "Source dependencies: [('how', 'advmod', 'funny'), ('funny', 'acomp', 'seem'), ('it', 'nsubj', 'seem'), (\"'ll\", 'aux', 'seem'), ('seem', 'ROOT', 'seem'), ('to', 'aux', 'come'), ('come', 'xcomp', 'seem'), ('out', 'prt', 'come'), ('among', 'prep', 'come'), ('the', 'det', 'people'), ('people', 'pobj', 'among'), ('that', 'nsubj', 'walk'), ('walk', 'relcl', 'people'), ('with', 'prep', 'walk'), ('their', 'poss', 'heads'), ('heads', 'pobj', 'with'), ('downward', 'advmod', 'walk'), ('!', 'punct', 'seem')]\n",
      "Target dependencies: [('¡', 'punct', 'divertido'), ('Qué', 'nmod', 'divertido'), ('divertido', 'ROOT', 'divertido'), ('sería', 'cop', 'divertido'), ('salir', 'ccomp', 'sería'), ('donde', 'obl', 'vive'), ('vive', 'ccomp', 'salir'), ('esta', 'det', 'gente'), ('gente', 'nsubj', 'vive'), ('que', 'nsubj', 'anda'), ('anda', 'acl', 'gente'), ('cabeza', 'obj', 'anda'), ('abajo', 'advmod', 'anda'), ('!', 'punct', 'divertido')]\n"
     ]
    }
   ],
   "source": [
    "src_text = \"how funny it'll seem to come out among the people that walk with their heads downward!\"\n",
    "tgt_text = \"¡Qué divertido sería salir donde vive esta gente que anda cabeza abajo!\"\n",
    "nlp_src = spacy.load(\"en_core_web_sm\")\n",
    "nlp_tgt = spacy.load(\"es_core_news_sm\")\n",
    "\n",
    "doc_src = nlp_src(src_text)\n",
    "doc_tgt = nlp_tgt(tgt_text)\n",
    "\n",
    "src_tokens = [token.text for token in doc_src]\n",
    "tgt_tokens = [token.text for token in doc_tgt]\n",
    "print(\"Source tokens:\", json.dumps([i.strip() for i in src_tokens]))\n",
    "print(\"Target tokens:\", json.dumps([i.strip() for i in tgt_tokens]))\n",
    "\n",
    "src_pos = [token.pos_ for token in doc_src]\n",
    "tgt_pos = [token.pos_ for token in doc_tgt]\n",
    "print(\"Source POS tags:\", src_pos)\n",
    "print(\"Target POS tags:\", tgt_pos)\n",
    "\n",
    "src_dep = [(token.text, token.dep_, token.head.text) for token in doc_src]\n",
    "tgt_dep = [(token.text, token.dep_, token.head.text) for token in doc_tgt]\n",
    "print(\"Source dependencies:\", src_dep)\n",
    "print(\"Target dependencies:\", tgt_dep)"
   ]
  },
  {
   "cell_type": "code",
   "execution_count": 15,
   "metadata": {},
   "outputs": [
    {
     "name": "stdout",
     "output_type": "stream",
     "text": [
      "a2b: [[0], [1, 2], [3], [4, 5], [6], [7], [8], [9], [10], [11], [12], [13], [14], [15], [16], [17], [18, 19], [20]]\n",
      "b2a: [[0], [1], [1], [2], [3], [3], [4], [5], [6], [7], [8], [9], [10], [11], [12], [13], [14], [15], [16], [16], [17]]\n"
     ]
    }
   ],
   "source": [
    "spacy_src_tokens = src_tokens\n",
    "mbert_src_tokens = [\"how\", \"fun\", \"##ny\", \"it\", \"'\", \"ll\", \"seem\", \"to\", \"come\", \"out\", \"among\", \"the\", \"people\", \"that\", \"walk\", \"with\", \"their\", \"heads\", \"down\", \"##ward\", \"!\"]\n",
    "\n",
    "a2b, b2a = tokenizations.get_alignments(spacy_src_tokens, mbert_src_tokens)\n",
    "print (\"a2b:\", a2b)\n",
    "print (\"b2a:\", b2a)"
   ]
  },
  {
   "cell_type": "code",
   "execution_count": 1,
   "metadata": {},
   "outputs": [
    {
     "data": {
      "text/html": [
       "\n",
       "        <div id=\"id_857487\"></div>\n",
       "        <style>.sentence {\n",
       "    display: flex;\n",
       "    justify-content: center;\n",
       "}\n",
       "\n",
       ".originalSentence {\n",
       "    margin-bottom: 3em;\n",
       "}\n",
       "\n",
       ".word {\n",
       "    padding: 5px;\n",
       "    margin: 2px;\n",
       "    border: 1px solid #ddd;\n",
       "    cursor: pointer;\n",
       "}\n",
       "\n",
       ".alignmentWidget {\n",
       "    position: relative;\n",
       "}\n",
       "\n",
       ".alignmentLines {\n",
       "    position: absolute;\n",
       "    top: 0;\n",
       "    left: 0;\n",
       "    pointer-events: none;\n",
       "    width: 100%;\n",
       "    height: 100%;\n",
       "}</style>\n",
       "        <script type=\"text/javascript\">\n",
       "        function show_word_alignments(element, originalSentence, translationSentence, alignments) {\n",
       "    // Create the alignmentWidget container\n",
       "    const alignmentWidgetDiv = document.createElement(\"div\");\n",
       "    alignmentWidgetDiv.className = \"alignmentWidget\";\n",
       "\n",
       "    // Create the originalSentence container\n",
       "    const originalSentenceDiv = document.createElement(\"div\");\n",
       "    originalSentenceDiv.className = \"sentence originalSentence\";\n",
       "\n",
       "    // Create the translationSentence container\n",
       "    const translationSentenceDiv = document.createElement(\"div\");\n",
       "    translationSentenceDiv.className = \"sentence\";\n",
       "\n",
       "    // Create the SVG element for alignment lines\n",
       "    const alignmentLinesSvg = document.createElementNS(\"http://www.w3.org/2000/svg\", \"svg\");\n",
       "    // alignmentLinesSvg.className = \"alignmentLines\";\n",
       "    alignmentLinesSvg.setAttribute('class', 'alignmentLines');\n",
       "\n",
       "    // Append the sub-elements to the alignmentWidget container\n",
       "    alignmentWidgetDiv.appendChild(originalSentenceDiv);\n",
       "    alignmentWidgetDiv.appendChild(translationSentenceDiv);\n",
       "    alignmentWidgetDiv.appendChild(alignmentLinesSvg);\n",
       "\n",
       "    // Append the alignmentWidget container to the main element\n",
       "    element.appendChild(alignmentWidgetDiv);\n",
       "\n",
       "    // Populate original sentence\n",
       "    originalSentence.forEach(word => {\n",
       "        const wordBox = document.createElement(\"div\");\n",
       "        wordBox.className = \"word\";\n",
       "        wordBox.textContent = word;\n",
       "        originalSentenceDiv.appendChild(wordBox);\n",
       "    });\n",
       "\n",
       "    // Populate translation sentence\n",
       "    translationSentence.forEach(word => {\n",
       "        const wordBox = document.createElement(\"div\");\n",
       "        wordBox.className = \"word\";\n",
       "        wordBox.textContent = word;\n",
       "        translationSentenceDiv.appendChild(wordBox);\n",
       "    });\n",
       "\n",
       "    // Draw lines for word alignment based on alignments list\n",
       "    alignments.forEach(([srcIndex, tgtIndex]) => {\n",
       "        const originalWordBox = originalSentenceDiv.children[srcIndex];\n",
       "        const translationWordBox = translationSentenceDiv.children[tgtIndex];\n",
       "\n",
       "        const line = document.createElementNS(\"http://www.w3.org/2000/svg\", \"line\");\n",
       "        line.setAttribute(\"x1\", originalWordBox.offsetLeft + originalWordBox.offsetWidth / 2);\n",
       "        line.setAttribute(\"y1\", originalWordBox.offsetTop + originalWordBox.offsetHeight);\n",
       "        line.setAttribute(\"x2\", translationWordBox.offsetLeft + translationWordBox.offsetWidth / 2);\n",
       "        line.setAttribute(\"y2\", translationWordBox.offsetTop);\n",
       "\n",
       "        line.setAttribute(\"stroke\", \"#007bff\");\n",
       "\n",
       "        alignmentLinesSvg.appendChild(line);\n",
       "\n",
       "        // Add event listeners for hover effect\n",
       "        const handleMouseover = () => {\n",
       "            originalWordBox.style.backgroundColor = \"#fff45c\";\n",
       "            translationWordBox.style.backgroundColor = \"#fff45c\";\n",
       "            line.setAttribute(\"stroke\", \"#ff0000\");\n",
       "        };\n",
       "\n",
       "        const handleMouseout = () => {\n",
       "            originalWordBox.style.backgroundColor = \"\";\n",
       "            translationWordBox.style.backgroundColor = \"\";\n",
       "            line.setAttribute(\"stroke\", \"#007bff\");\n",
       "        };\n",
       "\n",
       "        originalWordBox.addEventListener(\"mouseover\", handleMouseover);\n",
       "        originalWordBox.addEventListener(\"mouseout\", handleMouseout);\n",
       "\n",
       "        translationWordBox.addEventListener(\"mouseover\", handleMouseover);\n",
       "        translationWordBox.addEventListener(\"mouseout\", handleMouseout);\n",
       "    });\n",
       "};\n",
       "        show_word_alignments(document.getElementById(\"id_857487\"), [\"I\", \"love\", \"coding\"], [\"J'aime\", \"coder\"], [[0, 0], [1, 0], [2, 1]]);\n",
       "        </script>\n",
       "        "
      ],
      "text/plain": [
       "<IPython.core.display.HTML object>"
      ]
     },
     "execution_count": 1,
     "metadata": {},
     "output_type": "execute_result"
    }
   ],
   "source": [
    "from word_alignment_visualization import show_word_alignments\n",
    "\n",
    "# Example data\n",
    "src_tokens = [\"I\", \"love\", \"coding\"]\n",
    "tgt_tokens = [\"J'aime\", \"coder\"]\n",
    "alignment = [[0, 0], [1, 0], [2, 1]]\n",
    "\n",
    "# Display word alignment visualization\n",
    "show_word_alignments(src_tokens, tgt_tokens, alignment)"
   ]
  }
 ],
 "metadata": {
  "kernelspec": {
   "display_name": ".venv",
   "language": "python",
   "name": "python3"
  },
  "language_info": {
   "codemirror_mode": {
    "name": "ipython",
    "version": 3
   },
   "file_extension": ".py",
   "mimetype": "text/x-python",
   "name": "python",
   "nbconvert_exporter": "python",
   "pygments_lexer": "ipython3",
   "version": "3.11.3"
  }
 },
 "nbformat": 4,
 "nbformat_minor": 2
}
