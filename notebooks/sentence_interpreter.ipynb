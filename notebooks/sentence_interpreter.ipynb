{
 "cells": [
  {
   "cell_type": "code",
   "execution_count": 1,
   "metadata": {},
   "outputs": [],
   "source": [
    "import spacy"
   ]
  },
  {
   "cell_type": "code",
   "execution_count": 6,
   "metadata": {},
   "outputs": [
    {
     "name": "stdout",
     "output_type": "stream",
     "text": [
      "Source POS tags: ['CCONJ', 'PRON', 'VERB', 'ADP', 'VERB', 'ADP', 'PRON', 'SCONJ', 'PRON', 'AUX', 'VERB', 'PRON', 'PUNCT']\n",
      "Target POS tags: ['CCONJ', 'VERB', 'VERB', 'PRON', 'AUX', 'ADP', 'VERB', 'ADP', 'NOUN', 'PUNCT']\n",
      "Source dependencies: [('And', 'cc', 'went'), ('she', 'nsubj', 'went'), ('went', 'ROOT', 'went'), ('on', 'prep', 'went'), ('planning', 'advcl', 'went'), ('to', 'prep', 'planning'), ('herself', 'pobj', 'to'), ('how', 'advmod', 'manage'), ('she', 'nsubj', 'manage'), ('would', 'aux', 'manage'), ('manage', 'ccomp', 'planning'), ('it', 'dobj', 'manage'), ('.', 'punct', 'went')]\n",
      "Target dependencies: [('Y', 'advmod', 'siguió'), ('siguió', 'ROOT', 'siguió'), ('planeando', 'advcl', 'siguió'), ('cómo', 'obl', 'llevarlo'), ('iba', 'aux', 'llevarlo'), ('a', 'mark', 'llevarlo'), ('llevarlo', 'xcomp', 'planeando'), ('a', 'case', 'cabo'), ('cabo', 'compound', 'llevarlo'), ('.', 'punct', 'siguió')]\n"
     ]
    }
   ],
   "source": [
    "src_text = \"And she went on planning to herself how she would manage it.\"\n",
    "tgt_text = \"Y siguió planeando cómo iba a llevarlo a cabo.\"\n",
    "nlp_src = spacy.load(\"en_core_web_sm\")\n",
    "nlp_tgt = spacy.load(\"es_core_news_sm\")\n",
    "\n",
    "doc_src = nlp_src(src_text)\n",
    "doc_tgt = nlp_tgt(tgt_text)\n",
    "\n",
    "src_pos = [token.pos_ for token in doc_src]\n",
    "tgt_pos = [token.pos_ for token in doc_tgt]\n",
    "print(\"Source POS tags:\", src_pos)\n",
    "print(\"Target POS tags:\", tgt_pos)\n",
    "\n",
    "src_dep = [(token.text, token.dep_, token.head.text) for token in doc_src]\n",
    "tgt_dep = [(token.text, token.dep_, token.head.text) for token in doc_tgt]\n",
    "print(\"Source dependencies:\", src_dep)\n",
    "print(\"Target dependencies:\", tgt_dep)"
   ]
  }
 ],
 "metadata": {
  "kernelspec": {
   "display_name": ".venv",
   "language": "python",
   "name": "python3"
  },
  "language_info": {
   "name": "python",
   "version": "3.11.3"
  }
 },
 "nbformat": 4,
 "nbformat_minor": 2
}
