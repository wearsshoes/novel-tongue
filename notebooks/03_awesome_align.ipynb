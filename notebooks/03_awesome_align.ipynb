{
  "cells": [
    {
      "cell_type": "markdown",
      "metadata": {
        "id": "Hjc7LvIQbuMn"
      },
      "source": [
        "# AWESOME: Aligning Word Embedding Spaces of Multilingual Encoders"
      ]
    },
    {
      "cell_type": "code",
      "execution_count": 124,
      "metadata": {
        "colab": {
          "base_uri": "https://localhost:8080/"
        },
        "id": "ODwJ_gQ8bnqR",
        "outputId": "1d7a4129-5b53-4a13-dc6f-550f2c1426ce"
      },
      "outputs": [],
      "source": [
        "# %pip install transformers==3.1.0\n",
        "import torch\n",
        "import transformers\n",
        "import itertools\n",
        "from word_alignment_visualization import show_word_alignments\n",
        "from IPython.display import display\n",
        "import spacy\n",
        "import spacy_alignments as tokenizations\n",
        "import os"
      ]
    },
    {
      "cell_type": "code",
      "execution_count": 134,
      "metadata": {
        "id": "9aPvLqT7eiry"
      },
      "outputs": [
        {
          "name": "stderr",
          "output_type": "stream",
          "text": [
            "/usr/local/lib/python3.10/dist-packages/huggingface_hub/file_download.py:1132: FutureWarning: `resume_download` is deprecated and will be removed in version 1.0.0. Downloads always resume when possible. If you want to force a new download, use `force_download=True`.\n",
            "  warnings.warn(\n"
          ]
        }
      ],
      "source": [
        "model = transformers.BertModel.from_pretrained('bert-base-multilingual-cased')\n",
        "tokenizer = transformers.BertTokenizer.from_pretrained('bert-base-multilingual-cased')\n",
        "device = torch.device(\"cuda\" if torch.cuda.is_available() else \"cpu\")\n",
        "model = model.to(device)"
      ]
    },
    {
      "cell_type": "code",
      "execution_count": 121,
      "metadata": {},
      "outputs": [],
      "source": [
        "spacy.prefer_gpu()\n",
        "nlp_en = spacy.load(\"en_core_web_sm\")"
      ]
    },
    {
      "cell_type": "markdown",
      "metadata": {
        "id": "6RPxlavmxNmj"
      },
      "source": [
        "## Import and tokenize texts"
      ]
    },
    {
      "cell_type": "code",
      "execution_count": 129,
      "metadata": {},
      "outputs": [
        {
          "name": "stdout",
          "output_type": "stream",
          "text": [
            "/workspace/novel-tongue/notebooks/aligned_texts\n"
          ]
        }
      ],
      "source": [
        "%cd /workspace/novel-tongue/notebooks/aligned_texts"
      ]
    },
    {
      "cell_type": "code",
      "execution_count": 135,
      "metadata": {},
      "outputs": [],
      "source": [
        "src_sents = []\n",
        "tgt_sents = []\n",
        "with open(f\"c1_aligned.txt\", \"r\") as f:\n",
        "    c1 = f.read()\n",
        "\n",
        "    lines = c1.splitlines()\n",
        "    for i in range(0, len(lines), 3):\n",
        "        src_sents.append(lines[i])\n",
        "        tgt_sents.append(lines[i+1])"
      ]
    },
    {
      "cell_type": "code",
      "execution_count": 136,
      "metadata": {},
      "outputs": [
        {
          "name": "stdout",
          "output_type": "stream",
          "text": [
            "[['All', 'in', 'the', 'golden', 'afternoon'], ['Full', 'leis', '##ure', '##ly', 'we', 'gli', '##de', ';', 'For', 'both', 'our', 'oa', '##rs', ',', 'with', 'little', 'skill', ','], ['By', 'little', 'arms', 'are', 'pl', '##ied', ',', 'While', 'little', 'hands', 'make', 'vain', 'pret', '##ence'], ['Our', 'wa', '##ndering', '##s', 'to', 'guide', '.'], ['Ah', ',', 'cruel', 'Three', '!'], ['In', 'such', 'an', 'hour', '.', 'Ben', '##eath', 'such', 'dream', '##y', 'weather', '.'], ['To', 'be', '##g', 'a', 'tale', 'of', 'br', '##eath', 'too', 'weak'], ['To', 'st', '##ir', 'the', 'tin', '##iest', 'feat', '##her', '!'], ['Yet', 'what', 'can', 'one', 'poor', 'voice', 'av', '##ail'], ['Against', 'three', 'tongue', '##s', 'together', '?'], ['Imperio', '##us', 'Prima', 'flash', '##es', 'forth', 'Her', 'edi', '##ct', '\"', 'to', 'begin', 'it', '\"', '[UNK]'], ['In', 'gent', '##ler', 'tone', 'Sec', '##unda', 'hopes'], ['\"', 'There', 'will', 'he', 'non', '##sens', '##e', 'in', 'it', '!', '\"', '[UNK]'], ['While', 'Ter', '##tia', 'inter', '##rupt', '##s', 'the', 'tale'], ['Not', 'more', 'than', 'once', 'a', 'minute', '.'], ['Ano', '##n', ',', 'to', 'sudden', 'silence', 'won', ','], ['In', 'fan', '##cy', 'they', 'pursue', 'The', 'dream', '-', 'child', 'moving', 'through', 'a', 'land'], ['Of', 'won', '##ders', 'wild', 'and', 'new', ','], ['In', 'friendly', 'chat', 'with', 'bird', 'or', 'be', '##ast', '[UNK]'], ['And', 'half', 'believe', 'it', 'true', '.'], ['And', 'ever', ',', 'as', 'the', 'story', 'dra', '##ined'], ['The', 'well', '##s', 'of', 'fan', '##cy', 'dry', ',', 'And', 'fai', '##ntly', 'str', '##ove', 'that', 'wear', '##y', 'one'], ['To', 'put', 'the', 'subject', 'by', ','], ['\"', 'The', 'rest', 'next', 'time', '[UNK]', '\"', '\"', 'It', 'is', 'next', 'time', '!', '\"', 'The', 'happy', 'voices', 'c', '##ry', '.'], ['Thus', 'grew', 'the', 'tale', 'of', 'Wonderland', ':'], ['Thus', 'slowly', ',', 'one', 'by', 'one', ','], ['Its', 'quai', '##nt', 'events', 'were', 'ham', '##mere', '##d', 'out', '[UNK]'], ['And', 'now', 'the', 'tale', 'is', 'done', ','], ['And', 'home', 'we', 'st', '##eer', ',', 'a', 'mer', '##ry', 'crew', ','], ['Ben', '##eath', 'the', 'setting', \"'\", 'sun', '.'], ['Alice', '!', 'a', 'child', '##ish', 'story', 'take', ','], ['And', 'with', 'a', 'gent', '##le', 'hand'], ['Lay', 'it', 'where', 'Child', '##hood', \"'\", 's', 'dreams', 'are', 'twin', '##ed'], ['In', 'Memory', \"'\", 's', 'my', '##stic', 'band', ','], ['Like', 'pi', '##lg', '##rim', \"'\", 's', 'with', '##er', \"'\", 'd', 'w', '##reat', '##h', 'of', 'flowers'], ['Pl', '##uck', \"'\", 'd', 'in', 'a', 'far', '-', 'off', 'land', '.'], ['CH', '##AP', '##TER', 'I', '.'], ['Down', 'the', 'Rabbit', '-', 'Hole'], ['Alice', 'was', 'beginning', 'to', 'get', 'very', 'tire', '##d', 'of', 'sitting', 'by', 'her', 'sister', 'on', 'the', 'bank', ',', 'and', 'of', 'having', 'nothing', 'to', 'do', ':', 'once', 'or', 'twice', 'she', 'had', 'pe', '##epe', '##d', 'into', 'the', 'book', 'her', 'sister', 'was', 'reading', ',', 'but', 'it', 'had', 'no', 'pictures', 'or', 'conversation', '##s', 'in', 'it', ',', \"'\", 'and', 'what', 'is', 'the', 'use', 'of', 'a', 'book', ',', \"'\", 'thought', 'Alice', \"'\", 'without', 'pictures', 'or', 'conversation', '?', \"'\"], ['So', 'she', 'was', 'considering', 'in', 'her', 'own', 'mind', '(', 'as', 'well', 'as', 'she', 'could', ',', 'for', 'the', 'hot', 'day', 'made', 'her', 'feel', 'very', 'sleep', '##y', 'and', 'st', '##upi', '##d', ')', ',', 'whether', 'the', 'pl', '##eas', '##ure', 'of', 'making', 'a', 'dai', '##sy', '-', 'chain', 'would', 'be', 'worth', 'the', 'trouble', 'of', 'getting', 'up', 'and', 'pick', '##ing', 'the', 'dai', '##sies', ',', 'when', 'suddenly', 'a', 'White', 'Rabbit', 'with', 'pink', 'eyes', 'ran', 'close', 'by', 'her', '.'], ['There', 'was', 'nothing', 'so', 'V', '##ER', '##Y', 'remarkable', 'in', 'that', ';', 'nor', 'did', 'Alice', 'think', 'it', 'so', 'V', '##ER', '##Y', 'much', 'out', 'of', 'the', 'way', 'to', 'hear', 'the', 'Rabbit', 'say', 'to', 'itself', ',', \"'\", 'Oh', 'dea', '##r', '!'], ['Oh', 'dea', '##r', '!'], ['I', 'shall', 'be', 'late', '!', \"'\", '(', 'when', 'she', 'thought', 'it', 'over', 'afterwards', ',', 'it', 'occurred', 'to', 'her', 'that', 'she', 'ou', '##ght', 'to', 'have', 'won', '##dere', '##d', 'at', 'this', ',', 'but', 'at', 'the', 'time', 'it', 'all', 'seemed', 'quite', 'natural', ')', ';', 'but', 'when', 'the', 'Rabbit', 'actually', 'TO', '##OK', 'A', 'W', '##AT', '##CH', 'O', '##UT', 'OF', 'IT', '##S', 'W', '##A', '##IS', '##TC', '##O', '##AT', '-', 'P', '##OCK', '##ET', ',', 'and', 'looked', 'at', 'it', ',', 'and', 'then', 'hur', '##ried', 'on', ',', 'Alice', 'started', 'to', 'her', 'feet', ',', 'for', 'it', 'flash', '##ed', 'across', 'her', 'mind', 'that', 'she', 'had', 'never', 'before', 'seen', 'a', 'ra', '##bbit', 'with', 'either', 'a', 'wa', '##ist', '##coa', '##t', '-', 'poc', '##ket', ',', 'or', 'a', 'watch', 'to', 'take', 'out', 'of', 'it', ',', 'and', 'burning', 'with', 'cu', '##rios', '##ity', ',', 'she', 'ran', 'across', 'the', 'field', 'after', 'it', ',', 'and', 'fortuna', '##tely', 'was', 'just', 'in', 'time', 'to', 'see', 'it', 'pop', 'down', 'a', 'large', 'ra', '##bbit', '-', 'hole', 'under', 'the', 'hed', '##ge', '.'], ['In', 'another', 'moment', 'down', 'went', 'Alice', 'after', 'it', ',', 'never', 'once', 'considering', 'how', 'in', 'the', 'world', 'she', 'was', 'to', 'get', 'out', 'again', '.'], ['The', 'ra', '##bbit', '-', 'hole', 'went', 'straight', 'on', 'like', 'a', 'tunnel', 'for', 'some', 'way', ',', 'and', 'then', 'di', '##pped', 'suddenly', 'down', ',', 'so', 'suddenly', 'that', 'Alice', 'had', 'not', 'a', 'moment', 'to', 'think', 'about', 'stop', '##ping', 'herself', 'before', 'she', 'found', 'herself', 'falling', 'down', 'a', 'very', 'deep', 'well', '.'], ['Eit', '##her', 'the', 'well', 'was', 'very', 'deep', ',', 'or', 'she', 'fell', 'very', 'slowly', ',', 'for', 'she', 'had', 'pl', '##enty', 'of', 'time', 'as', 'she', 'went', 'down', 'to', 'look', 'about', 'her', 'and', 'to', 'won', '##der', 'what', 'was', 'going', 'to', 'happen', 'next', '.'], ['First', ',', 'she', 'tried', 'to', 'look', 'down', 'and', 'make', 'out', 'what', 'she', 'was', 'coming', 'to', ',', 'but', 'it', 'was', 'too', 'dark', 'to', 'see', 'anything', ';', 'then', 'she', 'looked', 'at', 'the', 'sides', 'of', 'the', 'well', ',', 'and', 'notice', '##d', 'that', 'they', 'were', 'filled', 'with', 'cup', '##boards', 'and', 'book', '-', 'she', '##lves', ';', 'here', 'and', 'there', 'she', 'saw', 'maps', 'and', 'pictures', 'hung', 'upon', 'pe', '##gs', '.'], ['She', 'took', 'down', 'a', 'ja', '##r', 'from', 'one', 'of', 'the', 'she', '##lves', 'as', 'she', 'passed', ';', 'it', 'was', 'label', '##led', \"'\", 'OR', '##AN', '##GE', 'MA', '##R', '##MA', '##LA', '##DE', \"'\", ',', 'but', 'to', 'her', 'great', 'disa', '##ppo', '##int', '##ment', 'it', 'was', 'empty', ':', 'she', 'did', 'not', 'like', 'to', 'drop', 'the', 'ja', '##r', 'for', 'fear', 'of', 'killing', 'some', '##body', ',', 'so', 'managed', 'to', 'put', 'it', 'into', 'one', 'of', 'the', 'cup', '##boards', 'as', 'she', 'fell', 'past', 'it', '.'], [\"'\", 'Well', '!', \"'\", 'thought', 'Alice', 'to', 'herself', ',', \"'\", 'after', 'such', 'a', 'fall', 'as', 'this', ',', 'I', 'shall', 'think', 'nothing', 'of', 'tu', '##mbling', 'down', 'sta', '##irs', '!'], ['How', 'bra', '##ve', 'they', \"'\", 'll', 'all', 'think', 'me', 'at', 'home', '!'], ['Why', ',', 'I', 'would', '##n', \"'\", 't', 'say', 'anything', 'about', 'it', ',', 'even', 'if', 'I', 'fell', 'off', 'the', 'top', 'of', 'the', 'house', '!', \"'\"], ['(', 'W', '##hic', '##h', 'was', 'very', 'likely', 'true', '.', ')'], ['Down', ',', 'down', ',', 'down', '.'], ['Would', 'the', 'fall', 'NE', '##VE', '##R', 'come', 'to', 'an', 'end', '!'], [\"'\", 'I', 'won', '##der', 'how', 'many', 'miles', 'I', \"'\", 've', 'fallen', 'by', 'this', 'time', '?', \"'\", 'she', 'said', 'al', '##oud', '.'], [\"'\", 'I', 'must', 'be', 'getting', 'some', '##where', 'near', 'the', 'centre', 'of', 'the', 'earth', '.'], ['Let', 'me', 'see', ':', 'that', 'would', 'be', 'four', 'thousand', 'miles', 'down', ',', 'I', 'think', '[UNK]', \"'\", '(', 'for', ',', 'you', 'see', ',', 'Alice', 'had', 'learn', '##t', 'several', 'things', 'of', 'this', 'sort', 'in', 'her', 'lessons', 'in', 'the', 'school', '##room', ',', 'and', 'though', 'this', 'was', 'not', 'a', 'V', '##ER', '##Y', 'good', 'opportunity', 'for', 'showing', 'off', 'her', 'knowledge', ',', 'as', 'there', 'was', 'no', 'one', 'to', 'listen', 'to', 'her', ',', 'still', 'it', 'was', 'good', 'practice', 'to', 'say', 'it', 'over', ')', \"'\", '[UNK]', 'ye', '##s', ',', 'that', \"'\", 's', 'about', 'the', 'right', 'distance', '[UNK]', 'but', 'then', 'I', 'won', '##der', 'what', 'La', '##titude', 'or', 'Long', '##itude', 'I', \"'\", 've', 'got', 'to', '?', \"'\"], ['(', 'Alice', 'had', 'no', 'idea', 'what', 'La', '##titude', 'was', ',', 'or', 'Long', '##itude', 'either', ',', 'but', 'thought', 'they', 'were', 'nic', '##e', 'grand', 'words', 'to', 'say', '.', ')'], ['Present', '##ly', 'she', 'began', 'again', '.'], [\"'\", 'I', 'won', '##der', 'if', 'I', 'shall', 'fall', 'right', 'T', '##H', '##RO', '##U', '##G', '##H', 'the', 'earth', '!'], ['How', 'fun', '##ny', 'it', \"'\", 'll', 'seem', 'to', 'come', 'out', 'among', 'the', 'people', 'that', 'walk', 'with', 'their', 'heads', 'down', '##ward', '!'], ['The', 'Anti', '##pat', '##hie', '##s', ',', 'I', 'think', '[UNK]', \"'\", '(', 'she', 'was', 'rather', 'g', '##lad', 'there', 'W', '##AS', 'no', 'one', 'listening', ',', 'this', 'time', ',', 'as', 'it', 'didn', \"'\", 't', 'sound', 'at', 'all', 'the', 'right', 'word', ')', \"'\", '[UNK]', 'but', 'I', 'shall', 'have', 'to', 'ask', 'them', 'what', 'the', 'name', 'of', 'the', 'country', 'is', ',', 'you', 'know', '.'], ['Please', ',', 'Ma', \"'\", 'am', ',', 'is', 'this', 'New', 'Zealand', 'or', 'Australia', '?', \"'\", '(', 'and', 'she', 'tried', 'to', 'cu', '##rts', '##ey', 'as', 'she', 'spoke', '[UNK]', 'fan', '##cy', 'C', '##UR', '##TS', '##E', '##Y', '##ING', 'as', 'you', \"'\", 're', 'falling', 'through', 'the', 'air', '!'], ['Do', 'you', 'think', 'you', 'could', 'manage', 'it', '?', ')', \"'\", 'And', 'what', 'an', 'ig', '##nor', '##ant', 'little', 'girl', 'she', \"'\", 'll', 'think', 'me', 'for', 'asking', '!'], ['No', ',', 'it', \"'\", 'll', 'never', 'do', 'to', 'ask', ':', 'perhaps', 'I', 'shall', 'see', 'it', 'written', 'up', 'some', '##where', '.', \"'\"], ['Down', ',', 'down', ',', 'down', '.'], ['There', 'was', 'nothing', 'else', 'to', 'do', ',', 'so', 'Alice', 'soon', 'began', 'talking', 'again', '.'], [\"'\", 'Dina', '##h', \"'\", 'll', 'miss', 'me', 'very', 'much', 'to', '-', 'night', ',', 'I', 'should', 'think', '!', \"'\"], ['(', 'Dina', '##h', 'was', 'the', 'cat', '.', ')'], [\"'\", 'I', 'hope', 'they', \"'\", 'll', 'remember', 'her', 'sau', '##cer', 'of', 'milk', 'at', 'tea', '-', 'time', '.'], ['Dina', '##h', 'my', 'dea', '##r', '!', 'I', 'wish', 'you', 'were', 'down', 'here', 'with', 'me', '!'], ['There', 'are', 'no', 'mic', '##e', 'in', 'the', 'air', ',', 'I', \"'\", 'm', 'af', '##raid', ',', 'but', 'you', 'might', 'catch', 'a', 'bat', ',', 'and', 'that', \"'\", 's', 'very', 'like', 'a', 'mouse', ',', 'you', 'know', '.'], ['But', 'do', 'cat', '##s', 'eat', 'bat', '##s', ',', 'I', 'won', '##der', '?', \"'\"], ['And', 'here', 'Alice', 'began', 'to', 'get', 'rather', 'sleep', '##y', ',', 'and', 'went', 'on', 'saying', 'to', 'herself', ',', 'in', 'a', 'dream', '##y', 'sort', 'of', 'way', ',', \"'\", 'Do', 'cat', '##s', 'eat', 'bat', '##s', '?'], ['Do', 'cat', '##s', 'eat', 'bat', '##s', '?', \"'\", 'and', 'sometimes', ',', \"'\", 'Do', 'bat', '##s', 'eat', 'cat', '##s', '?', \"'\", 'for', ',', 'you', 'see', ',', 'as', 'she', 'couldn', \"'\", 't', 'answer', 'either', 'question', ',', 'it', 'didn', \"'\", 't', 'much', 'matter', 'which', 'way', 'she', 'put', 'it', '.'], ['She', 'felt', 'that', 'she', 'was', 'do', '##zing', 'off', ',', 'and', 'had', 'just', 'begun', 'to', 'dream', 'that', 'she', 'was', 'walking', 'hand', 'in', 'hand', 'with', 'Dina', '##h', ',', 'and', 'saying', 'to', 'her', 'very', 'earn', '##est', '##ly', ',', \"'\", 'Now', ',', 'Dina', '##h', ',', 'tell', 'me', 'the', 'truth', ':', 'did', 'you', 'ever', 'eat', 'a', 'bat', '?', \"'\", 'when', 'suddenly', ',', 'thu', '##mp', '!', 'thu', '##mp', '!', 'down', 'she', 'came', 'upon', 'a', 'he', '##ap', 'of', 'stick', '##s', 'and', 'dry', 'leaves', ',', 'and', 'the', 'fall', 'was', 'over', '.'], ['Alice', 'was', 'not', 'a', 'bit', 'hur', '##t', ',', 'and', 'she', 'jump', '##ed', 'up', 'on', 'to', 'her', 'feet', 'in', 'a', 'moment', ':', 'she', 'looked', 'up', ',', 'but', 'it', 'was', 'all', 'dark', 'over', '##head', ';', 'before', 'her', 'was', 'another', 'long', 'passage', ',', 'and', 'the', 'White', 'Rabbit', 'was', 'still', 'in', 'sight', ',', 'hur', '##ry', '##ing', 'down', 'it', '.'], ['There', 'was', 'not', 'a', 'moment', 'to', 'be', 'lost', ':', 'away', 'went', 'Alice', 'like', 'the', 'wind', ',', 'and', 'was', 'just', 'in', 'time', 'to', 'hear', 'it', 'say', ',', 'as', 'it', 'turned', 'a', 'corner', ',', \"'\", 'Oh', 'my', 'ear', '##s', 'and', 'w', '##his', '##kers', ',', 'how', 'late', 'it', \"'\", 's', 'getting', '!', \"'\"], ['She', 'was', 'close', 'behind', 'it', 'when', 'she', 'turned', 'the', 'corner', ',', 'but', 'the', 'Rabbit', 'was', 'no', 'longer', 'to', 'be', 'seen', ':', 'she', 'found', 'herself', 'in', 'a', 'long', ',', 'low', 'hall', ',', 'which', 'was', 'lit', 'up', 'by', 'a', 'row', 'of', 'la', '##mps', 'hang', '##ing', 'from', 'the', 'roof', '.'], ['There', 'were', 'doors', 'all', 'round', 'the', 'hall', ',', 'but', 'they', 'were', 'all', 'lock', '##ed', ';', 'and', 'when', 'Alice', 'had', 'been', 'all', 'the', 'way', 'down', 'one', 'side', 'and', 'up', 'the', 'other', ',', 'trying', 'every', 'door', ',', 'she', 'walk', '##ed', 'sad', '##ly', 'down', 'the', 'middle', ',', 'won', '##dering', 'how', 'she', 'was', 'ever', 'to', 'get', 'out', 'again', '.'], ['Sud', '##den', '##ly', 'she', 'came', 'upon', 'a', 'little', 'three', '-', 'legge', '##d', 'table', ',', 'all', 'made', 'of', 'solid', 'glass', ';', 'there', 'was', 'nothing', 'on', 'it', 'except', 'a', 'tin', '##y', 'golden', 'key', ',', 'and', 'Alice', \"'\", 's', 'first', 'thought', 'was', 'that', 'it', 'might', 'belong', 'to', 'one', 'of', 'the', 'doors', 'of', 'the', 'hall', ';', 'but', ',', 'alas', '!', 'either', 'the', 'lock', '##s', 'were', 'too', 'large', ',', 'or', 'the', 'key', 'was', 'too', 'small', ',', 'but', 'at', 'any', 'rate', 'it', 'would', 'not', 'open', 'any', 'of', 'them', '.'], ['However', ',', 'on', 'the', 'second', 'time', 'round', ',', 'she', 'came', 'upon', 'a', 'low', 'curta', '##in', 'she', 'had', 'not', 'notice', '##d', 'before', ',', 'and', 'behind', 'it', 'was', 'a', 'little', 'door', 'about', 'fifteen', 'inches', 'high', ':', 'she', 'tried', 'the', 'little', 'golden', 'key', 'in', 'the', 'lock', ',', 'and', 'to', 'her', 'great', 'del', '##ight', 'it', 'fitted', '!'], ['Alice', 'opened', 'the', 'door', 'and', 'found', 'that', 'it', 'led', 'into', 'a', 'small', 'passage', ',', 'not', 'much', 'larger', 'than', 'a', 'rat', '-', 'hole', ':', 'she', 'kn', '##elt', 'down', 'and', 'looked', 'along', 'the', 'passage', 'into', 'the', 'love', '##lies', '##t', 'garden', 'you', 'ever', 'saw', '.'], ['How', 'she', 'longe', '##d', 'to', 'get', 'out', 'of', 'that', 'dark', 'hall', ',', 'and', 'wa', '##nder', 'about', 'among', 'those', 'bed', '##s', 'of', 'bright', 'flowers', 'and', 'those', 'cool', 'fou', '##nta', '##ins', ',', 'but', 'she', 'could', 'not', 'even', 'get', 'her', 'head', 'through', 'the', 'door', '##way', ';', \"'\", 'and', 'even', 'if', 'my', 'head', 'would', 'go', 'through', ',', \"'\", 'thought', 'poor', 'Alice', ',', \"'\", 'it', 'would', 'be', 'of', 'very', 'little', 'use', 'without', 'my', 'shoulder', '##s', '.'], ['Oh', ',', 'how', 'I', 'wish', 'I', 'could', 'shut', 'up', 'like', 'a', 'tele', '##scope', '!'], ['I', 'think', 'I', 'could', ',', 'if', 'I', 'only', 'know', 'how', 'to', 'begin', '.', \"'\"], ['For', ',', 'you', 'see', ',', 'so', 'many', 'out', '-', 'of', '-', 'the', '-', 'way', 'things', 'had', 'happened', 'late', '##ly', ',', 'that', 'Alice', 'had', 'begun', 'to', 'think', 'that', 'very', 'few', 'things', 'indeed', 'were', 'really', 'impossible', '.'], ['There', 'seemed', 'to', 'be', 'no', 'use', 'in', 'waiting', 'by', 'the', 'little', 'door', ',', 'so', 'she', 'went', 'back', 'to', 'the', 'table', ',', 'half', 'hop', '##ing', 'she', 'might', 'find', 'another', 'key', 'on', 'it', ',', 'or', 'at', 'any', 'rate', 'a', 'book', 'of', 'rules', 'for', 'shut', '##ting', 'people', 'up', 'like', 'tele', '##scope', '##s', ':', 'this', 'time', 'she', 'found', 'a', 'little', 'bot', '##tle', 'on', 'it', ',', '(', \"'\", 'which', 'certainly', 'was', 'not', 'here', 'before', ',', \"'\", 'said', 'Alice', ',', ')', 'and', 'round', 'the', 'neck', 'of', 'the', 'bot', '##tle', 'was', 'a', 'paper', 'label', ',', 'with', 'the', 'words', \"'\", 'DR', '##IN', '##K', 'ME', \"'\", 'beautiful', '##ly', 'printed', 'on', 'it', 'in', 'large', 'letters', '.'], ['It', 'was', 'all', 'very', 'well', 'to', 'say', \"'\", 'Dr', '##ink', 'me', ',', \"'\", 'but', 'the', 'wise', 'little', 'Alice', 'was', 'not', 'going', 'to', 'do', 'T', '##HA', '##T', 'in', 'a', 'hur', '##ry', '.'], [\"'\", 'No', ',', 'I', \"'\", 'll', 'look', 'first', ',', \"'\", 'she', 'said', ',', \"'\", 'and', 'see', 'whether', 'it', \"'\", 's', 'marked', '\"', 'pois', '##on', '\"', 'or', 'not', \"'\", ';', 'for', 'she', 'had', 'read', 'several', 'nic', '##e', 'little', 'historie', '##s', 'about', 'children', 'who', 'had', 'got', 'bu', '##rn', '##t', ',', 'and', 'eat', '##en', 'up', 'by', 'wild', 'be', '##ast', '##s', 'and', 'other', 'un', '##ple', '##asan', '##t', 'things', ',', 'all', 'because', 'they', 'W', '##O', '##UL', '##D', 'not', 'remember', 'the', 'simple', 'rules', 'their', 'friends', 'had', 'taught', 'them', ':', 'such', 'as', ',', 'that', 'a', 'red', '-', 'hot', 'po', '##ker', 'will', 'bu', '##rn', 'you', 'if', 'you', 'hold', 'it', 'too', 'long', ';', 'and', 'that', 'if', 'you', 'cut', 'your', 'finger', 'V', '##ER', '##Y', 'deeply', 'with', 'a', 'kn', '##ife', ',', 'it', 'usually', 'ble', '##eds', ';', 'and', 'she', 'had', 'never', 'for', '##gott', '##en', 'that', ',', 'if', 'you', 'drink', 'much', 'from', 'a', 'bot', '##tle', 'marked', \"'\", 'pois', '##on', ',', \"'\", 'it', 'is', 'almost', 'certain', 'to', 'disa', '##gree', 'with', 'you', ',', 'soon', '##er', 'or', 'later', '.'], ['However', ',', 'this', 'bot', '##tle', 'was', 'NO', '##T', 'marked', \"'\", 'pois', '##on', ',', \"'\", 'so', 'Alice', 'venture', '##d', 'to', 'taste', 'it', ',', 'and', 'finding', 'it', 'very', 'nic', '##e', ',', '(', 'it', 'had', ',', 'in', 'fact', ',', 'a', 'sort', 'of', 'mixed', 'fl', '##avour', 'of', 'che', '##rry', '-', 'tar', '##t', ',', 'cu', '##star', '##d', ',', 'pine', '-', 'app', '##le', ',', 'ro', '##ast', 'tur', '##key', ',', 'to', '##ffe', '##e', ',', 'and', 'hot', 'but', '##tere', '##d', 'toa', '##st', ',', ')', 'she', 'very', 'soon', 'finished', 'it', 'off', '.'], [\"'\", 'What', 'a', 'cu', '##rious', 'feeling', '!', \"'\", 'said', 'Alice', ';', \"'\", 'I', 'must', 'be', 'shut', '##ting', 'up', 'like', 'a', 'tele', '##scope', '.', \"'\"], ['And', 'so', 'it', 'was', 'indeed', ':', 'she', 'was', 'now', 'only', 'ten', 'inches', 'high', ',', 'and', 'her', 'face', 'bright', '##ened', 'up', 'at', 'the', 'thought', 'that', 'she', 'was', 'now', 'the', 'right', 'size', 'for', 'going', 'through', 'the', 'little', 'door', 'into', 'that', 'love', '##ly', 'garden', '.'], ['First', ',', 'however', ',', 'she', 'wait', '##ed', 'for', 'a', 'few', 'minutes', 'to', 'see', 'if', 'she', 'was', 'going', 'to', 'sh', '##rin', '##k', 'any', 'further', ':', 'she', 'felt', 'a', 'little', 'ner', '##vous', 'about', 'this', ';', \"'\", 'for', 'it', 'might', 'end', ',', 'you', 'know', ',', \"'\", 'said', 'Alice', 'to', 'herself', ',', \"'\", 'in', 'my', 'going', 'out', 'alto', '##get', '##her', ',', 'like', 'a', 'cand', '##le', '.'], ['I', 'won', '##der', 'what', 'I', 'should', 'be', 'like', 'then', '?', \"'\"], ['And', 'she', 'tried', 'to', 'fan', '##cy', 'what', 'the', 'fl', '##ame', 'of', 'a', 'cand', '##le', 'is', 'like', 'after', 'the', 'cand', '##le', 'is', 'blow', '##n', 'out', ',', 'for', 'she', 'could', 'not', 'remember', 'ever', 'having', 'seen', 'such', 'a', 'thing', '.'], ['After', 'a', 'while', ',', 'finding', 'that', 'nothing', 'more', 'happened', ',', 'she', 'decided', 'on', 'going', 'into', 'the', 'garden', 'at', 'once', ';', 'but', ',', 'alas', 'for', 'poor', 'Alice', '!', 'when', 'she', 'got', 'to', 'the', 'door', ',', 'she', 'found', 'she', 'had', 'for', '##gott', '##en', 'the', 'little', 'golden', 'key', ',', 'and', 'when', 'she', 'went', 'back', 'to', 'the', 'table', 'for', 'it', ',', 'she', 'found', 'she', 'could', 'not', 'possibly', 'reach', 'it', ':', 'she', 'could', 'see', 'it', 'quite', 'plain', '##ly', 'through', 'the', 'glass', ',', 'and', 'she', 'tried', 'her', 'best', 'to', 'climb', 'up', 'one', 'of', 'the', 'legs', 'of', 'the', 'table', ',', 'but', 'it', 'was', 'too', 'sl', '##ipper', '##y', ';', 'and', 'when', 'she', 'had', 'tire', '##d', 'herself', 'out', 'with', 'trying', ',', 'the', 'poor', 'little', 'thing', 'sat', 'down', 'and', 'c', '##ried', '.'], [\"'\", 'Come', ',', 'there', \"'\", 's', 'no', 'use', 'in', 'c', '##ry', '##ing', 'like', 'that', '!', \"'\", 'said', 'Alice', 'to', 'herself', ',', 'rather', 'sharp', '##ly', ';', \"'\", 'I', 'ad', '##vise', 'you', 'to', 'leave', 'off', 'this', 'minute', '!', \"'\"], ['She', 'generally', 'gave', 'herself', 'very', 'good', 'advice', ',', '(', 'though', 'she', 'very', 'sel', '##dom', 'followed', 'it', ')', ',', 'and', 'sometimes', 'she', 's', '##col', '##ded', 'herself', 'so', 'severely', 'as', 'to', 'bring', 'tea', '##rs', 'into', 'her', 'eyes', ';', 'and', 'once', 'she', 'remembered', 'trying', 'to', 'box', 'her', 'own', 'ear', '##s', 'for', 'having', 'che', '##ated', 'herself', 'in', 'a', 'game', 'of', 'c', '##ro', '##quet', 'she', 'was', 'playing', 'against', 'herself', ',', 'for', 'this', 'cu', '##rious', 'child', 'was', 'very', 'fond', 'of', 'pret', '##ending', 'to', 'be', 'two', 'people', '.'], [\"'\", 'But', 'it', \"'\", 's', 'no', 'use', 'now', ',', \"'\", 'thought', 'poor', 'Alice', ',', \"'\", 'to', 'pret', '##end', 'to', 'be', 'two', 'people', '!'], ['Why', ',', 'there', \"'\", 's', 'hard', '##ly', 'enough', 'of', 'me', 'left', 'to', 'make', 'ONE', 'respect', '##able', 'person', '!', \"'\"], ['Soon', 'her', 'eye', 'fell', 'on', 'a', 'little', 'glass', 'box', 'that', 'was', 'lying', 'under', 'the', 'table', ':', 'she', 'opened', 'it', ',', 'and', 'found', 'in', 'it', 'a', 'very', 'small', 'ca', '##ke', ',', 'on', 'which', 'the', 'words', \"'\", 'EA', '##T', 'ME', \"'\", 'were', 'beautiful', '##ly', 'marked', 'in', 'cu', '##rran', '##ts', '.'], [\"'\", 'Well', ',', 'I', \"'\", 'll', 'eat', 'it', ',', \"'\", 'said', 'Alice', ',', \"'\", 'and', 'if', 'it', 'makes', 'me', 'grow', 'larger', ',', 'I', 'can', 'reach', 'the', 'key', ';', 'and', 'if', 'it', 'makes', 'me', 'grow', 'smaller', ',', 'I', 'can', 'cree', '##p', 'under', 'the', 'door', ';', 'so', 'either', 'way', 'I', \"'\", 'll', 'get', 'into', 'the', 'garden', ',', 'and', 'I', 'don', \"'\", 't', 'care', 'which', 'happens', '!', \"'\"], ['She', 'at', '##e', 'a', 'little', 'bit', ',', 'and', 'said', 'an', '##xi', '##ously', 'to', 'herself', ',', \"'\", 'W', '##hic', '##h', 'way', '?'], ['W', '##hic', '##h', 'way', '?', \"'\", ',', 'holding', 'her', 'hand', 'on', 'the', 'top', 'of', 'her', 'head', 'to', 'feel', 'which', 'way', 'it', 'was', 'growing', ',', 'and', 'she', 'was', 'quite', 'surprise', '##d', 'to', 'find', 'that', 'she', 'remained', 'the', 'same', 'size', ':', 'to', 'be', 'sure', ',', 'this', 'generally', 'happens', 'when', 'one', 'eat', '##s', 'ca', '##ke', ',', 'but', 'Alice', 'had', 'got', 'so', 'much', 'into', 'the', 'way', 'of', 'ex', '##pect', '##ing', 'nothing', 'but', 'out', '-', 'of', '-', 'the', '-', 'way', 'things', 'to', 'happen', ',', 'that', 'it', 'seemed', 'quite', 'du', '##ll', 'and', 'st', '##upi', '##d', 'for', 'life', 'to', 'go', 'on', 'in', 'the', 'common', 'way', '.'], ['So', 'she', 'set', 'to', 'work', ',', 'and', 'very', 'soon', 'finished', 'off', 'the', 'ca', '##ke', '.']]\n",
            "[['A', 'través', 'de', 'la', 'tarde', 'color', 'de', 'oro'], ['el', 'agua', 'nos', 'lleva', 'sin', 'esfuerzo', 'por', 'nuestra', 'parte', ',', 'pues', 'los', 'que', 'em', '##pu', '##jan', 'los', 're', '##mos'], ['son', 'unos', 'brazos', 'infantil', '##es', 'que', 'intenta', '##n', ',', 'con', 'sus', 'mani', '##tas'], ['gu', '##iar', 'el', 'curso', 'de', 'nuestra', 'bar', '##ca', '.'], ['Pero', ',', '¡', 'las', 'tres', 'son', 'muy', 'cruel', '##es', '!'], ['ya', 'que', 'sin', 'fi', '##jar', '##se', 'en', 'el', 'apa', '##cible', 'tiempo', 'ni', 'en', 'el', 'ens', '##ue', '##ño', 'de', 'la', 'hora', 'presente', ','], ['¡', 'exige', '##n', 'una', 'historia', 'de', 'una', 'voz', 'que', 'apenas', 'tiene', 'alien', '##to', ','], ['tanto', 'que', 'ni', 'a', 'una', 'plu', '##ma', 'podría', 'so', '##plar', '!'], ['Mas', ',', '¿', 'qué', 'podría', 'una', 'voz', 'tan', 'dé', '##bil'], ['contra', 'la', 'voluntad', 'de', 'las', 'tres', '?'], ['La', 'primera', ',', 'imperio', '##samente', ',', 'di', '##cta', 'su', 'decreto', ':', '\"', '¡', 'Com', '##ien', '##ce', 'el', 'cu', '##ento', '!', '\"'], ['La', 'segunda', ',', 'un', 'poco', 'más', 'ama', '##ble', ',', 'pide'], ['que', 'el', 'cu', '##ento', 'no', 'sea', 'ton', '##to', ','], ['mientras', 'que', 'la', 'tercera', 'inter', '##rum', '##pe', 'la', 'historia'], ['nada', 'más', 'que', 'una', 'vez', 'por', 'minuto', '.'], ['Con', '##se', '##gui', '##do', 'al', 'f', '##ín', 'el', 'sile', '##ncio', ','], ['con', 'la', 'ima', '##gina', '##ción', 'las', 'lleva', ',', 'siguiendo', 'a', 'esa', 'niña', 'so', '##ñada', ','], ['por', 'un', 'mundo', 'nuevo', ',', 'de', 'her', '##mosa', '##s', 'mara', '##villa', '##s'], ['en', 'el', 'que', 'hasta', 'los', 'p', '##ája', '##ros', 'y', 'las', 'best', '##ias', 'habla', '##n'], ['con', 'voz', 'humana', ',', 'y', 'ellas', 'casi', 'se', 'cree', '##n', 'estar', 'allí', '.'], ['Y', 'cada', 'vez', 'que', 'el', 'narra', '##dor', 'intenta', '##ba', ','], ['seca', 'ya', 'la', 'fuente', 'de', 'su', 'ins', '##piración'], ['dejar', 'la', 'narra', '##ción', 'para', 'el', 'día', 'siguiente', ','], ['y', 'de', '##cía', ':', '\"', 'El', 'resto', 'para', 'la', 'próxima', 'vez', '\"', ',', 'las', 'tres', ',', 'al', 'tiempo', ',', 'de', '##cían', ':', '\"', '¡', 'Ya', 'es', 'la', 'próxima', 'vez', '!', '\"'], ['Y', 'así', 'fue', 'sur', '##gien', '##do', 'el', '\"', 'País', 'de', 'las', 'Mara', '##villa', '##s', '\"', ','], ['po', '##quito', 'a', 'poco', ',', 'y', 'una', 'a', 'una', ','], ['el', 'mos', '##aic', '##o', 'de', 'sus', 'extra', '##ñas', 'aventuras', '.'], ['Y', 'ahora', ',', 'que', 'el', 'relato', 'toca', 'a', 'su', 'f', '##ín', ','], ['También', 'el', 'tim', '##ón', 'de', 'la', 'bar', '##ca', 'nos', 'vuelve', 'al', 'hogar', ','], ['¡', 'una', 'ale', '##gre', 'tripulación', ',', 'bajo', 'el', 'sol', 'que', 'ya', 'se', 'o', '##cul', '##ta', '!'], ['Alicia', ',', 'para', 'tí', 'este', 'cu', '##ento', 'infantil', '.'], ['Po', '##nl', '##o', 'con', 'tu', 'mano', 'pequeña', 'y', 'ama', '##ble'], ['donde', 'des', '##cans', '##an', 'los', 'cuentos', 'infantil', '##es', ',', 'entre', '##laza', '##dos', ',', 'como', 'las', 'flores', 'ya', 'march', '##itas'], ['en', 'la', 'gu', '##irn', '##ald', '##a', 'de', 'la', 'Memoria', '.'], ['Es', 'la', 'of', '##rend', '##a', 'de', 'un', 'per', '##eg', '##rino'], ['que', 'las', 're', '##co', '##gió', 'en', 'países', 'le', '##jano', '##s', '.'], ['Cap', '##ítulo', 'I'], ['En', 'la', 'ma', '##dri', '##guera', 'del', 'con', '##ejo'], ['Alicia', 'em', '##pe', '##zaba', 'ya', 'a', 'can', '##sar', '##se', 'de', 'estar', 'sent', '##ada', 'con', 'su', 'hermana', 'a', 'la', 'orilla', 'del', 'río', ',', 'sin', 'tener', 'nada', 'que', 'hacer', ':', 'había', 'e', '##cha', '##do', 'un', 'par', 'de', 'o', '##je', '##adas', 'al', 'libro', 'que', 'su', 'hermana', 'estaba', 'ley', '##endo', ',', 'pero', 'no', 'tenía', 'di', '##bujos', 'ni', 'di', '##álogo', '##s', '.', '«', '¿', 'Y', 'de', 'qué', 'sirve', 'un', 'libro', 'sin', 'di', '##bujos', 'ni', 'di', '##álogo', '##s', '?', '»', ',', 'se', 'pregunta', '##ba', 'Alicia', '.'], ['Así', 'pues', ',', 'estaba', 'pensa', '##ndo', '(', 'y', 'pensar', 'le', 'costa', '##ba', 'cierto', 'esfuerzo', ',', 'porque', 'el', 'calor', 'del', 'día', 'la', 'había', 'deja', '##do', 'so', '##ño', '##lien', '##ta', 'y', 'ato', '##nta', '##da', ')', 'si', 'el', 'placer', 'de', 'tej', '##er', 'una', 'gu', '##irn', '##ald', '##a', 'de', 'mar', '##gari', '##tas', 'la', 'com', '##pensa', '##ría', 'del', 'trabajo', 'de', 'leva', '##ntar', '##se', 'y', 'co', '##ger', 'las', 'mar', '##gari', '##tas', ',', 'cuando', 'de', 'pronto', 'salt', '##ó', 'cerca', 'de', 'ella', 'un', 'Con', '##ejo', 'Blanco', 'de', 'ojos', 'rosa', '##dos', '.'], ['No', 'había', 'nada', 'muy', 'extra', '##ord', '##inario', 'en', 'esto', ',', 'ni', 'tampoco', 'le', 'pare', '##ció', 'a', 'Alicia', 'muy', 'extra', '##ño', 'o', '##ír', 'que', 'el', 'con', '##ejo', 'se', 'de', '##cía', 'a', 'sí', 'mismo', ':', '«', '¡', 'Dios', 'mí', '##o', '!'], ['¡', 'Dios', 'mí', '##o', '!'], ['¡', 'Vo', '##y', 'a', 'llegar', 'tarde', '!', '»', '(', 'Cuando', 'pen', '##só', 'en', 'ello', 'después', ',', 'decidió', 'que', ',', 'desde', 'luego', ',', 'hubiera', 'debido', 'sor', '##prende', '##rla', 'mucho', ',', 'pero', 'en', 'aquel', 'momento', 'le', 'pare', '##ció', 'lo', 'más', 'natural', 'del', 'mundo', ')', '.', 'Pero', 'cuando', 'el', 'con', '##ejo', 'se', 'sac', '##ó', 'un', 're', '##loj', 'de', 'bol', '##sil', '##lo', 'del', 'cha', '##lec', '##o', ',', 'lo', 'mir', '##ó', 'y', 'e', '##chó', 'a', 'correr', ',', 'Alicia', 'se', 'leva', '##ntó', 'de', 'un', 'salto', ',', 'porque', 'comprend', '##ió', 'de', 'golpe', 'que', 'ella', 'nunca', 'había', 'visto', 'un', 'con', '##ejo', 'con', 'cha', '##lec', '##o', ',', 'ni', 'con', 're', '##loj', 'que', 'sac', '##arse', 'de', 'él', ',', 'y', ',', 'ar', '##diendo', 'de', 'cu', '##rios', '##idad', ',', 'se', 'puso', 'a', 'correr', 'tras', 'el', 'con', '##ejo', 'por', 'la', 'pra', '##dera', ',', 'y', 'llegó', 'justo', 'a', 'tiempo', 'para', 'ver', 'cómo', 'se', 'pre', '##ci', '##pita', '##ba', 'en', 'una', 'ma', '##dri', '##guera', 'que', 'se', 'ab', '##ría', 'al', 'pie', 'del', 'set', '##o', '.'], ['Un', 'momento', 'más', 'tarde', ',', 'Alicia', 'se', 'met', '##ía', 'también', 'en', 'la', 'ma', '##dri', '##guera', ',', 'sin', 'parar', '##se', 'a', 'considerar', 'cómo', 'se', 'las', 'ar', '##reg', '##lar', '##ía', 'después', 'para', 'salir', '.'], ['Al', 'principio', ',', 'la', 'ma', '##dri', '##guera', 'del', 'con', '##ejo', 'se', 'extend', '##ía', 'en', 'línea', 'recta', 'como', 'un', 'túnel', ',', 'y', 'después', 'to', '##rci', '##ó', 'br', '##us', '##camente', 'hacia', 'abajo', ',', 'tan', 'br', '##us', '##camente', 'que', 'Alicia', 'no', 'tuvo', 'si', '##quier', '##a', 'tiempo', 'de', 'pensar', 'en', 'det', '##ener', '##se', 'y', 'se', 'encontró', 'ca', '##yendo', 'por', 'lo', 'que', 'pare', '##cia', 'un', 'po', '##zo', 'muy', 'profundo', '.'], ['O', 'el', 'po', '##zo', 'era', 'en', 'verdad', 'profundo', ',', 'o', 'ella', 'ca', '##ía', 'muy', 'des', '##pac', '##io', ',', 'porque', 'Alicia', ',', 'mientras', 'des', '##cend', '##ía', ',', 'tuvo', 'tiempo', 'sob', '##rado', 'para', 'mira', '##r', 'a', 'su', 'alrededor', 'y', 'para', 'pregunta', '##rse', 'qué', 'iba', 'a', 'su', '##cede', '##r', 'después', '.'], ['Primer', '##o', ',', 'intentó', 'mira', '##r', 'hacia', 'abajo', 'y', 'ver', 'a', 'dó', '##nde', 'ir', '##ía', 'a', 'parar', ',', 'pero', 'estaba', 'todo', 'demasiado', 'oscuro', 'para', 'dis', '##ting', '##uir', 'nada', '.', 'Después', 'mir', '##ó', 'hacia', 'las', 'paredes', 'del', 'po', '##zo', 'y', 'ob', '##ser', '##vó', 'que', 'estaban', 'cubierta', '##s', 'de', 'arma', '##rios', 'y', 'estan', '##tes', 'para', 'libros', ':', 'aquí', 'y', 'allá', 'vio', 'mapa', '##s', 'y', 'cuadros', ',', 'col', '##gados', 'de', 'c', '##lavo', '##s', '.'], ['Co', '##gió', ',', 'a', 'su', 'paso', ',', 'un', 'ja', '##rro', 'de', 'los', 'estan', '##tes', '.', 'L', '##leva', '##ba', 'una', 'et', '##ique', '##ta', 'que', 'de', '##cía', ':', 'ME', '##R', '##ME', '##LA', '##DA', 'DE', 'NA', '##RA', '##N', '##J', '##A', ',', 'pero', 'vio', ',', 'con', 'des', '##en', '##cant', '##o', ',', 'que', 'estaba', 'va', '##cí', '##o', '.', 'No', 'le', 'pare', '##ció', 'bien', 'tira', '##rlo', 'al', 'fondo', ',', 'por', 'mi', '##edo', 'a', 'matar', 'a', 'alguien', 'que', 'and', '##uv', '##iera', 'por', 'abajo', ',', 'y', 'se', 'las', 'ar', '##reg', '##ló', 'para', 'dejar', '##lo', 'en', 'otro', 'de', 'los', 'estan', '##tes', 'mientras', 'seg', '##uía', 'des', '##cend', '##iendo', '.'], ['«', '¡', 'Va', '##ya', '!', '»', ',', 'pen', '##só', 'Alicia', '.', '«', '¡', 'Después', 'de', 'una', 'caída', 'como', 'ésta', ',', 'roda', '##r', 'por', 'las', 'es', '##cale', '##ras', 'me', 'parecer', '##á', 'algo', 'sin', 'importancia', '!'], ['¡', 'Qué', 'val', '##iente', 'me', 'encontrar', '##án', 'todos', '!'], ['¡', 'Ni', 'si', '##quier', '##a', 'll', '##orar', '##ía', ',', 'aunque', 'me', 'ca', '##yer', '##a', 'del', 'tej', '##ado', '!', '»'], ['(', 'Y', 'era', 'verdad', '.', ')'], ['Ab', '##ajo', ',', 'abajo', ',', 'abajo', '.'], ['¿', 'No', 'acabar', '##ía', 'nunca', 'de', 'caer', '?'], ['-', 'Me', 'gu', '##star', '##ía', 'saber', 'cu', '##ánt', '##as', 'millas', 'he', 'des', '##cendido', 'ya', '-', 'dijo', 'en', 'voz', 'alta', '-', '.'], ['Ten', '##go', 'que', 'estar', 'bastante', 'cerca', 'del', 'centro', 'de', 'la', 'tierra', '.'], ['Ve', '##amos', ':', 'c', '##reo', 'que', 'está', 'a', 'cuatro', 'mil', 'millas', 'de', 'profundidad', '.', '.', '.', 'Como', 'vei', '##s', ',', 'Alicia', 'había', 'apre', '##ndi', '##do', 'algunas', 'cosas', 'de', 'ésta', '##s', 'en', 'las', 'clases', 'de', 'la', 'escuela', ',', 'y', 'aunque', 'no', 'era', 'un', 'momento', 'muy', 'op', '##ort', '##uno', 'para', 'pre', '##sumi', '##r', 'de', 'sus', 'conocimiento', '##s', ',', 'ya', 'que', 'no', 'había', 'nadie', 'allí', 'que', 'pudiera', 'es', '##cu', '##char', '##la', ',', 'le', 'pare', '##ció', 'que', 'rep', '##eti', '##rlo', 'le', 'ser', '##vía', 'de', 'rep', '##aso', '.', '-', 'S', '##í', ',', 'está', 'debe', 'de', 'ser', 'la', 'distancia', '.', '.', '.', 'pero', 'me', 'pre', '##gun', '##to', 'a', 'qué', 'lati', '##tud', 'o', 'longitud', 'hab', '##ré', 'llegado', '.'], ['Alicia', 'no', 'tenía', 'la', 'menor', 'idea', 'de', 'lo', 'que', 'era', 'la', 'lati', '##tud', ',', 'ni', 'tampoco', 'la', 'longitud', ',', 'pero', 'le', 'pare', '##ció', 'bien', 'decir', 'unas', 'palabras', 'tan', 'bon', '##itas', 'e', 'im', '##presi', '##onan', '##tes', '.'], ['En', '##se', '##gui', '##da', 'volvió', 'a', 'empezar', '.'], ['-', '¡', 'A', 'lo', 'mejor', 'cai', '##go', 'a', 'través', 'de', 'toda', 'la', 'tierra', '!'], ['¡', 'Qué', 'div', '##erti', '##do', 'sería', 'salir', 'donde', 'vive', 'esta', 'gente', 'que', 'anda', 'cabeza', 'abajo', '!'], ['Los', 'anti', '##pá', '##ticos', ',', 'c', '##reo', '.', '.', '.', '(', 'Ah', '##ora', 'Alicia', 'se', 'ale', '##gró', 'de', 'que', 'no', 'hubiera', 'nadie', 'es', '##cu', '##chan', '##do', ',', 'porque', 'esta', 'palabra', 'no', 'le', 'sona', '##ba', 'del', 'todo', 'bien', '.', ')', 'Pero', 'entonces', 'tend', '##ré', 'que', 'pregunta', '##rle', '##s', 'el', 'nombre', 'del', 'país', '.'], ['Por', 'favor', ',', 'señor', '##a', ',', '¿', 'esta', '##mos', 'en', 'Nueva', 'Zelanda', 'o', 'en', 'Australia', '?', 'Y', 'mientras', 'de', '##cía', 'estas', 'palabras', ',', 'ens', '##ay', '##ó', 'una', 'rev', '##eren', '##cia', '.', '¡', 'Rev', '##eren', '##cias', 'mientras', 'ca', '##ía', 'por', 'el', 'aire', '!'], ['¿', 'C', '##re', '##éis', 'que', 'esto', 'es', 'posible', '?', '-', '¡', 'Y', 'qué', 'c', '##ria', '##ja', 'tan', 'ig', '##nor', '##ante', 'vo', '##y', 'a', 'parecer', '##le', '!'], ['No', ',', 'mejor', 'será', 'no', 'pregunta', '##r', 'nada', '.', 'Ya', 'lo', 'ver', '##é', 'escrito', 'en', 'alguna', 'parte', '.'], ['Ab', '##ajo', ',', 'abajo', ',', 'abajo', '.'], ['No', 'había', 'otra', 'cosa', 'que', 'hacer', 'y', 'Alicia', 'empezó', 'ens', '##egu', '##ida', 'a', 'hablar', 'otra', 'vez', '.'], ['-', '¡', 'Tem', '##o', 'que', 'Dina', 'me', 'e', '##char', '##á', 'mucho', 'de', 'menos', 'esta', 'noche', '!'], ['(', 'Dina', 'era', 'la', 'ga', '##ta', '.', ')'], ['Es', '##pero', 'que', 'se', 'acu', '##erden', 'de', 'su', 'plat', '##ito', 'de', 'lec', '##he', 'a', 'la', 'hora', 'del', 'té', '.'], ['¡', 'Dina', ',', 'gu', '##apa', ',', 'me', 'gu', '##star', '##ía', 'tener', '##te', 'con', '##migo', 'aquí', 'abajo', '!'], ['En', 'el', 'aire', 'no', 'hay', 'rat', '##ones', ',', 'claro', ',', 'pero', 'podría', '##s', 'caza', '##r', 'algún', 'mur', '##cié', '##lag', '##o', ',', 'y', 'se', 'parece', '##n', 'mucho', 'a', 'los', 'rat', '##ones', ',', 'sabe', '##s', '.'], ['Pero', 'me', 'pre', '##gun', '##to', ':', '¿', 'comer', '##án', 'mur', '##cié', '##lagos', 'los', 'ga', '##tos', '?'], ['Al', 'llegar', 'a', 'este', 'punto', ',', 'Alicia', 'empezó', 'a', 'sentir', '##se', 'medio', 'dor', '##mida', 'y', 'siguió', 'di', '##cié', '##ndose', 'como', 'en', 'sueño', '##s', ':', '«', '¿', 'Come', '##n', 'mur', '##cié', '##lagos', 'los', 'ga', '##tos', '?'], ['¿', 'Come', '##n', 'mur', '##cié', '##lagos', 'los', 'ga', '##tos', '?', '»', 'Y', 'a', 'veces', ':', '«', '¿', 'Come', '##n', 'ga', '##tos', 'los', 'mur', '##cié', '##lagos', '?', '»', 'Por', '##que', ',', 'como', 'no', 'sa', '##bía', 'contest', '##ar', 'a', 'ninguna', 'de', 'las', 'dos', 'pregunta', '##s', ',', 'no', 'import', '##aba', 'mucho', 'cual', 'de', 'las', 'dos', 'se', 'formula', '##ra', '.'], ['Se', 'estaba', 'dur', '##mien', '##do', 'de', 'vera', '##s', 'y', 'em', '##pe', '##zaba', 'a', 'so', '##ñar', 'que', 'pase', '##aba', 'con', 'Dina', 'de', 'la', 'mano', 'y', 'que', 'le', 'pregunta', '##ba', 'con', 'mucha', 'ans', '##ied', '##ad', ':', '«', 'Ah', '##ora', 'Dina', ',', 'di', '##me', 'la', 'verdad', ',', '¿', 'te', 'has', 'com', '##ido', 'alguna', 'vez', 'un', 'mur', '##cié', '##lag', '##o', '?', '»', ',', 'cuando', 'de', 'pronto', ',', '¡', 'cat', '##ap', '##lum', '!', ',', 'fue', 'a', 'dar', 'sobre', 'un', 'mont', '##ón', 'de', 'ramas', 'y', 'hojas', 'seca', '##s', '.', 'La', 'caída', 'había', 'termina', '##do', '.'], ['Alicia', 'no', 'sufrió', 'el', 'menor', 'da', '##ño', ',', 'y', 'se', 'leva', '##ntó', 'de', 'un', 'salto', '.', 'Miró', 'hacia', 'arriba', ',', 'pero', 'todo', 'estaba', 'oscuro', '.', 'Ante', 'ella', 'se', 'ab', '##ría', 'otro', 'largo', 'pasa', '##di', '##zo', ',', 'y', 'alcanzó', 'a', 'ver', 'en', 'él', 'al', 'Con', '##ejo', 'Blanco', ',', 'que', 'se', 'ale', '##ja', '##ba', 'a', 'toda', 'pris', '##a', '.'], ['No', 'había', 'momento', 'que', 'perder', ',', 'y', 'Alicia', ',', 'sin', 'va', '##cil', '##ar', ',', 'e', '##chó', 'a', 'correr', 'como', 'el', 'viento', ',', 'y', 'lle', '##go', 'justo', 'a', 'tiempo', 'para', 'o', '##ír', '##le', 'decir', ',', 'mientras', 'dob', '##lab', '##a', 'un', 're', '##co', '##do', ':', '-', '¡', 'V', '##ál', '##gan', '##me', 'mis', 'ore', '##jas', 'y', 'big', '##otes', ',', 'qué', 'tarde', 'se', 'me', 'está', 'haciendo', '!'], ['I', '##ba', 'casi', 'pis', '##ánd', '##ole', 'los', 'tal', '##ones', ',', 'pero', ',', 'cuando', 'dob', '##ló', 'a', 'su', 'vez', 'el', 're', '##co', '##do', ',', 'no', 'vio', 'al', 'Con', '##ejo', 'por', 'ninguna', 'parte', '.', 'Se', 'encontró', 'en', 'un', 'vest', '##í', '##bulo', 'amplio', 'y', 'bajo', ',', 'il', '##umi', '##nado', 'por', 'una', 'hil', '##era', 'de', 'lá', '##mpa', '##ras', 'que', 'col', '##gab', '##an', 'del', 'tech', '##o', '.'], ['Ha', '##bía', 'puertas', 'alrededor', 'de', 'todo', 'el', 'vest', '##í', '##bulo', ',', 'pero', 'todas', 'estaban', 'ce', '##rra', '##das', 'con', 'll', '##ave', ',', 'y', 'cuando', 'Alicia', 'hubo', 'dado', 'la', 'vuelta', ',', 'baja', '##ndo', 'por', 'un', 'lado', 'y', 'sub', '##iendo', 'por', 'el', 'otro', ',', 'pro', '##band', '##o', 'puerta', 'a', 'puerta', ',', 'se', 'dirigió', 'triste', '##mente', 'al', 'centro', 'de', 'la', 'habitación', ',', 'y', 'se', 'pre', '##gun', '##tó', 'cómo', 'se', 'las', 'ar', '##reg', '##lar', '##ía', 'para', 'salir', 'de', 'allí', '.'], ['De', 'rep', '##ente', 'se', 'encontró', 'ante', 'una', 'mesi', '##ta', 'de', 'tres', 'patas', ',', 'toda', 'de', 'cristal', 'mac', '##izo', '.', 'No', 'había', 'nada', 'sobre', 'ella', ',', 'salvo', 'una', 'di', '##min', '##uta', 'll', '##ave', 'de', 'oro', ',', 'y', 'lo', 'primero', 'que', 'se', 'le', 'ocurrió', 'a', 'Alicia', 'fue', 'que', 'debía', 'corresponde', '##r', 'a', 'una', 'de', 'las', 'puertas', 'del', 'vest', '##í', '##bulo', '.', 'Pero', ',', '¡', 'ay', '!', ',', 'o', 'las', 'ce', '##rra', '##duras', 'eran', 'demasiado', 'grandes', ',', 'o', 'la', 'll', '##ave', 'era', 'demasiado', 'pequeña', ',', 'lo', 'cierto', 'es', 'que', 'no', 'pudo', 'abrir', 'ninguna', 'puerta', '.'], ['Sin', 'embargo', ',', 'al', 'dar', 'la', 'vuelta', 'por', 'segunda', 'vez', ',', 'descubrió', 'una', 'cort', '##ini', '##lla', 'que', 'no', 'había', 'visto', 'antes', ',', 'y', 'detrás', 'había', 'una', 'pu', '##erte', '##cita', 'de', 'unos', 'dos', 'palm', '##os', 'de', 'altura', '.', 'Pro', '##bó', 'la', 'll', '##ave', 'de', 'oro', 'en', 'la', 'ce', '##rra', '##dura', ',', 'y', 'vio', 'con', 'ale', '##gr', '##ía', 'que', 'aj', '##usta', '##ba', 'bien', '.'], ['Alicia', 'abrió', 'la', 'puerta', 'y', 'se', 'encontró', 'con', 'que', 'daba', 'a', 'un', 'est', '##recho', 'pasa', '##di', '##zo', ',', 'no', 'más', 'ancho', 'que', 'una', 'rat', '##oner', '##a', '.', 'Se', 'ar', '##rod', '##ill', '##ó', 'y', 'al', 'otro', 'lado', 'del', 'pasa', '##di', '##zo', 'vio', 'el', 'jardín', 'más', 'mara', '##vil', '##loso', 'que', 'pod', '##ái', '##s', 'ima', '##gina', '##r', '.'], ['¡', 'Qué', 'gana', '##s', 'tenía', 'de', 'salir', 'de', 'aquella', 'os', '##cura', 'sala', 'y', 'de', 'pase', '##ar', 'entre', 'aquellos', 'mac', '##izo', '##s', 'de', 'flores', 'multi', '##color', '##es', 'y', 'aquella', '##s', 'fr', '##esca', '##s', 'fuentes', '!', 'Pero', 'ni', 'si', '##quier', '##a', 'podía', 'pasar', 'la', 'cabeza', 'por', 'la', 'abertura', '.', '«', 'Y', 'aunque', 'pudiera', 'pasar', 'la', 'cabeza', '»', ',', 'pen', '##só', 'la', 'pobre', 'Alicia', ',', '«', 'de', 'poco', 'iba', 'a', 'servir', '##me', 'sin', 'los', 'hom', '##bros', '.'], ['¡', 'Có', '##mo', 'me', 'gu', '##star', '##ía', 'poder', '##me', 'en', '##co', '##ger', 'como', 'un', 'tele', '##sco', '##pio', '!'], ['C', '##reo', 'que', 'podría', 'hacerlo', ',', 'sólo', 'con', 'saber', 'por', 'dó', '##nde', 'empezar', '.', '»'], ['Y', 'es', 'que', ',', 'como', 'vei', '##s', ',', 'a', 'Alicia', 'le', 'habían', 'pasado', 'tant', '##as', 'cosas', 'extra', '##ord', '##inaria', '##s', 'aquel', 'día', ',', 'que', 'había', 'em', '##pe', '##zado', 'a', 'pensar', 'que', 'casi', 'nada', 'era', 'en', 'realidad', 'imposible', '.'], ['De', 'nada', 'ser', '##vía', 'quedar', '##se', 'espera', '##ndo', 'junto', 'a', 'la', 'pu', '##erte', '##cita', ',', 'así', 'que', 'volvió', 'a', 'la', 'mesa', ',', 'casi', 'con', 'la', 'esperanza', 'de', 'encontrar', 'sobre', 'ella', 'otra', 'll', '##ave', ',', 'o', ',', 'en', 'todo', 'caso', ',', 'un', 'libro', 'de', 'ins', '##tru', '##cciones', 'para', 'en', '##co', '##ger', 'a', 'la', 'gente', 'como', 'si', 'fuera', '##n', 'tele', '##sco', '##pios', '.', 'Esta', 'vez', 'encontró', 'en', 'la', 'mesa', 'una', 'bot', '##elli', '##ta', '(', '«', 'que', 'desde', 'luego', 'no', 'estaba', 'aquí', 'antes', '»', ',', 'dijo', 'Alicia', ')', ',', 'y', 'alrededor', 'del', 'cu', '##ello', 'de', 'la', 'bot', '##ella', 'había', 'una', 'et', '##ique', '##ta', 'de', 'papel', 'con', 'la', 'palabra', '«', 'BE', '##B', '##EM', '##E', '»', 'her', '##mosa', '##mente', 'impresa', 'en', 'grandes', 'caracteres', '.'], ['Está', 'muy', 'bien', 'eso', 'de', 'decir', '«', 'BE', '##B', '##EM', '##E', '»', ',', 'pero', 'la', 'pequeña', 'Alicia', 'era', 'muy', 'pr', '##uden', '##te', 'y', 'no', 'iba', 'a', 'be', '##ber', 'aq', '##tre', '##llo', 'por', 'las', 'buenas', '.'], ['«', 'No', ',', 'primero', 'vo', '##y', 'a', 'mira', '##r', '»', ',', 'se', 'dijo', ',', '«', 'para', 'ver', 'si', 'lleva', 'o', 'no', 'la', 'indica', '##ción', 'de', 'vene', '##no', '.', '»', 'Por', '##que', 'Alicia', 'había', 'le', '##ído', 'precio', '##sos', 'cuentos', 'de', 'niños', 'que', 'se', 'habían', 'quem', '##ado', ',', 'o', 'habían', 'sido', 'de', '##vora', '##dos', 'por', 'best', '##ias', 'fer', '##oce', '##s', ',', 'u', 'otras', 'cosas', 'desa', '##grada', '##bles', ',', 'sólo', 'por', 'no', 'haber', 'quer', '##ido', 'record', '##ar', 'las', 'sen', '##cilla', '##s', 'normas', 'que', 'las', 'personas', 'que', 'busca', '##ban', 'su', 'bien', 'les', 'habían', 'in', '##cul', '##cado', ':', 'como', 'que', 'un', 'hierro', 'al', 'rojo', 'te', 'quem', '##a', 'si', 'no', 'lo', 'sue', '##lta', '##s', 'en', 'seguida', ',', 'o', 'que', 'si', 'te', 'corta', '##s', 'muy', 'hon', '##do', 'en', 'un', 'de', '##do', 'con', 'un', 'cu', '##chi', '##llo', 'suele', 'salir', 'sangre', '.', 'Y', 'Alicia', 'no', 'ol', '##vida', '##ba', 'nunca', 'que', ',', 'si', 'be', '##bes', 'mucho', 'de', 'una', 'bot', '##ella', 'que', 'lleva', 'la', 'indica', '##ción', '«', 'vene', '##no', '»', ',', 'terminar', '##á', ',', 'a', 'la', 'corta', 'o', 'a', 'la', 'larga', ',', 'por', 'hacer', '##te', 'da', '##ño', '.'], ['Sin', 'embargo', ',', 'aquella', 'bot', '##ella', 'no', 'llevaba', 'la', 'indica', '##ción', '«', 'vene', '##no', '»', ',', 'así', 'que', 'Alicia', 'se', 'at', '##re', '##vió', 'a', 'pro', '##bar', 'el', 'contenido', ',', 'y', ',', 'en', '##con', '##tr', '##ánd', '##olo', 'muy', 'ag', '##rada', '##ble', '(', 'tenía', ',', 'de', 'hecho', ',', 'una', 'mezcla', 'de', 'sabor', '##es', 'a', 'tar', '##ta', 'de', 'ce', '##rez', '##as', ',', 'al', '##mí', '##bar', ',', 'pi', '##ña', ',', 'pa', '##vo', 'asa', '##do', ',', 'cara', '##mel', '##o', 'y', 'tos', '##tadas', 'cal', '##ientes', 'con', 'man', '##te', '##quilla', ')', ',', 'se', 'lo', 'acabó', 'en', 'un', 'santi', '##am', '##én', '.'], ['-', '¡', 'Qué', 'sensa', '##ción', 'más', 'extra', '##ña', '!', '-', 'dijo', 'Alicia', '-', '.', 'Me', 'deb', '##o', 'estar', 'en', '##co', '##gien', '##do', 'como', 'un', 'tele', '##sco', '##pio', '.'], ['Y', 'así', 'era', ',', 'en', 'efecto', ':', 'ahora', 'med', '##ía', 'sólo', 'vei', '##ntic', '##in', '##co', 'centímetros', ',', 'y', 'su', 'cara', 'se', 'il', '##umi', '##nó', 'de', 'ale', '##gr', '##ía', 'al', 'pensar', 'que', 'tenía', 'la', 'talla', 'ad', '##ecu', '##ada', 'para', 'pasar', 'por', 'la', 'pu', '##erte', '##cita', 'y', 'meters', '##e', 'en', 'el', 'mara', '##vil', '##loso', 'jardín', '.'], ['Primer', '##o', ',', 'no', 'obstante', ',', 'es', '##per', '##ó', 'unos', 'minutos', 'para', 'ver', 'si', 'seg', '##uía', 'todavía', 'dis', '##min', '##uye', '##ndo', 'de', 'tamaño', ',', 'y', 'esta', 'posibilidad', 'la', 'puso', 'un', 'poco', 'ner', '##vios', '##a', '.', '«', 'No', 'va', '##ya', 'con', '##sumi', '##rme', 'del', 'todo', ',', 'como', 'una', 'vela', '»', ',', 'se', 'dijo', 'para', 'sus', 'ad', '##entro', '##s', '.'], ['«', '¿', 'Qué', 'sería', 'de', 'mí', 'entonces', '?', '»'], ['E', 'intentó', 'ima', '##gina', '##r', 'qué', 'o', '##cu', '##rr', '##ía', 'con', 'la', 'llama', 'de', 'una', 'vela', ',', 'cuando', 'la', 'vela', 'estaba', 'apa', '##gada', ',', 'pues', 'no', 'podía', 'record', '##ar', 'haber', 'visto', 'nunca', 'una', 'cosa', 'así', '.'], ['Después', 'de', 'un', 'rat', '##o', ',', 'vien', '##do', 'que', 'no', 'pasa', '##ba', 'nada', 'más', ',', 'decidió', 'salir', 'en', 'seguida', 'al', 'jardín', '.', 'Pero', ',', '¡', 'pobre', 'Alicia', '!', ',', 'cuando', 'llegó', 'a', 'la', 'puerta', ',', 'se', 'encontró', 'con', 'que', 'había', 'ol', '##vidado', 'la', 'll', '##ave', '##cita', 'de', 'oro', ',', 'y', ',', 'cuando', 'volvió', 'a', 'la', 'mesa', 'para', 're', '##co', '##ger', '##la', ',', 'descubrió', 'que', 'no', 'le', 'era', 'posible', 'alcanzar', '##la', '.', 'Pod', '##ía', 'ver', '##la', 'claramente', 'a', 'través', 'del', 'cristal', ',', 'e', 'intentó', 'con', 'ahí', '##nco', 'tre', '##par', 'por', 'una', 'de', 'las', 'patas', 'de', 'la', 'mesa', ',', 'pero', 'era', 'demasiado', 'res', '##bala', '##di', '##za', '.', 'Y', 'cuando', 'se', 'can', '##só', 'de', 'intentar', '##lo', ',', 'la', 'pobre', 'niña', 'se', 'sent', '##ó', 'en', 'el', 'suelo', 'y', 'se', 'e', '##chó', 'a', 'll', '##orar', '.'], ['«', '¡', 'Va', '##mos', '!', '¡', 'De', 'nada', 'sirve', 'll', '##orar', 'de', 'esta', 'manera', '!', '»', ',', 'se', 'dijo', 'Alicia', 'a', 'sí', 'misma', ',', 'con', 'bastante', 'firme', '##za', '.', '«', '¡', 'Te', 'ac', '##ons', '##ejo', 'que', 'de', '##jes', 'de', 'll', '##orar', 'ahora', 'mismo', '!', '»'], ['Alicia', 'se', 'daba', 'por', 'lo', 'general', 'muy', 'buen', '##os', 'consejo', '##s', 'a', 'sí', 'misma', '(', 'aunque', 'rara', 'vez', 'los', 'seg', '##uía', ')', ',', 'y', 'algunas', 'veces', 'se', 're', '##ñ', '##ía', 'con', 'tant', '##a', 'dure', '##za', 'que', 'se', 'le', 'salt', '##aban', 'las', 'lá', '##gri', '##mas', '.', 'Se', 'acord', '##aba', 'incluso', 'de', 'haber', 'intenta', '##do', 'una', 'vez', 'tira', '##rse', 'de', 'las', 'ore', '##jas', 'por', 'haber', '##se', 'hecho', 'tram', '##pas', 'en', 'un', 'partido', 'de', 'c', '##ro', '##quet', 'que', 'juga', '##ba', 'con', '##sig', '##o', 'misma', ',', 'pues', 'a', 'esta', 'cu', '##rios', '##a', 'c', '##riat', '##ura', 'le', 'gu', '##stab', '##a', 'mucho', 'comporta', '##rse', 'como', 'si', 'fuera', 'dos', 'personas', 'a', 'la', 'vez', '.'], ['«', '¡', 'Pero', 'de', 'nada', 'me', 'servir', '##ía', 'ahora', 'comporta', '##rme', 'como', 'si', 'fuera', 'dos', 'personas', '!', '»', ',', 'pen', '##só', 'la', 'pobre', 'Alicia', '.'], ['«', '¡', 'Cuando', 'ya', 'se', 'me', 'hace', 'bastante', 'difícil', 'ser', 'una', 'sola', 'persona', 'como', 'Dios', 'mand', '##a', '!', '»'], ['Poco', 'después', ',', 'su', 'mira', '##da', 'se', 'pos', '##ó', 'en', 'una', 'ca', '##jit', '##a', 'de', 'cristal', 'que', 'había', 'debajo', 'de', 'la', 'mesa', '.', 'La', 'abrió', 'y', 'encontró', 'dentro', 'un', 'di', '##min', '##uto', 'past', '##eli', '##llo', ',', 'en', 'que', 'se', 'le', '##ía', 'la', 'palabra', '«', 'COM', '##EM', '##E', '»', ',', 'del', '##icios', '##amente', 'escrita', 'con', 'gros', '##ella', '.'], ['«', 'Bu', '##eno', ',', 'me', 'lo', 'comer', '##é', '»', ',', 'se', 'dijo', 'Alicia', ',', '«', 'y', 'si', 'me', 'hace', 'c', '##rece', '##r', ',', 'pod', '##ré', 'co', '##ger', 'la', 'll', '##ave', ',', 'y', ',', 'si', 'me', 'hace', 'todavía', 'más', 'pequeña', ',', 'pod', '##ré', 'des', '##liz', '##arm', '##e', 'por', 'debajo', 'de', 'la', 'puerta', '.', 'De', 'un', 'modo', 'o', 'de', 'otro', 'entrar', '##é', 'en', 'el', 'jardín', ',', 'y', 'eso', 'es', 'lo', 'que', 'import', '##a', '.', '»'], ['Dio', 'un', 'mor', '##dis', '##quito', 'y', 'se', 'pre', '##gun', '##tó', 'ner', '##vios', '##ísima', 'a', 'sí', 'misma', ':', '«', '¿', 'Hacia', 'dó', '##nde', '?'], ['¿', 'Hacia', 'dó', '##nde', '?', '»', 'Al', 'mismo', 'tiempo', ',', 'se', 'llevó', 'una', 'mano', 'a', 'la', 'cabeza', 'para', 'notar', 'en', 'qué', 'dirección', 'se', 'inicia', '##ba', 'el', 'cambio', ',', 'y', 'quedó', 'muy', 'sor', '##pre', '##ndi', '##da', 'al', 'ad', '##vert', '##ir', 'que', 'seg', '##uía', 'con', 'el', 'mismo', 'tamaño', '.', 'En', 'realidad', ',', 'esto', 'es', 'lo', 'que', 'su', '##cede', 'normalmente', 'cuando', 'se', 'da', 'un', 'mor', '##dis', '##co', 'a', 'un', 'past', '##el', ',', 'pero', 'Alicia', 'estaba', 'ya', 'tan', 'ac', '##ost', '##um', '##brada', 'a', 'que', 'todo', 'lo', 'que', 'le', 'su', '##ced', '##ía', 'fuera', 'extra', '##ord', '##inario', ',', 'que', 'le', 'pare', '##ció', 'muy', 'abu', '##rrido', 'y', 'muy', 'ton', '##to', 'que', 'la', 'vida', 'discu', '##rries', '##e', 'por', 'ca', '##uce', '##s', 'normale', '##s', '.'], ['Así', 'pues', 'pasó', 'a', 'la', 'acción', ',', 'y', 'en', 'un', 'santi', '##am', '##én', 'dio', 'buena', 'cuenta', 'del', 'past', '##eli', '##to', '.']]\n"
          ]
        }
      ],
      "source": [
        "src_tokenized_sents = []\n",
        "tgt_tokenized_sents = []\n",
        "for src_text, tgt_text in zip(src_sents, tgt_sents):\n",
        "\n",
        "    # Tokenize the texts to get tokens directly\n",
        "    src_tokens = tokenizer.tokenize(src_text)\n",
        "    tgt_tokens = tokenizer.tokenize(tgt_text)\n",
        "\n",
        "    src_tokenized_sents.append(src_tokens)\n",
        "    tgt_tokenized_sents.append(tgt_tokens)\n",
        "\n",
        "print(src_tokenized_sents)\n",
        "print(tgt_tokenized_sents)"
      ]
    },
    {
      "cell_type": "markdown",
      "metadata": {
        "id": "HpUa-ZqUxZ8Z"
      },
      "source": [
        "## Run the model and print the resulting alignments."
      ]
    },
    {
      "cell_type": "code",
      "execution_count": null,
      "metadata": {
        "colab": {
          "base_uri": "https://localhost:8080/"
        },
        "id": "smW6s5JJflCN",
        "outputId": "75b5667e-b139-41c9-af35-b6c82bb74476"
      },
      "outputs": [],
      "source": [
        "word_alignments = []\n",
        "\n",
        "for sent_src, sent_tgt in zip(src_tokenized_sents, tgt_tokenized_sents):\n",
        "\n",
        "  # pre-processing\n",
        "  # sent_src, sent_tgt = src.strip().split(), tgt.strip().split()\n",
        "  token_src, token_tgt = [tokenizer.tokenize(word) for word in sent_src], [tokenizer.tokenize(word) for word in sent_tgt]\n",
        "  wid_src, wid_tgt = [tokenizer.convert_tokens_to_ids(x) for x in token_src], [tokenizer.convert_tokens_to_ids(x) for x in token_tgt]\n",
        "  ids_src, ids_tgt = tokenizer.prepare_for_model(list(itertools.chain(*wid_src)), return_tensors='pt', model_max_length=tokenizer.model_max_length, truncation=True)['input_ids'], tokenizer.prepare_for_model(list(itertools.chain(*wid_tgt)), return_tensors='pt', truncation=True, model_max_length=tokenizer.model_max_length)['input_ids']\n",
        "\n",
        "  ids_src = ids_src.to(device)\n",
        "  ids_tgt = ids_tgt.to(device)\n",
        "\n",
        "  sub2word_map_src = []\n",
        "  for i, word_list in enumerate(token_src):\n",
        "    sub2word_map_src += [i for x in word_list]\n",
        "  sub2word_map_tgt = []\n",
        "  for i, word_list in enumerate(token_tgt):\n",
        "    sub2word_map_tgt += [i for x in word_list]\n",
        "\n",
        "  # alignment\n",
        "  align_layer = 8\n",
        "  threshold = 1e-8\n",
        "  model.eval()\n",
        "  with torch.no_grad():\n",
        "    out_src = model(ids_src.unsqueeze(0), output_hidden_states=True)[2][align_layer][0, 1:-1]\n",
        "    out_tgt = model(ids_tgt.unsqueeze(0), output_hidden_states=True)[2][align_layer][0, 1:-1]\n",
        "\n",
        "    dot_prod = torch.matmul(out_src, out_tgt.transpose(-1, -2))\n",
        "\n",
        "    softmax_srctgt = torch.nn.Softmax(dim=-1)(dot_prod)\n",
        "    softmax_tgtsrc = torch.nn.Softmax(dim=-2)(dot_prod)\n",
        "\n",
        "    softmax_inter = (softmax_srctgt > threshold)*(softmax_tgtsrc > threshold)\n",
        "\n",
        "  align_subwords = torch.nonzero(softmax_inter, as_tuple=False)\n",
        "  align_words = set()\n",
        "  for i, j in align_subwords:\n",
        "    align_words.add( (sub2word_map_src[i], sub2word_map_tgt[j]) )\n",
        "\n",
        "  # printing\n",
        "  class color:\n",
        "    PURPLE = '\\033[95m'\n",
        "    CYAN = '\\033[96m'\n",
        "    DARKCYAN = '\\033[36m'\n",
        "    BLUE = '\\033[94m'\n",
        "    GREEN = '\\033[92m'\n",
        "    YELLOW = '\\033[93m'\n",
        "    RED = '\\033[91m'\n",
        "    BOLD = '\\033[1m'\n",
        "    UNDERLINE = '\\033[4m'\n",
        "    END = '\\033[0m'\n",
        "\n",
        "  alignments = []\n",
        "  for i, j in sorted(align_words):\n",
        "    print(f'{color.BOLD}{color.BLUE}{sent_src[i]}{color.END}==={color.BOLD}{color.RED}{sent_tgt[j]}{color.END}')\n",
        "    alignments.append([i, j])\n",
        "\n",
        "  word_alignments.append([sent_src, sent_tgt, alignments])\n",
        "\n",
        "\n",
        "print(word_alignments)"
      ]
    },
    {
      "cell_type": "markdown",
      "metadata": {},
      "source": [
        "Display resulting alignments"
      ]
    },
    {
      "cell_type": "code",
      "execution_count": 140,
      "metadata": {},
      "outputs": [
        {
          "data": {
            "text/html": [
              "\n",
              "        <div id=\"id_441302\"></div>\n",
              "        <style>.sentence {\n",
              "    display: flex;\n",
              "    justify-content: center;\n",
              "}\n",
              "\n",
              ".originalSentence {\n",
              "    margin-bottom: 3em;\n",
              "}\n",
              "\n",
              ".word {\n",
              "    padding: 5px;\n",
              "    margin: 2px;\n",
              "    border: 1px solid #ddd;\n",
              "    cursor: pointer;\n",
              "}\n",
              "\n",
              ".alignmentWidget {\n",
              "    position: relative;\n",
              "}\n",
              "\n",
              ".alignmentLines {\n",
              "    position: absolute;\n",
              "    top: 0;\n",
              "    left: 0;\n",
              "    pointer-events: none;\n",
              "    width: 100%;\n",
              "    height: 100%;\n",
              "}</style>\n",
              "        <script type=\"text/javascript\">\n",
              "        function show_word_alignments(element, originalSentence, translationSentence, alignments) {\n",
              "    // Create the alignmentWidget container\n",
              "    const alignmentWidgetDiv = document.createElement(\"div\");\n",
              "    alignmentWidgetDiv.className = \"alignmentWidget\";\n",
              "\n",
              "    // Create the originalSentence container\n",
              "    const originalSentenceDiv = document.createElement(\"div\");\n",
              "    originalSentenceDiv.className = \"sentence originalSentence\";\n",
              "\n",
              "    // Create the translationSentence container\n",
              "    const translationSentenceDiv = document.createElement(\"div\");\n",
              "    translationSentenceDiv.className = \"sentence\";\n",
              "\n",
              "    // Create the SVG element for alignment lines\n",
              "    const alignmentLinesSvg = document.createElementNS(\"http://www.w3.org/2000/svg\", \"svg\");\n",
              "    // alignmentLinesSvg.className = \"alignmentLines\";\n",
              "    alignmentLinesSvg.setAttribute('class', 'alignmentLines');\n",
              "\n",
              "    // Append the sub-elements to the alignmentWidget container\n",
              "    alignmentWidgetDiv.appendChild(originalSentenceDiv);\n",
              "    alignmentWidgetDiv.appendChild(translationSentenceDiv);\n",
              "    alignmentWidgetDiv.appendChild(alignmentLinesSvg);\n",
              "\n",
              "    // Append the alignmentWidget container to the main element\n",
              "    element.appendChild(alignmentWidgetDiv);\n",
              "\n",
              "    // Populate original sentence\n",
              "    originalSentence.forEach(word => {\n",
              "        const wordBox = document.createElement(\"div\");\n",
              "        wordBox.className = \"word\";\n",
              "        wordBox.textContent = word;\n",
              "        originalSentenceDiv.appendChild(wordBox);\n",
              "    });\n",
              "\n",
              "    // Populate translation sentence\n",
              "    translationSentence.forEach(word => {\n",
              "        const wordBox = document.createElement(\"div\");\n",
              "        wordBox.className = \"word\";\n",
              "        wordBox.textContent = word;\n",
              "        translationSentenceDiv.appendChild(wordBox);\n",
              "    });\n",
              "\n",
              "    // Draw lines for word alignment based on alignments list\n",
              "    alignments.forEach(([srcIndex, tgtIndex]) => {\n",
              "        const originalWordBox = originalSentenceDiv.children[srcIndex];\n",
              "        const translationWordBox = translationSentenceDiv.children[tgtIndex];\n",
              "\n",
              "        const line = document.createElementNS(\"http://www.w3.org/2000/svg\", \"line\");\n",
              "        line.setAttribute(\"x1\", originalWordBox.offsetLeft + originalWordBox.offsetWidth / 2);\n",
              "        line.setAttribute(\"y1\", originalWordBox.offsetTop + originalWordBox.offsetHeight);\n",
              "        line.setAttribute(\"x2\", translationWordBox.offsetLeft + translationWordBox.offsetWidth / 2);\n",
              "        line.setAttribute(\"y2\", translationWordBox.offsetTop);\n",
              "\n",
              "        line.setAttribute(\"stroke\", \"#007bff\");\n",
              "\n",
              "        alignmentLinesSvg.appendChild(line);\n",
              "\n",
              "        // Add event listeners for hover effect\n",
              "        const handleMouseover = () => {\n",
              "            originalWordBox.style.backgroundColor = \"#fff45c\";\n",
              "            translationWordBox.style.backgroundColor = \"#fff45c\";\n",
              "            line.setAttribute(\"stroke\", \"#ff0000\");\n",
              "        };\n",
              "\n",
              "        const handleMouseout = () => {\n",
              "            originalWordBox.style.backgroundColor = \"\";\n",
              "            translationWordBox.style.backgroundColor = \"\";\n",
              "            line.setAttribute(\"stroke\", \"#007bff\");\n",
              "        };\n",
              "\n",
              "        originalWordBox.addEventListener(\"mouseover\", handleMouseover);\n",
              "        originalWordBox.addEventListener(\"mouseout\", handleMouseout);\n",
              "\n",
              "        translationWordBox.addEventListener(\"mouseover\", handleMouseover);\n",
              "        translationWordBox.addEventListener(\"mouseout\", handleMouseout);\n",
              "    });\n",
              "};\n",
              "        show_word_alignments(document.getElementById(\"id_441302\"), [\"W\", \"##hic\", \"##h\", \"way\", \"?\", \"'\", \",\", \"holding\", \"her\", \"hand\", \"on\", \"the\", \"top\", \"of\", \"her\", \"head\", \"to\", \"feel\", \"which\", \"way\", \"it\", \"was\", \"growing\", \",\", \"and\", \"she\", \"was\", \"quite\", \"surprise\", \"##d\", \"to\", \"find\", \"that\", \"she\", \"remained\", \"the\", \"same\", \"size\", \":\", \"to\", \"be\", \"sure\", \",\", \"this\", \"generally\", \"happens\", \"when\", \"one\", \"eat\", \"##s\", \"ca\", \"##ke\", \",\", \"but\", \"Alice\", \"had\", \"got\", \"so\", \"much\", \"into\", \"the\", \"way\", \"of\", \"ex\", \"##pect\", \"##ing\", \"nothing\", \"but\", \"out\", \"-\", \"of\", \"-\", \"the\", \"-\", \"way\", \"things\", \"to\", \"happen\", \",\", \"that\", \"it\", \"seemed\", \"quite\", \"du\", \"##ll\", \"and\", \"st\", \"##upi\", \"##d\", \"for\", \"life\", \"to\", \"go\", \"on\", \"in\", \"the\", \"common\", \"way\", \".\"], [\"\\u00bf\", \"Hacia\", \"d\\u00f3\", \"##nde\", \"?\", \"\\u00bb\", \"Al\", \"mismo\", \"tiempo\", \",\", \"se\", \"llev\\u00f3\", \"una\", \"mano\", \"a\", \"la\", \"cabeza\", \"para\", \"notar\", \"en\", \"qu\\u00e9\", \"direcci\\u00f3n\", \"se\", \"inicia\", \"##ba\", \"el\", \"cambio\", \",\", \"y\", \"qued\\u00f3\", \"muy\", \"sor\", \"##pre\", \"##ndi\", \"##da\", \"al\", \"ad\", \"##vert\", \"##ir\", \"que\", \"seg\", \"##u\\u00eda\", \"con\", \"el\", \"mismo\", \"tama\\u00f1o\", \".\", \"En\", \"realidad\", \",\", \"esto\", \"es\", \"lo\", \"que\", \"su\", \"##cede\", \"normalmente\", \"cuando\", \"se\", \"da\", \"un\", \"mor\", \"##dis\", \"##co\", \"a\", \"un\", \"past\", \"##el\", \",\", \"pero\", \"Alicia\", \"estaba\", \"ya\", \"tan\", \"ac\", \"##ost\", \"##um\", \"##brada\", \"a\", \"que\", \"todo\", \"lo\", \"que\", \"le\", \"su\", \"##ced\", \"##\\u00eda\", \"fuera\", \"extra\", \"##ord\", \"##inario\", \",\", \"que\", \"le\", \"pare\", \"##ci\\u00f3\", \"muy\", \"abu\", \"##rrido\", \"y\", \"muy\", \"ton\", \"##to\", \"que\", \"la\", \"vida\", \"discu\", \"##rries\", \"##e\", \"por\", \"ca\", \"##uce\", \"##s\", \"normale\", \"##s\", \".\"], [[0, 0], [0, 2], [1, 3], [1, 32], [1, 75], [2, 3], [2, 33], [2, 76], [4, 4], [5, 5], [9, 13], [10, 14], [11, 15], [15, 16], [16, 17], [17, 18], [18, 20], [19, 21], [21, 22], [21, 71], [22, 26], [23, 27], [24, 28], [25, 10], [26, 29], [27, 30], [28, 31], [29, 24], [29, 32], [29, 41], [32, 39], [32, 79], [33, 93], [34, 29], [35, 43], [36, 44], [37, 45], [39, 47], [42, 49], [43, 50], [44, 56], [45, 51], [45, 55], [46, 57], [47, 60], [47, 65], [48, 38], [49, 41], [49, 55], [49, 67], [49, 95], [49, 112], [50, 110], [51, 3], [51, 41], [51, 67], [51, 98], [51, 107], [52, 68], [53, 69], [54, 70], [55, 71], [57, 73], [59, 64], [60, 104], [62, 60], [62, 65], [63, 62], [63, 74], [64, 37], [64, 62], [64, 63], [64, 67], [64, 75], [64, 107], [64, 111], [65, 63], [65, 67], [66, 80], [75, 81], [77, 55], [79, 79], [82, 100], [83, 97], [83, 106], [84, 67], [84, 75], [84, 98], [85, 99], [87, 33], [87, 75], [87, 76], [87, 77], [87, 90], [87, 111], [88, 76], [88, 77], [88, 86], [88, 112], [88, 114], [89, 109], [90, 105], [91, 102], [92, 38], [94, 19], [94, 42], [98, 115]]);\n",
              "        </script>\n",
              "        "
            ],
            "text/plain": [
              "<IPython.core.display.HTML object>"
            ]
          },
          "metadata": {},
          "output_type": "display_data"
        },
        {
          "data": {
            "text/html": [
              "\n",
              "        <div id=\"id_973243\"></div>\n",
              "        <style>.sentence {\n",
              "    display: flex;\n",
              "    justify-content: center;\n",
              "}\n",
              "\n",
              ".originalSentence {\n",
              "    margin-bottom: 3em;\n",
              "}\n",
              "\n",
              ".word {\n",
              "    padding: 5px;\n",
              "    margin: 2px;\n",
              "    border: 1px solid #ddd;\n",
              "    cursor: pointer;\n",
              "}\n",
              "\n",
              ".alignmentWidget {\n",
              "    position: relative;\n",
              "}\n",
              "\n",
              ".alignmentLines {\n",
              "    position: absolute;\n",
              "    top: 0;\n",
              "    left: 0;\n",
              "    pointer-events: none;\n",
              "    width: 100%;\n",
              "    height: 100%;\n",
              "}</style>\n",
              "        <script type=\"text/javascript\">\n",
              "        function show_word_alignments(element, originalSentence, translationSentence, alignments) {\n",
              "    // Create the alignmentWidget container\n",
              "    const alignmentWidgetDiv = document.createElement(\"div\");\n",
              "    alignmentWidgetDiv.className = \"alignmentWidget\";\n",
              "\n",
              "    // Create the originalSentence container\n",
              "    const originalSentenceDiv = document.createElement(\"div\");\n",
              "    originalSentenceDiv.className = \"sentence originalSentence\";\n",
              "\n",
              "    // Create the translationSentence container\n",
              "    const translationSentenceDiv = document.createElement(\"div\");\n",
              "    translationSentenceDiv.className = \"sentence\";\n",
              "\n",
              "    // Create the SVG element for alignment lines\n",
              "    const alignmentLinesSvg = document.createElementNS(\"http://www.w3.org/2000/svg\", \"svg\");\n",
              "    // alignmentLinesSvg.className = \"alignmentLines\";\n",
              "    alignmentLinesSvg.setAttribute('class', 'alignmentLines');\n",
              "\n",
              "    // Append the sub-elements to the alignmentWidget container\n",
              "    alignmentWidgetDiv.appendChild(originalSentenceDiv);\n",
              "    alignmentWidgetDiv.appendChild(translationSentenceDiv);\n",
              "    alignmentWidgetDiv.appendChild(alignmentLinesSvg);\n",
              "\n",
              "    // Append the alignmentWidget container to the main element\n",
              "    element.appendChild(alignmentWidgetDiv);\n",
              "\n",
              "    // Populate original sentence\n",
              "    originalSentence.forEach(word => {\n",
              "        const wordBox = document.createElement(\"div\");\n",
              "        wordBox.className = \"word\";\n",
              "        wordBox.textContent = word;\n",
              "        originalSentenceDiv.appendChild(wordBox);\n",
              "    });\n",
              "\n",
              "    // Populate translation sentence\n",
              "    translationSentence.forEach(word => {\n",
              "        const wordBox = document.createElement(\"div\");\n",
              "        wordBox.className = \"word\";\n",
              "        wordBox.textContent = word;\n",
              "        translationSentenceDiv.appendChild(wordBox);\n",
              "    });\n",
              "\n",
              "    // Draw lines for word alignment based on alignments list\n",
              "    alignments.forEach(([srcIndex, tgtIndex]) => {\n",
              "        const originalWordBox = originalSentenceDiv.children[srcIndex];\n",
              "        const translationWordBox = translationSentenceDiv.children[tgtIndex];\n",
              "\n",
              "        const line = document.createElementNS(\"http://www.w3.org/2000/svg\", \"line\");\n",
              "        line.setAttribute(\"x1\", originalWordBox.offsetLeft + originalWordBox.offsetWidth / 2);\n",
              "        line.setAttribute(\"y1\", originalWordBox.offsetTop + originalWordBox.offsetHeight);\n",
              "        line.setAttribute(\"x2\", translationWordBox.offsetLeft + translationWordBox.offsetWidth / 2);\n",
              "        line.setAttribute(\"y2\", translationWordBox.offsetTop);\n",
              "\n",
              "        line.setAttribute(\"stroke\", \"#007bff\");\n",
              "\n",
              "        alignmentLinesSvg.appendChild(line);\n",
              "\n",
              "        // Add event listeners for hover effect\n",
              "        const handleMouseover = () => {\n",
              "            originalWordBox.style.backgroundColor = \"#fff45c\";\n",
              "            translationWordBox.style.backgroundColor = \"#fff45c\";\n",
              "            line.setAttribute(\"stroke\", \"#ff0000\");\n",
              "        };\n",
              "\n",
              "        const handleMouseout = () => {\n",
              "            originalWordBox.style.backgroundColor = \"\";\n",
              "            translationWordBox.style.backgroundColor = \"\";\n",
              "            line.setAttribute(\"stroke\", \"#007bff\");\n",
              "        };\n",
              "\n",
              "        originalWordBox.addEventListener(\"mouseover\", handleMouseover);\n",
              "        originalWordBox.addEventListener(\"mouseout\", handleMouseout);\n",
              "\n",
              "        translationWordBox.addEventListener(\"mouseover\", handleMouseover);\n",
              "        translationWordBox.addEventListener(\"mouseout\", handleMouseout);\n",
              "    });\n",
              "};\n",
              "        show_word_alignments(document.getElementById(\"id_973243\"), [\"So\", \"she\", \"set\", \"to\", \"work\", \",\", \"and\", \"very\", \"soon\", \"finished\", \"off\", \"the\", \"ca\", \"##ke\", \".\"], [\"As\\u00ed\", \"pues\", \"pas\\u00f3\", \"a\", \"la\", \"acci\\u00f3n\", \",\", \"y\", \"en\", \"un\", \"santi\", \"##am\", \"##\\u00e9n\", \"dio\", \"buena\", \"cuenta\", \"del\", \"past\", \"##eli\", \"##to\", \".\"], [[0, 0], [2, 2], [3, 3], [4, 5], [5, 6], [6, 7], [7, 14], [8, 14], [9, 13], [10, 15], [11, 16], [12, 10], [12, 17], [13, 11], [13, 12], [13, 18], [13, 19], [14, 20]]);\n",
              "        </script>\n",
              "        "
            ],
            "text/plain": [
              "<IPython.core.display.HTML object>"
            ]
          },
          "metadata": {},
          "output_type": "display_data"
        }
      ],
      "source": [
        "for alignments in word_alignments[-2:]:\n",
        "    src_tokens = alignments[0]\n",
        "    tgt_tokens = alignments[1]\n",
        "    alignment = alignments[2]\n",
        "    display(show_word_alignments(src_tokens, tgt_tokens, alignment))"
      ]
    },
    {
      "cell_type": "code",
      "execution_count": 145,
      "metadata": {},
      "outputs": [
        {
          "name": "stdout",
          "output_type": "stream",
          "text": [
            "/workspace/novel-tongue/notebooks/word_alignments\n"
          ]
        },
        {
          "name": "stderr",
          "output_type": "stream",
          "text": [
            "/usr/local/lib/python3.10/dist-packages/IPython/core/magics/osm.py:417: UserWarning: This is now an optional IPython functionality, setting dhist requires you to install the `pickleshare` library.\n",
            "  self.shell.db['dhist'] = compress_dhist(dhist)[-100:]\n"
          ]
        }
      ],
      "source": [
        "%cd /workspace/novel-tongue/notebooks/word_alignments"
      ]
    },
    {
      "cell_type": "code",
      "execution_count": 147,
      "metadata": {},
      "outputs": [],
      "source": [
        "# save results\n",
        "with open(f\"c1_word_aligned.txt\", \"w\") as f:\n",
        "    text = \"\"\n",
        "    for alignments in word_alignments:\n",
        "        src_tokens = alignments[0]\n",
        "        tgt_tokens = alignments[1]\n",
        "        alignment = alignments[2]\n",
        "        text += \" \".join(src_tokens) + \"\\n\" + \" \".join(tgt_tokens) + \"\\n\" + str(alignment) + \"\\n\\n\"\n",
        "    f.write(text)"
      ]
    },
    {
      "cell_type": "markdown",
      "metadata": {},
      "source": [
        "## Align spaCy and mBert tokenizations"
      ]
    },
    {
      "cell_type": "markdown",
      "metadata": {},
      "source": [
        "Get spaCy tokenized sentences"
      ]
    },
    {
      "cell_type": "code",
      "execution_count": 115,
      "metadata": {},
      "outputs": [
        {
          "name": "stdout",
          "output_type": "stream",
          "text": [
            "[['All', 'in', 'the', 'golden', 'afternoon'], ['Full', 'leisurely', 'we', 'glide', ';', 'For', 'both', 'our', 'oars', ',', 'with', 'little', 'skill', ','], ['By', 'little', 'arms', 'are', 'plied', ',', 'While', 'little', 'hands', 'make', 'vain', 'pretence'], ['Our', 'wanderings', 'to', 'guide', '.'], ['Ah', ',', 'cruel', 'Three', '!'], ['In', 'such', 'an', 'hour', '.', 'Beneath', 'such', 'dreamy', 'weather', '.'], ['To', 'beg', 'a', 'tale', 'of', 'breath', 'too', 'weak'], ['To', 'stir', 'the', 'tiniest', 'feather', '!'], ['Yet', 'what', 'can', 'one', 'poor', 'voice', 'avail'], ['Against', 'three', 'tongues', 'together', '?'], ['Imperious', 'Prima', 'flashes', 'forth', 'Her', 'edict', '\"', 'to', 'begin', 'it', '\"', '—'], ['In', 'gentler', 'tone', 'Secunda', 'hopes'], ['\"', 'There', 'will', 'he', 'nonsense', 'in', 'it', '!', '\"', '—'], ['While', 'Tertia', 'interrupts', 'the', 'tale'], ['Not', 'more', 'than', 'once', 'a', 'minute', '.'], ['Anon', ',', 'to', 'sudden', 'silence', 'won', ','], ['In', 'fancy', 'they', 'pursue', 'The', 'dream', '-', 'child', 'moving', 'through', 'a', 'land'], ['Of', 'wonders', 'wild', 'and', 'new', ','], ['In', 'friendly', 'chat', 'with', 'bird', 'or', 'beast', '—'], ['And', 'half', 'believe', 'it', 'true', '.'], ['And', 'ever', ',', 'as', 'the', 'story', 'drained'], ['The', 'wells', 'of', 'fancy', 'dry', ',', 'And', 'faintly', 'strove', 'that', 'weary', 'one'], ['To', 'put', 'the', 'subject', 'by', ','], ['\"', 'The', 'rest', 'next', 'time', '—', '\"', '\"', 'It', 'is', 'next', 'time', '!', '\"', 'The', 'happy', 'voices', 'cry', '.'], ['Thus', 'grew', 'the', 'tale', 'of', 'Wonderland', ':'], ['Thus', 'slowly', ',', 'one', 'by', 'one', ','], ['Its', 'quaint', 'events', 'were', 'hammered', 'out', '—'], ['And', 'now', 'the', 'tale', 'is', 'done', ','], ['And', 'home', 'we', 'steer', ',', 'a', 'merry', 'crew', ','], ['Beneath', 'the', 'setting', \"'\", 'sun', '.'], ['Alice', '!', 'a', 'childish', 'story', 'take', ','], ['And', 'with', 'a', 'gentle', 'hand'], ['Lay', 'it', 'where', 'Childhood', \"'s\", 'dreams', 'are', 'twined'], ['In', 'Memory', \"'s\", 'mystic', 'band', ','], ['Like', 'pilgrim', \"'s\", \"wither'd\", 'wreath', 'of', 'flowers'], [\"Pluck'd\", 'in', 'a', 'far', '-', 'off', 'land', '.'], ['CHAPTER', 'I.'], ['Down', 'the', 'Rabbit', '-', 'Hole'], ['Alice', 'was', 'beginning', 'to', 'get', 'very', 'tired', 'of', 'sitting', 'by', 'her', 'sister', 'on', 'the', 'bank', ',', 'and', 'of', 'having', 'nothing', 'to', 'do', ':', 'once', 'or', 'twice', 'she', 'had', 'peeped', 'into', 'the', 'book', 'her', 'sister', 'was', 'reading', ',', 'but', 'it', 'had', 'no', 'pictures', 'or', 'conversations', 'in', 'it', ',', \"'\", 'and', 'what', 'is', 'the', 'use', 'of', 'a', 'book', ',', \"'\", 'thought', 'Alice', \"'\", 'without', 'pictures', 'or', 'conversation', '?', \"'\"], ['So', 'she', 'was', 'considering', 'in', 'her', 'own', 'mind', '(', 'as', 'well', 'as', 'she', 'could', ',', 'for', 'the', 'hot', 'day', 'made', 'her', 'feel', 'very', 'sleepy', 'and', 'stupid', ')', ',', 'whether', 'the', 'pleasure', 'of', 'making', 'a', 'daisy', '-', 'chain', 'would', 'be', 'worth', 'the', 'trouble', 'of', 'getting', 'up', 'and', 'picking', 'the', 'daisies', ',', 'when', 'suddenly', 'a', 'White', 'Rabbit', 'with', 'pink', 'eyes', 'ran', 'close', 'by', 'her', '.'], ['There', 'was', 'nothing', 'so', 'VERY', 'remarkable', 'in', 'that', ';', 'nor', 'did', 'Alice', 'think', 'it', 'so', 'VERY', 'much', 'out', 'of', 'the', 'way', 'to', 'hear', 'the', 'Rabbit', 'say', 'to', 'itself', ',', \"'\", 'Oh', 'dear', '!'], ['Oh', 'dear', '!'], ['I', 'shall', 'be', 'late', '!', \"'\", '(', 'when', 'she', 'thought', 'it', 'over', 'afterwards', ',', 'it', 'occurred', 'to', 'her', 'that', 'she', 'ought', 'to', 'have', 'wondered', 'at', 'this', ',', 'but', 'at', 'the', 'time', 'it', 'all', 'seemed', 'quite', 'natural', ')', ';', 'but', 'when', 'the', 'Rabbit', 'actually', 'TOOK', 'A', 'WATCH', 'OUT', 'OF', 'ITS', 'WAISTCOAT', '-', 'POCKET', ',', 'and', 'looked', 'at', 'it', ',', 'and', 'then', 'hurried', 'on', ',', 'Alice', 'started', 'to', 'her', 'feet', ',', 'for', 'it', 'flashed', 'across', 'her', 'mind', 'that', 'she', 'had', 'never', 'before', 'seen', 'a', 'rabbit', 'with', 'either', 'a', 'waistcoat', '-', 'pocket', ',', 'or', 'a', 'watch', 'to', 'take', 'out', 'of', 'it', ',', 'and', 'burning', 'with', 'curiosity', ',', 'she', 'ran', 'across', 'the', 'field', 'after', 'it', ',', 'and', 'fortunately', 'was', 'just', 'in', 'time', 'to', 'see', 'it', 'pop', 'down', 'a', 'large', 'rabbit', '-', 'hole', 'under', 'the', 'hedge', '.'], ['In', 'another', 'moment', 'down', 'went', 'Alice', 'after', 'it', ',', 'never', 'once', 'considering', 'how', 'in', 'the', 'world', 'she', 'was', 'to', 'get', 'out', 'again', '.'], ['The', 'rabbit', '-', 'hole', 'went', 'straight', 'on', 'like', 'a', 'tunnel', 'for', 'some', 'way', ',', 'and', 'then', 'dipped', 'suddenly', 'down', ',', 'so', 'suddenly', 'that', 'Alice', 'had', 'not', 'a', 'moment', 'to', 'think', 'about', 'stopping', 'herself', 'before', 'she', 'found', 'herself', 'falling', 'down', 'a', 'very', 'deep', 'well', '.'], ['Either', 'the', 'well', 'was', 'very', 'deep', ',', 'or', 'she', 'fell', 'very', 'slowly', ',', 'for', 'she', 'had', 'plenty', 'of', 'time', 'as', 'she', 'went', 'down', 'to', 'look', 'about', 'her', 'and', 'to', 'wonder', 'what', 'was', 'going', 'to', 'happen', 'next', '.'], ['First', ',', 'she', 'tried', 'to', 'look', 'down', 'and', 'make', 'out', 'what', 'she', 'was', 'coming', 'to', ',', 'but', 'it', 'was', 'too', 'dark', 'to', 'see', 'anything', ';', 'then', 'she', 'looked', 'at', 'the', 'sides', 'of', 'the', 'well', ',', 'and', 'noticed', 'that', 'they', 'were', 'filled', 'with', 'cupboards', 'and', 'book', '-', 'shelves', ';', 'here', 'and', 'there', 'she', 'saw', 'maps', 'and', 'pictures', 'hung', 'upon', 'pegs', '.'], ['She', 'took', 'down', 'a', 'jar', 'from', 'one', 'of', 'the', 'shelves', 'as', 'she', 'passed', ';', 'it', 'was', 'labelled', \"'\", 'ORANGE', 'MARMALADE', \"'\", ',', 'but', 'to', 'her', 'great', 'disappointment', 'it', 'was', 'empty', ':', 'she', 'did', 'not', 'like', 'to', 'drop', 'the', 'jar', 'for', 'fear', 'of', 'killing', 'somebody', ',', 'so', 'managed', 'to', 'put', 'it', 'into', 'one', 'of', 'the', 'cupboards', 'as', 'she', 'fell', 'past', 'it', '.'], [\"'\", 'Well', '!', \"'\", 'thought', 'Alice', 'to', 'herself', ',', \"'\", 'after', 'such', 'a', 'fall', 'as', 'this', ',', 'I', 'shall', 'think', 'nothing', 'of', 'tumbling', 'down', 'stairs', '!'], ['How', 'brave', 'they', \"'ll\", 'all', 'think', 'me', 'at', 'home', '!'], ['Why', ',', 'I', 'would', \"n't\", 'say', 'anything', 'about', 'it', ',', 'even', 'if', 'I', 'fell', 'off', 'the', 'top', 'of', 'the', 'house', '!', \"'\"], ['(', 'Which', 'was', 'very', 'likely', 'true', '.', ')'], ['Down', ',', 'down', ',', 'down', '.'], ['Would', 'the', 'fall', 'NEVER', 'come', 'to', 'an', 'end', '!'], [\"'\", 'I', 'wonder', 'how', 'many', 'miles', 'I', \"'ve\", 'fallen', 'by', 'this', 'time', '?', \"'\", 'she', 'said', 'aloud', '.'], [\"'\", 'I', 'must', 'be', 'getting', 'somewhere', 'near', 'the', 'centre', 'of', 'the', 'earth', '.'], ['Let', 'me', 'see', ':', 'that', 'would', 'be', 'four', 'thousand', 'miles', 'down', ',', 'I', 'think', '—', \"'\", '(', 'for', ',', 'you', 'see', ',', 'Alice', 'had', 'learnt', 'several', 'things', 'of', 'this', 'sort', 'in', 'her', 'lessons', 'in', 'the', 'schoolroom', ',', 'and', 'though', 'this', 'was', 'not', 'a', 'VERY', 'good', 'opportunity', 'for', 'showing', 'off', 'her', 'knowledge', ',', 'as', 'there', 'was', 'no', 'one', 'to', 'listen', 'to', 'her', ',', 'still', 'it', 'was', 'good', 'practice', 'to', 'say', 'it', 'over', ')', \"'\", '—', 'yes', ',', 'that', \"'s\", 'about', 'the', 'right', 'distance', '—', 'but', 'then', 'I', 'wonder', 'what', 'Latitude', 'or', 'Longitude', 'I', \"'ve\", 'got', 'to', '?', \"'\"], ['(', 'Alice', 'had', 'no', 'idea', 'what', 'Latitude', 'was', ',', 'or', 'Longitude', 'either', ',', 'but', 'thought', 'they', 'were', 'nice', 'grand', 'words', 'to', 'say', '.', ')'], ['Presently', 'she', 'began', 'again', '.'], [\"'\", 'I', 'wonder', 'if', 'I', 'shall', 'fall', 'right', 'THROUGH', 'the', 'earth', '!'], ['How', 'funny', 'it', \"'ll\", 'seem', 'to', 'come', 'out', 'among', 'the', 'people', 'that', 'walk', 'with', 'their', 'heads', 'downward', '!'], ['The', 'Antipathies', ',', 'I', 'think', '—', \"'\", '(', 'she', 'was', 'rather', 'glad', 'there', 'WAS', 'no', 'one', 'listening', ',', 'this', 'time', ',', 'as', 'it', 'did', \"n't\", 'sound', 'at', 'all', 'the', 'right', 'word', ')', \"'\", '—', 'but', 'I', 'shall', 'have', 'to', 'ask', 'them', 'what', 'the', 'name', 'of', 'the', 'country', 'is', ',', 'you', 'know', '.'], ['Please', ',', \"Ma'am\", ',', 'is', 'this', 'New', 'Zealand', 'or', 'Australia', '?', \"'\", '(', 'and', 'she', 'tried', 'to', 'curtsey', 'as', 'she', 'spoke', '—', 'fancy', 'CURTSEYING', 'as', 'you', \"'re\", 'falling', 'through', 'the', 'air', '!'], ['Do', 'you', 'think', 'you', 'could', 'manage', 'it', '?', ')', \"'\", 'And', 'what', 'an', 'ignorant', 'little', 'girl', 'she', \"'ll\", 'think', 'me', 'for', 'asking', '!'], ['No', ',', 'it', \"'ll\", 'never', 'do', 'to', 'ask', ':', 'perhaps', 'I', 'shall', 'see', 'it', 'written', 'up', 'somewhere', '.', \"'\"], ['Down', ',', 'down', ',', 'down', '.'], ['There', 'was', 'nothing', 'else', 'to', 'do', ',', 'so', 'Alice', 'soon', 'began', 'talking', 'again', '.'], [\"'\", \"Dinah'll\", 'miss', 'me', 'very', 'much', 'to', '-', 'night', ',', 'I', 'should', 'think', '!', \"'\"], ['(', 'Dinah', 'was', 'the', 'cat', '.', ')'], [\"'\", 'I', 'hope', 'they', \"'ll\", 'remember', 'her', 'saucer', 'of', 'milk', 'at', 'tea', '-', 'time', '.'], ['Dinah', 'my', 'dear', '!', 'I', 'wish', 'you', 'were', 'down', 'here', 'with', 'me', '!'], ['There', 'are', 'no', 'mice', 'in', 'the', 'air', ',', 'I', \"'m\", 'afraid', ',', 'but', 'you', 'might', 'catch', 'a', 'bat', ',', 'and', 'that', \"'s\", 'very', 'like', 'a', 'mouse', ',', 'you', 'know', '.'], ['But', 'do', 'cats', 'eat', 'bats', ',', 'I', 'wonder', '?', \"'\"], ['And', 'here', 'Alice', 'began', 'to', 'get', 'rather', 'sleepy', ',', 'and', 'went', 'on', 'saying', 'to', 'herself', ',', 'in', 'a', 'dreamy', 'sort', 'of', 'way', ',', \"'\", 'Do', 'cats', 'eat', 'bats', '?'], ['Do', 'cats', 'eat', 'bats', '?', \"'\", 'and', 'sometimes', ',', \"'\", 'Do', 'bats', 'eat', 'cats', '?', \"'\", 'for', ',', 'you', 'see', ',', 'as', 'she', 'could', \"n't\", 'answer', 'either', 'question', ',', 'it', 'did', \"n't\", 'much', 'matter', 'which', 'way', 'she', 'put', 'it', '.'], ['She', 'felt', 'that', 'she', 'was', 'dozing', 'off', ',', 'and', 'had', 'just', 'begun', 'to', 'dream', 'that', 'she', 'was', 'walking', 'hand', 'in', 'hand', 'with', 'Dinah', ',', 'and', 'saying', 'to', 'her', 'very', 'earnestly', ',', \"'\", 'Now', ',', 'Dinah', ',', 'tell', 'me', 'the', 'truth', ':', 'did', 'you', 'ever', 'eat', 'a', 'bat', '?', \"'\", 'when', 'suddenly', ',', 'thump', '!', 'thump', '!', 'down', 'she', 'came', 'upon', 'a', 'heap', 'of', 'sticks', 'and', 'dry', 'leaves', ',', 'and', 'the', 'fall', 'was', 'over', '.'], ['Alice', 'was', 'not', 'a', 'bit', 'hurt', ',', 'and', 'she', 'jumped', 'up', 'on', 'to', 'her', 'feet', 'in', 'a', 'moment', ':', 'she', 'looked', 'up', ',', 'but', 'it', 'was', 'all', 'dark', 'overhead', ';', 'before', 'her', 'was', 'another', 'long', 'passage', ',', 'and', 'the', 'White', 'Rabbit', 'was', 'still', 'in', 'sight', ',', 'hurrying', 'down', 'it', '.'], ['There', 'was', 'not', 'a', 'moment', 'to', 'be', 'lost', ':', 'away', 'went', 'Alice', 'like', 'the', 'wind', ',', 'and', 'was', 'just', 'in', 'time', 'to', 'hear', 'it', 'say', ',', 'as', 'it', 'turned', 'a', 'corner', ',', \"'\", 'Oh', 'my', 'ears', 'and', 'whiskers', ',', 'how', 'late', 'it', \"'s\", 'getting', '!', \"'\"], ['She', 'was', 'close', 'behind', 'it', 'when', 'she', 'turned', 'the', 'corner', ',', 'but', 'the', 'Rabbit', 'was', 'no', 'longer', 'to', 'be', 'seen', ':', 'she', 'found', 'herself', 'in', 'a', 'long', ',', 'low', 'hall', ',', 'which', 'was', 'lit', 'up', 'by', 'a', 'row', 'of', 'lamps', 'hanging', 'from', 'the', 'roof', '.'], ['There', 'were', 'doors', 'all', 'round', 'the', 'hall', ',', 'but', 'they', 'were', 'all', 'locked', ';', 'and', 'when', 'Alice', 'had', 'been', 'all', 'the', 'way', 'down', 'one', 'side', 'and', 'up', 'the', 'other', ',', 'trying', 'every', 'door', ',', 'she', 'walked', 'sadly', 'down', 'the', 'middle', ',', 'wondering', 'how', 'she', 'was', 'ever', 'to', 'get', 'out', 'again', '.'], ['Suddenly', 'she', 'came', 'upon', 'a', 'little', 'three', '-', 'legged', 'table', ',', 'all', 'made', 'of', 'solid', 'glass', ';', 'there', 'was', 'nothing', 'on', 'it', 'except', 'a', 'tiny', 'golden', 'key', ',', 'and', 'Alice', \"'s\", 'first', 'thought', 'was', 'that', 'it', 'might', 'belong', 'to', 'one', 'of', 'the', 'doors', 'of', 'the', 'hall', ';', 'but', ',', 'alas', '!', 'either', 'the', 'locks', 'were', 'too', 'large', ',', 'or', 'the', 'key', 'was', 'too', 'small', ',', 'but', 'at', 'any', 'rate', 'it', 'would', 'not', 'open', 'any', 'of', 'them', '.'], ['However', ',', 'on', 'the', 'second', 'time', 'round', ',', 'she', 'came', 'upon', 'a', 'low', 'curtain', 'she', 'had', 'not', 'noticed', 'before', ',', 'and', 'behind', 'it', 'was', 'a', 'little', 'door', 'about', 'fifteen', 'inches', 'high', ':', 'she', 'tried', 'the', 'little', 'golden', 'key', 'in', 'the', 'lock', ',', 'and', 'to', 'her', 'great', 'delight', 'it', 'fitted', '!'], ['Alice', 'opened', 'the', 'door', 'and', 'found', 'that', 'it', 'led', 'into', 'a', 'small', 'passage', ',', 'not', 'much', 'larger', 'than', 'a', 'rat', '-', 'hole', ':', 'she', 'knelt', 'down', 'and', 'looked', 'along', 'the', 'passage', 'into', 'the', 'loveliest', 'garden', 'you', 'ever', 'saw', '.'], ['How', 'she', 'longed', 'to', 'get', 'out', 'of', 'that', 'dark', 'hall', ',', 'and', 'wander', 'about', 'among', 'those', 'beds', 'of', 'bright', 'flowers', 'and', 'those', 'cool', 'fountains', ',', 'but', 'she', 'could', 'not', 'even', 'get', 'her', 'head', 'through', 'the', 'doorway', ';', \"'\", 'and', 'even', 'if', 'my', 'head', 'would', 'go', 'through', ',', \"'\", 'thought', 'poor', 'Alice', ',', \"'\", 'it', 'would', 'be', 'of', 'very', 'little', 'use', 'without', 'my', 'shoulders', '.'], ['Oh', ',', 'how', 'I', 'wish', 'I', 'could', 'shut', 'up', 'like', 'a', 'telescope', '!'], ['I', 'think', 'I', 'could', ',', 'if', 'I', 'only', 'know', 'how', 'to', 'begin', '.', \"'\"], ['For', ',', 'you', 'see', ',', 'so', 'many', 'out', '-', 'of', '-', 'the', '-', 'way', 'things', 'had', 'happened', 'lately', ',', 'that', 'Alice', 'had', 'begun', 'to', 'think', 'that', 'very', 'few', 'things', 'indeed', 'were', 'really', 'impossible', '.'], ['There', 'seemed', 'to', 'be', 'no', 'use', 'in', 'waiting', 'by', 'the', 'little', 'door', ',', 'so', 'she', 'went', 'back', 'to', 'the', 'table', ',', 'half', 'hoping', 'she', 'might', 'find', 'another', 'key', 'on', 'it', ',', 'or', 'at', 'any', 'rate', 'a', 'book', 'of', 'rules', 'for', 'shutting', 'people', 'up', 'like', 'telescopes', ':', 'this', 'time', 'she', 'found', 'a', 'little', 'bottle', 'on', 'it', ',', '(', \"'\", 'which', 'certainly', 'was', 'not', 'here', 'before', ',', \"'\", 'said', 'Alice', ',', ')', 'and', 'round', 'the', 'neck', 'of', 'the', 'bottle', 'was', 'a', 'paper', 'label', ',', 'with', 'the', 'words', \"'\", 'DRINK', 'ME', \"'\", 'beautifully', 'printed', 'on', 'it', 'in', 'large', 'letters', '.'], ['It', 'was', 'all', 'very', 'well', 'to', 'say', \"'\", 'Drink', 'me', ',', \"'\", 'but', 'the', 'wise', 'little', 'Alice', 'was', 'not', 'going', 'to', 'do', 'THAT', 'in', 'a', 'hurry', '.'], [\"'\", 'No', ',', 'I', \"'ll\", 'look', 'first', ',', \"'\", 'she', 'said', ',', \"'\", 'and', 'see', 'whether', 'it', \"'s\", 'marked', '\"', 'poison', '\"', 'or', 'not', \"'\", ';', 'for', 'she', 'had', 'read', 'several', 'nice', 'little', 'histories', 'about', 'children', 'who', 'had', 'got', 'burnt', ',', 'and', 'eaten', 'up', 'by', 'wild', 'beasts', 'and', 'other', 'unpleasant', 'things', ',', 'all', 'because', 'they', 'WOULD', 'not', 'remember', 'the', 'simple', 'rules', 'their', 'friends', 'had', 'taught', 'them', ':', 'such', 'as', ',', 'that', 'a', 'red', '-', 'hot', 'poker', 'will', 'burn', 'you', 'if', 'you', 'hold', 'it', 'too', 'long', ';', 'and', 'that', 'if', 'you', 'cut', 'your', 'finger', 'VERY', 'deeply', 'with', 'a', 'knife', ',', 'it', 'usually', 'bleeds', ';', 'and', 'she', 'had', 'never', 'forgotten', 'that', ',', 'if', 'you', 'drink', 'much', 'from', 'a', 'bottle', 'marked', \"'\", 'poison', ',', \"'\", 'it', 'is', 'almost', 'certain', 'to', 'disagree', 'with', 'you', ',', 'sooner', 'or', 'later', '.'], ['However', ',', 'this', 'bottle', 'was', 'NOT', 'marked', \"'\", 'poison', ',', \"'\", 'so', 'Alice', 'ventured', 'to', 'taste', 'it', ',', 'and', 'finding', 'it', 'very', 'nice', ',', '(', 'it', 'had', ',', 'in', 'fact', ',', 'a', 'sort', 'of', 'mixed', 'flavour', 'of', 'cherry', '-', 'tart', ',', 'custard', ',', 'pine', '-', 'apple', ',', 'roast', 'turkey', ',', 'toffee', ',', 'and', 'hot', 'buttered', 'toast', ',', ')', 'she', 'very', 'soon', 'finished', 'it', 'off', '.'], [\"'\", 'What', 'a', 'curious', 'feeling', '!', \"'\", 'said', 'Alice', ';', \"'\", 'I', 'must', 'be', 'shutting', 'up', 'like', 'a', 'telescope', '.', \"'\"], ['And', 'so', 'it', 'was', 'indeed', ':', 'she', 'was', 'now', 'only', 'ten', 'inches', 'high', ',', 'and', 'her', 'face', 'brightened', 'up', 'at', 'the', 'thought', 'that', 'she', 'was', 'now', 'the', 'right', 'size', 'for', 'going', 'through', 'the', 'little', 'door', 'into', 'that', 'lovely', 'garden', '.'], ['First', ',', 'however', ',', 'she', 'waited', 'for', 'a', 'few', 'minutes', 'to', 'see', 'if', 'she', 'was', 'going', 'to', 'shrink', 'any', 'further', ':', 'she', 'felt', 'a', 'little', 'nervous', 'about', 'this', ';', \"'\", 'for', 'it', 'might', 'end', ',', 'you', 'know', ',', \"'\", 'said', 'Alice', 'to', 'herself', ',', \"'\", 'in', 'my', 'going', 'out', 'altogether', ',', 'like', 'a', 'candle', '.'], ['I', 'wonder', 'what', 'I', 'should', 'be', 'like', 'then', '?', \"'\"], ['And', 'she', 'tried', 'to', 'fancy', 'what', 'the', 'flame', 'of', 'a', 'candle', 'is', 'like', 'after', 'the', 'candle', 'is', 'blown', 'out', ',', 'for', 'she', 'could', 'not', 'remember', 'ever', 'having', 'seen', 'such', 'a', 'thing', '.'], ['After', 'a', 'while', ',', 'finding', 'that', 'nothing', 'more', 'happened', ',', 'she', 'decided', 'on', 'going', 'into', 'the', 'garden', 'at', 'once', ';', 'but', ',', 'alas', 'for', 'poor', 'Alice', '!', 'when', 'she', 'got', 'to', 'the', 'door', ',', 'she', 'found', 'she', 'had', 'forgotten', 'the', 'little', 'golden', 'key', ',', 'and', 'when', 'she', 'went', 'back', 'to', 'the', 'table', 'for', 'it', ',', 'she', 'found', 'she', 'could', 'not', 'possibly', 'reach', 'it', ':', 'she', 'could', 'see', 'it', 'quite', 'plainly', 'through', 'the', 'glass', ',', 'and', 'she', 'tried', 'her', 'best', 'to', 'climb', 'up', 'one', 'of', 'the', 'legs', 'of', 'the', 'table', ',', 'but', 'it', 'was', 'too', 'slippery', ';', 'and', 'when', 'she', 'had', 'tired', 'herself', 'out', 'with', 'trying', ',', 'the', 'poor', 'little', 'thing', 'sat', 'down', 'and', 'cried', '.'], [\"'\", 'Come', ',', 'there', \"'s\", 'no', 'use', 'in', 'crying', 'like', 'that', '!', \"'\", 'said', 'Alice', 'to', 'herself', ',', 'rather', 'sharply', ';', \"'\", 'I', 'advise', 'you', 'to', 'leave', 'off', 'this', 'minute', '!', \"'\"], ['She', 'generally', 'gave', 'herself', 'very', 'good', 'advice', ',', '(', 'though', 'she', 'very', 'seldom', 'followed', 'it', ')', ',', 'and', 'sometimes', 'she', 'scolded', 'herself', 'so', 'severely', 'as', 'to', 'bring', 'tears', 'into', 'her', 'eyes', ';', 'and', 'once', 'she', 'remembered', 'trying', 'to', 'box', 'her', 'own', 'ears', 'for', 'having', 'cheated', 'herself', 'in', 'a', 'game', 'of', 'croquet', 'she', 'was', 'playing', 'against', 'herself', ',', 'for', 'this', 'curious', 'child', 'was', 'very', 'fond', 'of', 'pretending', 'to', 'be', 'two', 'people', '.'], [\"'\", 'But', 'it', \"'s\", 'no', 'use', 'now', ',', \"'\", 'thought', 'poor', 'Alice', ',', \"'\", 'to', 'pretend', 'to', 'be', 'two', 'people', '!'], ['Why', ',', 'there', \"'s\", 'hardly', 'enough', 'of', 'me', 'left', 'to', 'make', 'ONE', 'respectable', 'person', '!', \"'\"], ['Soon', 'her', 'eye', 'fell', 'on', 'a', 'little', 'glass', 'box', 'that', 'was', 'lying', 'under', 'the', 'table', ':', 'she', 'opened', 'it', ',', 'and', 'found', 'in', 'it', 'a', 'very', 'small', 'cake', ',', 'on', 'which', 'the', 'words', \"'\", 'EAT', 'ME', \"'\", 'were', 'beautifully', 'marked', 'in', 'currants', '.'], [\"'\", 'Well', ',', 'I', \"'ll\", 'eat', 'it', ',', \"'\", 'said', 'Alice', ',', \"'\", 'and', 'if', 'it', 'makes', 'me', 'grow', 'larger', ',', 'I', 'can', 'reach', 'the', 'key', ';', 'and', 'if', 'it', 'makes', 'me', 'grow', 'smaller', ',', 'I', 'can', 'creep', 'under', 'the', 'door', ';', 'so', 'either', 'way', 'I', \"'ll\", 'get', 'into', 'the', 'garden', ',', 'and', 'I', 'do', \"n't\", 'care', 'which', 'happens', '!', \"'\"], ['She', 'ate', 'a', 'little', 'bit', ',', 'and', 'said', 'anxiously', 'to', 'herself', ',', \"'\", 'Which', 'way', '?'], ['Which', 'way', '?', \"'\", ',', 'holding', 'her', 'hand', 'on', 'the', 'top', 'of', 'her', 'head', 'to', 'feel', 'which', 'way', 'it', 'was', 'growing', ',', 'and', 'she', 'was', 'quite', 'surprised', 'to', 'find', 'that', 'she', 'remained', 'the', 'same', 'size', ':', 'to', 'be', 'sure', ',', 'this', 'generally', 'happens', 'when', 'one', 'eats', 'cake', ',', 'but', 'Alice', 'had', 'got', 'so', 'much', 'into', 'the', 'way', 'of', 'expecting', 'nothing', 'but', 'out', '-', 'of', '-', 'the', '-', 'way', 'things', 'to', 'happen', ',', 'that', 'it', 'seemed', 'quite', 'dull', 'and', 'stupid', 'for', 'life', 'to', 'go', 'on', 'in', 'the', 'common', 'way', '.'], ['So', 'she', 'set', 'to', 'work', ',', 'and', 'very', 'soon', 'finished', 'off', 'the', 'cake', '.']]\n"
          ]
        }
      ],
      "source": [
        "src_spacy_tokenized_sents = []\n",
        "# process src_sents, tgt_sents with spacy tokenizer\n",
        "for src in src_sents:\n",
        "    doc_src = nlp_en(src)\n",
        "    src_tokens = [token.text for token in doc_src]\n",
        "    src_spacy_tokenized_sents.append(src_tokens)\n",
        "\n",
        "print(src_spacy_tokenized_sents)"
      ]
    },
    {
      "cell_type": "code",
      "execution_count": null,
      "metadata": {},
      "outputs": [],
      "source": [
        "for src, tgt in zip(src_spacy_tokenized_sents, src_tokenized_sents):\n",
        "    spacy_src_tokens = src\n",
        "    mbert_src_tokens = tgt\n",
        "    print(src, tgt)\n",
        "\n",
        "    a2b, b2a = tokenizations.get_alignments(spacy_src_tokens, mbert_src_tokens)\n",
        "\n",
        "    def transform(input_list):\n",
        "        result = []\n",
        "        for i, sublist in enumerate(input_list):\n",
        "            for j in sublist:\n",
        "                result.append([i, j])\n",
        "        return result\n",
        "\n",
        "    a = transform(a2b)\n",
        "    display(show_word_alignments(src, tgt, a))"
      ]
    }
  ],
  "metadata": {
    "accelerator": "GPU",
    "colab": {
      "gpuType": "T4",
      "include_colab_link": true,
      "provenance": []
    },
    "kernelspec": {
      "display_name": "Python 3",
      "name": "python3"
    },
    "language_info": {
      "codemirror_mode": {
        "name": "ipython",
        "version": 3
      },
      "file_extension": ".py",
      "mimetype": "text/x-python",
      "name": "python",
      "nbconvert_exporter": "python",
      "pygments_lexer": "ipython3",
      "version": "3.10.12"
    }
  },
  "nbformat": 4,
  "nbformat_minor": 0
}
